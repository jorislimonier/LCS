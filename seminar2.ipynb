{
 "cells": [
  {
   "cell_type": "code",
   "execution_count": 1,
   "metadata": {},
   "outputs": [],
   "source": [
    "import numpy as np\n",
    "import pandas as pd\n",
    "import time\n",
    "import plotly.express as px\n",
    "import json"
   ]
  },
  {
   "source": [
    "## Finding the LCS"
   ],
   "cell_type": "markdown",
   "metadata": {}
  },
  {
   "cell_type": "code",
   "execution_count": 10,
   "metadata": {},
   "outputs": [],
   "source": [
    "np.random.seed(42)\n",
    "\n",
    "class Sequence():\n",
    "    def __init__(self, length, char):\n",
    "        self.length = length\n",
    "        self.char = char\n",
    "        \n",
    "    def generate_sequence(self):\n",
    "        # generate a random sequence of size self.length with the self.char characters\n",
    "        return np.random.choice(list(self.char), size=self.length)\n",
    "        \n",
    "        creates\n",
    "        \n",
    "def find_LCS(X, Y):\n",
    "    return \n",
    "                \n",
    "length_LCS =  []\n",
    "seq_length = 10\n",
    "char = [\"a\", \"b\", \"c\", \"d\", \"e\", \"f\"]\n",
    "nb_char = len(np.unique(char))\n",
    "X = Sequence(3, char).generate_sequence()\n",
    "Y = Sequence(4, char).generate_sequence()\n",
    "find_LCS(X, Y)"
   ]
  },
  {
   "cell_type": "code",
   "execution_count": 11,
   "metadata": {},
   "outputs": [
    {
     "output_type": "stream",
     "name": "stdout",
     "text": [
      "29 41  a\n28 40  a\n27 39  b\n26 33  b\n25 32  e\n24 31  b\n23 27  f\n22 24  f\n21 23  a\n20 21  f\n19 20  e\n18 19  e\n17 18  d\n16 17  c\n15 16  d\n14 15  a\n13 14  e\n12 13  a\n11 12  e\n10 11  a\n9 10  c\n8 9  c\n7 8  b\n6 6  b\n5 5  e\n4 4  d\n3 3  d\n2 2  b\n1 1  e\n"
     ]
    },
    {
     "output_type": "display_data",
     "data": {
      "text/plain": "     999  e  e  e  c  b  d  a  f  e  ...   e   b   b   f   c   a   e   c   e  \\\n999    0  0  0  0  0  0  0  0  0  0  ...   0   0   0   0   0   0   0   0   0   \ne      0  1  1  1  1  1  1  1  1  1  ...   1   1   1   1   1   1   1   1   1   \nb      0  1  1  1  1  2  2  2  2  2  ...   2   2   2   2   2   2   2   2   2   \nd      0  1  1  1  1  2  3  3  3  3  ...   3   3   3   3   3   3   3   3   3   \nd      0  1  1  1  1  2  3  3  3  3  ...   4   4   4   4   4   4   4   4   4   \ne      0  1  2  2  2  2  3  3  3  4  ...   5   5   5   5   5   5   5   5   5   \nb      0  1  2  2  2  3  3  3  3  4  ...   6   6   6   6   6   6   6   6   6   \na      0  1  2  2  2  3  3  4  4  4  ...   7   7   7   7   7   7   7   7   7   \nb      0  1  2  2  2  3  3  4  4  4  ...   8   8   8   8   8   8   8   8   8   \nc      0  1  2  2  3  3  3  4  4  4  ...   9   9   9   9   9   9   9   9   9   \nc      0  1  2  2  3  3  3  4  4  4  ...  10  10  10  10  10  10  10  10  10   \na      0  1  2  2  3  3  3  4  4  4  ...  11  11  11  11  11  11  11  11  11   \ne      0  1  2  3  3  3  3  4  4  5  ...  12  12  12  12  12  12  12  12  12   \na      0  1  2  3  3  3  3  4  4  5  ...  12  12  12  12  12  13  13  13  13   \ne      0  1  2  3  3  3  3  4  4  5  ...  13  13  13  13  13  13  14  14  14   \na      0  1  2  3  3  3  3  4  4  5  ...  14  14  14  14  14  14  14  14  14   \nd      0  1  2  3  3  3  4  4  4  5  ...  15  15  15  15  15  15  15  15  15   \nc      0  1  2  3  4  4  4  4  4  5  ...  16  16  16  16  16  16  16  16  16   \nd      0  1  2  3  4  4  5  5  5  5  ...  17  17  17  17  17  17  17  17  17   \ne      0  1  2  3  4  4  5  5  5  6  ...  18  18  18  18  18  18  18  18  18   \ne      0  1  2  3  4  4  5  5  5  6  ...  19  19  19  19  19  19  19  19  19   \nf      0  1  2  3  4  4  5  5  6  6  ...  20  20  20  20  20  20  20  20  20   \na      0  1  2  3  4  4  5  6  6  6  ...  21  21  21  21  21  21  21  21  21   \na      0  1  2  3  4  4  5  6  6  6  ...  21  21  21  21  21  22  22  22  22   \nf      0  1  2  3  4  4  5  6  7  7  ...  22  22  22  22  22  22  22  22  22   \na      0  1  2  3  4  4  5  6  7  7  ...  22  22  22  22  22  23  23  23  23   \nd      0  1  2  3  4  4  5  6  7  7  ...  23  23  23  23  23  23  23  23  23   \nf      0  1  2  3  4  4  5  6  7  7  ...  24  24  24  24  24  24  24  24  24   \na      0  1  2  3  4  4  5  6  7  7  ...  24  24  24  24  24  25  25  25  25   \nc      0  1  2  3  4  4  5  6  7  7  ...  24  24  24  24  25  25  25  26  26   \na      0  1  2  3  4  4  5  6  7  7  ...  24  24  24  24  25  26  26  26  26   \nb      0  1  2  3  4  5  5  6  7  7  ...  24  25  25  25  25  26  26  26  26   \ne      0  1  2  3  4  5  5  6  7  8  ...  25  25  25  25  25  26  27  27  27   \nb      0  1  2  3  4  5  5  6  7  8  ...  25  26  26  26  26  26  27  27  27   \nd      0  1  2  3  4  5  6  6  7  8  ...  25  26  26  26  26  26  27  27  27   \nd      0  1  2  3  4  5  6  6  7  8  ...  25  26  26  26  26  26  27  27  27   \na      0  1  2  3  4  5  6  7  7  8  ...  25  26  26  26  26  27  27  27  27   \nd      0  1  2  3  4  5  6  7  7  8  ...  25  26  26  26  26  27  27  27  27   \na      0  1  2  3  4  5  6  7  7  8  ...  25  26  26  26  26  27  27  27  27   \nb      0  1  2  3  4  5  6  7  7  8  ...  26  26  27  27  27  27  27  27  27   \na      0  1  2  3  4  5  6  7  7  8  ...  26  26  27  27  27  28  28  28  28   \na      0  1  2  3  4  5  6  7  7  8  ...  26  26  27  27  27  28  28  28  28   \nf      0  1  2  3  4  5  6  7  8  8  ...  27  27  27  28  28  28  28  28  28   \n\n      a  \n999   0  \ne     1  \nb     2  \nd     3  \nd     4  \ne     5  \nb     6  \na     7  \nb     8  \nc     9  \nc    10  \na    11  \ne    12  \na    13  \ne    14  \na    15  \nd    15  \nc    16  \nd    17  \ne    18  \ne    19  \nf    20  \na    21  \na    22  \nf    22  \na    23  \nd    23  \nf    24  \na    25  \nc    26  \na    27  \nb    27  \ne    27  \nb    27  \nd    27  \nd    27  \na    28  \nd    28  \na    28  \nb    28  \na    28  \na    29  \nf    29  \n\n[43 rows x 85 columns]",
      "text/html": "<div>\n<style scoped>\n    .dataframe tbody tr th:only-of-type {\n        vertical-align: middle;\n    }\n\n    .dataframe tbody tr th {\n        vertical-align: top;\n    }\n\n    .dataframe thead th {\n        text-align: right;\n    }\n</style>\n<table border=\"1\" class=\"dataframe\">\n  <thead>\n    <tr style=\"text-align: right;\">\n      <th></th>\n      <th>999</th>\n      <th>e</th>\n      <th>e</th>\n      <th>e</th>\n      <th>c</th>\n      <th>b</th>\n      <th>d</th>\n      <th>a</th>\n      <th>f</th>\n      <th>e</th>\n      <th>...</th>\n      <th>e</th>\n      <th>b</th>\n      <th>b</th>\n      <th>f</th>\n      <th>c</th>\n      <th>a</th>\n      <th>e</th>\n      <th>c</th>\n      <th>e</th>\n      <th>a</th>\n    </tr>\n  </thead>\n  <tbody>\n    <tr>\n      <th>999</th>\n      <td>0</td>\n      <td>0</td>\n      <td>0</td>\n      <td>0</td>\n      <td>0</td>\n      <td>0</td>\n      <td>0</td>\n      <td>0</td>\n      <td>0</td>\n      <td>0</td>\n      <td>...</td>\n      <td>0</td>\n      <td>0</td>\n      <td>0</td>\n      <td>0</td>\n      <td>0</td>\n      <td>0</td>\n      <td>0</td>\n      <td>0</td>\n      <td>0</td>\n      <td>0</td>\n    </tr>\n    <tr>\n      <th>e</th>\n      <td>0</td>\n      <td>1</td>\n      <td>1</td>\n      <td>1</td>\n      <td>1</td>\n      <td>1</td>\n      <td>1</td>\n      <td>1</td>\n      <td>1</td>\n      <td>1</td>\n      <td>...</td>\n      <td>1</td>\n      <td>1</td>\n      <td>1</td>\n      <td>1</td>\n      <td>1</td>\n      <td>1</td>\n      <td>1</td>\n      <td>1</td>\n      <td>1</td>\n      <td>1</td>\n    </tr>\n    <tr>\n      <th>b</th>\n      <td>0</td>\n      <td>1</td>\n      <td>1</td>\n      <td>1</td>\n      <td>1</td>\n      <td>2</td>\n      <td>2</td>\n      <td>2</td>\n      <td>2</td>\n      <td>2</td>\n      <td>...</td>\n      <td>2</td>\n      <td>2</td>\n      <td>2</td>\n      <td>2</td>\n      <td>2</td>\n      <td>2</td>\n      <td>2</td>\n      <td>2</td>\n      <td>2</td>\n      <td>2</td>\n    </tr>\n    <tr>\n      <th>d</th>\n      <td>0</td>\n      <td>1</td>\n      <td>1</td>\n      <td>1</td>\n      <td>1</td>\n      <td>2</td>\n      <td>3</td>\n      <td>3</td>\n      <td>3</td>\n      <td>3</td>\n      <td>...</td>\n      <td>3</td>\n      <td>3</td>\n      <td>3</td>\n      <td>3</td>\n      <td>3</td>\n      <td>3</td>\n      <td>3</td>\n      <td>3</td>\n      <td>3</td>\n      <td>3</td>\n    </tr>\n    <tr>\n      <th>d</th>\n      <td>0</td>\n      <td>1</td>\n      <td>1</td>\n      <td>1</td>\n      <td>1</td>\n      <td>2</td>\n      <td>3</td>\n      <td>3</td>\n      <td>3</td>\n      <td>3</td>\n      <td>...</td>\n      <td>4</td>\n      <td>4</td>\n      <td>4</td>\n      <td>4</td>\n      <td>4</td>\n      <td>4</td>\n      <td>4</td>\n      <td>4</td>\n      <td>4</td>\n      <td>4</td>\n    </tr>\n    <tr>\n      <th>e</th>\n      <td>0</td>\n      <td>1</td>\n      <td>2</td>\n      <td>2</td>\n      <td>2</td>\n      <td>2</td>\n      <td>3</td>\n      <td>3</td>\n      <td>3</td>\n      <td>4</td>\n      <td>...</td>\n      <td>5</td>\n      <td>5</td>\n      <td>5</td>\n      <td>5</td>\n      <td>5</td>\n      <td>5</td>\n      <td>5</td>\n      <td>5</td>\n      <td>5</td>\n      <td>5</td>\n    </tr>\n    <tr>\n      <th>b</th>\n      <td>0</td>\n      <td>1</td>\n      <td>2</td>\n      <td>2</td>\n      <td>2</td>\n      <td>3</td>\n      <td>3</td>\n      <td>3</td>\n      <td>3</td>\n      <td>4</td>\n      <td>...</td>\n      <td>6</td>\n      <td>6</td>\n      <td>6</td>\n      <td>6</td>\n      <td>6</td>\n      <td>6</td>\n      <td>6</td>\n      <td>6</td>\n      <td>6</td>\n      <td>6</td>\n    </tr>\n    <tr>\n      <th>a</th>\n      <td>0</td>\n      <td>1</td>\n      <td>2</td>\n      <td>2</td>\n      <td>2</td>\n      <td>3</td>\n      <td>3</td>\n      <td>4</td>\n      <td>4</td>\n      <td>4</td>\n      <td>...</td>\n      <td>7</td>\n      <td>7</td>\n      <td>7</td>\n      <td>7</td>\n      <td>7</td>\n      <td>7</td>\n      <td>7</td>\n      <td>7</td>\n      <td>7</td>\n      <td>7</td>\n    </tr>\n    <tr>\n      <th>b</th>\n      <td>0</td>\n      <td>1</td>\n      <td>2</td>\n      <td>2</td>\n      <td>2</td>\n      <td>3</td>\n      <td>3</td>\n      <td>4</td>\n      <td>4</td>\n      <td>4</td>\n      <td>...</td>\n      <td>8</td>\n      <td>8</td>\n      <td>8</td>\n      <td>8</td>\n      <td>8</td>\n      <td>8</td>\n      <td>8</td>\n      <td>8</td>\n      <td>8</td>\n      <td>8</td>\n    </tr>\n    <tr>\n      <th>c</th>\n      <td>0</td>\n      <td>1</td>\n      <td>2</td>\n      <td>2</td>\n      <td>3</td>\n      <td>3</td>\n      <td>3</td>\n      <td>4</td>\n      <td>4</td>\n      <td>4</td>\n      <td>...</td>\n      <td>9</td>\n      <td>9</td>\n      <td>9</td>\n      <td>9</td>\n      <td>9</td>\n      <td>9</td>\n      <td>9</td>\n      <td>9</td>\n      <td>9</td>\n      <td>9</td>\n    </tr>\n    <tr>\n      <th>c</th>\n      <td>0</td>\n      <td>1</td>\n      <td>2</td>\n      <td>2</td>\n      <td>3</td>\n      <td>3</td>\n      <td>3</td>\n      <td>4</td>\n      <td>4</td>\n      <td>4</td>\n      <td>...</td>\n      <td>10</td>\n      <td>10</td>\n      <td>10</td>\n      <td>10</td>\n      <td>10</td>\n      <td>10</td>\n      <td>10</td>\n      <td>10</td>\n      <td>10</td>\n      <td>10</td>\n    </tr>\n    <tr>\n      <th>a</th>\n      <td>0</td>\n      <td>1</td>\n      <td>2</td>\n      <td>2</td>\n      <td>3</td>\n      <td>3</td>\n      <td>3</td>\n      <td>4</td>\n      <td>4</td>\n      <td>4</td>\n      <td>...</td>\n      <td>11</td>\n      <td>11</td>\n      <td>11</td>\n      <td>11</td>\n      <td>11</td>\n      <td>11</td>\n      <td>11</td>\n      <td>11</td>\n      <td>11</td>\n      <td>11</td>\n    </tr>\n    <tr>\n      <th>e</th>\n      <td>0</td>\n      <td>1</td>\n      <td>2</td>\n      <td>3</td>\n      <td>3</td>\n      <td>3</td>\n      <td>3</td>\n      <td>4</td>\n      <td>4</td>\n      <td>5</td>\n      <td>...</td>\n      <td>12</td>\n      <td>12</td>\n      <td>12</td>\n      <td>12</td>\n      <td>12</td>\n      <td>12</td>\n      <td>12</td>\n      <td>12</td>\n      <td>12</td>\n      <td>12</td>\n    </tr>\n    <tr>\n      <th>a</th>\n      <td>0</td>\n      <td>1</td>\n      <td>2</td>\n      <td>3</td>\n      <td>3</td>\n      <td>3</td>\n      <td>3</td>\n      <td>4</td>\n      <td>4</td>\n      <td>5</td>\n      <td>...</td>\n      <td>12</td>\n      <td>12</td>\n      <td>12</td>\n      <td>12</td>\n      <td>12</td>\n      <td>13</td>\n      <td>13</td>\n      <td>13</td>\n      <td>13</td>\n      <td>13</td>\n    </tr>\n    <tr>\n      <th>e</th>\n      <td>0</td>\n      <td>1</td>\n      <td>2</td>\n      <td>3</td>\n      <td>3</td>\n      <td>3</td>\n      <td>3</td>\n      <td>4</td>\n      <td>4</td>\n      <td>5</td>\n      <td>...</td>\n      <td>13</td>\n      <td>13</td>\n      <td>13</td>\n      <td>13</td>\n      <td>13</td>\n      <td>13</td>\n      <td>14</td>\n      <td>14</td>\n      <td>14</td>\n      <td>14</td>\n    </tr>\n    <tr>\n      <th>a</th>\n      <td>0</td>\n      <td>1</td>\n      <td>2</td>\n      <td>3</td>\n      <td>3</td>\n      <td>3</td>\n      <td>3</td>\n      <td>4</td>\n      <td>4</td>\n      <td>5</td>\n      <td>...</td>\n      <td>14</td>\n      <td>14</td>\n      <td>14</td>\n      <td>14</td>\n      <td>14</td>\n      <td>14</td>\n      <td>14</td>\n      <td>14</td>\n      <td>14</td>\n      <td>15</td>\n    </tr>\n    <tr>\n      <th>d</th>\n      <td>0</td>\n      <td>1</td>\n      <td>2</td>\n      <td>3</td>\n      <td>3</td>\n      <td>3</td>\n      <td>4</td>\n      <td>4</td>\n      <td>4</td>\n      <td>5</td>\n      <td>...</td>\n      <td>15</td>\n      <td>15</td>\n      <td>15</td>\n      <td>15</td>\n      <td>15</td>\n      <td>15</td>\n      <td>15</td>\n      <td>15</td>\n      <td>15</td>\n      <td>15</td>\n    </tr>\n    <tr>\n      <th>c</th>\n      <td>0</td>\n      <td>1</td>\n      <td>2</td>\n      <td>3</td>\n      <td>4</td>\n      <td>4</td>\n      <td>4</td>\n      <td>4</td>\n      <td>4</td>\n      <td>5</td>\n      <td>...</td>\n      <td>16</td>\n      <td>16</td>\n      <td>16</td>\n      <td>16</td>\n      <td>16</td>\n      <td>16</td>\n      <td>16</td>\n      <td>16</td>\n      <td>16</td>\n      <td>16</td>\n    </tr>\n    <tr>\n      <th>d</th>\n      <td>0</td>\n      <td>1</td>\n      <td>2</td>\n      <td>3</td>\n      <td>4</td>\n      <td>4</td>\n      <td>5</td>\n      <td>5</td>\n      <td>5</td>\n      <td>5</td>\n      <td>...</td>\n      <td>17</td>\n      <td>17</td>\n      <td>17</td>\n      <td>17</td>\n      <td>17</td>\n      <td>17</td>\n      <td>17</td>\n      <td>17</td>\n      <td>17</td>\n      <td>17</td>\n    </tr>\n    <tr>\n      <th>e</th>\n      <td>0</td>\n      <td>1</td>\n      <td>2</td>\n      <td>3</td>\n      <td>4</td>\n      <td>4</td>\n      <td>5</td>\n      <td>5</td>\n      <td>5</td>\n      <td>6</td>\n      <td>...</td>\n      <td>18</td>\n      <td>18</td>\n      <td>18</td>\n      <td>18</td>\n      <td>18</td>\n      <td>18</td>\n      <td>18</td>\n      <td>18</td>\n      <td>18</td>\n      <td>18</td>\n    </tr>\n    <tr>\n      <th>e</th>\n      <td>0</td>\n      <td>1</td>\n      <td>2</td>\n      <td>3</td>\n      <td>4</td>\n      <td>4</td>\n      <td>5</td>\n      <td>5</td>\n      <td>5</td>\n      <td>6</td>\n      <td>...</td>\n      <td>19</td>\n      <td>19</td>\n      <td>19</td>\n      <td>19</td>\n      <td>19</td>\n      <td>19</td>\n      <td>19</td>\n      <td>19</td>\n      <td>19</td>\n      <td>19</td>\n    </tr>\n    <tr>\n      <th>f</th>\n      <td>0</td>\n      <td>1</td>\n      <td>2</td>\n      <td>3</td>\n      <td>4</td>\n      <td>4</td>\n      <td>5</td>\n      <td>5</td>\n      <td>6</td>\n      <td>6</td>\n      <td>...</td>\n      <td>20</td>\n      <td>20</td>\n      <td>20</td>\n      <td>20</td>\n      <td>20</td>\n      <td>20</td>\n      <td>20</td>\n      <td>20</td>\n      <td>20</td>\n      <td>20</td>\n    </tr>\n    <tr>\n      <th>a</th>\n      <td>0</td>\n      <td>1</td>\n      <td>2</td>\n      <td>3</td>\n      <td>4</td>\n      <td>4</td>\n      <td>5</td>\n      <td>6</td>\n      <td>6</td>\n      <td>6</td>\n      <td>...</td>\n      <td>21</td>\n      <td>21</td>\n      <td>21</td>\n      <td>21</td>\n      <td>21</td>\n      <td>21</td>\n      <td>21</td>\n      <td>21</td>\n      <td>21</td>\n      <td>21</td>\n    </tr>\n    <tr>\n      <th>a</th>\n      <td>0</td>\n      <td>1</td>\n      <td>2</td>\n      <td>3</td>\n      <td>4</td>\n      <td>4</td>\n      <td>5</td>\n      <td>6</td>\n      <td>6</td>\n      <td>6</td>\n      <td>...</td>\n      <td>21</td>\n      <td>21</td>\n      <td>21</td>\n      <td>21</td>\n      <td>21</td>\n      <td>22</td>\n      <td>22</td>\n      <td>22</td>\n      <td>22</td>\n      <td>22</td>\n    </tr>\n    <tr>\n      <th>f</th>\n      <td>0</td>\n      <td>1</td>\n      <td>2</td>\n      <td>3</td>\n      <td>4</td>\n      <td>4</td>\n      <td>5</td>\n      <td>6</td>\n      <td>7</td>\n      <td>7</td>\n      <td>...</td>\n      <td>22</td>\n      <td>22</td>\n      <td>22</td>\n      <td>22</td>\n      <td>22</td>\n      <td>22</td>\n      <td>22</td>\n      <td>22</td>\n      <td>22</td>\n      <td>22</td>\n    </tr>\n    <tr>\n      <th>a</th>\n      <td>0</td>\n      <td>1</td>\n      <td>2</td>\n      <td>3</td>\n      <td>4</td>\n      <td>4</td>\n      <td>5</td>\n      <td>6</td>\n      <td>7</td>\n      <td>7</td>\n      <td>...</td>\n      <td>22</td>\n      <td>22</td>\n      <td>22</td>\n      <td>22</td>\n      <td>22</td>\n      <td>23</td>\n      <td>23</td>\n      <td>23</td>\n      <td>23</td>\n      <td>23</td>\n    </tr>\n    <tr>\n      <th>d</th>\n      <td>0</td>\n      <td>1</td>\n      <td>2</td>\n      <td>3</td>\n      <td>4</td>\n      <td>4</td>\n      <td>5</td>\n      <td>6</td>\n      <td>7</td>\n      <td>7</td>\n      <td>...</td>\n      <td>23</td>\n      <td>23</td>\n      <td>23</td>\n      <td>23</td>\n      <td>23</td>\n      <td>23</td>\n      <td>23</td>\n      <td>23</td>\n      <td>23</td>\n      <td>23</td>\n    </tr>\n    <tr>\n      <th>f</th>\n      <td>0</td>\n      <td>1</td>\n      <td>2</td>\n      <td>3</td>\n      <td>4</td>\n      <td>4</td>\n      <td>5</td>\n      <td>6</td>\n      <td>7</td>\n      <td>7</td>\n      <td>...</td>\n      <td>24</td>\n      <td>24</td>\n      <td>24</td>\n      <td>24</td>\n      <td>24</td>\n      <td>24</td>\n      <td>24</td>\n      <td>24</td>\n      <td>24</td>\n      <td>24</td>\n    </tr>\n    <tr>\n      <th>a</th>\n      <td>0</td>\n      <td>1</td>\n      <td>2</td>\n      <td>3</td>\n      <td>4</td>\n      <td>4</td>\n      <td>5</td>\n      <td>6</td>\n      <td>7</td>\n      <td>7</td>\n      <td>...</td>\n      <td>24</td>\n      <td>24</td>\n      <td>24</td>\n      <td>24</td>\n      <td>24</td>\n      <td>25</td>\n      <td>25</td>\n      <td>25</td>\n      <td>25</td>\n      <td>25</td>\n    </tr>\n    <tr>\n      <th>c</th>\n      <td>0</td>\n      <td>1</td>\n      <td>2</td>\n      <td>3</td>\n      <td>4</td>\n      <td>4</td>\n      <td>5</td>\n      <td>6</td>\n      <td>7</td>\n      <td>7</td>\n      <td>...</td>\n      <td>24</td>\n      <td>24</td>\n      <td>24</td>\n      <td>24</td>\n      <td>25</td>\n      <td>25</td>\n      <td>25</td>\n      <td>26</td>\n      <td>26</td>\n      <td>26</td>\n    </tr>\n    <tr>\n      <th>a</th>\n      <td>0</td>\n      <td>1</td>\n      <td>2</td>\n      <td>3</td>\n      <td>4</td>\n      <td>4</td>\n      <td>5</td>\n      <td>6</td>\n      <td>7</td>\n      <td>7</td>\n      <td>...</td>\n      <td>24</td>\n      <td>24</td>\n      <td>24</td>\n      <td>24</td>\n      <td>25</td>\n      <td>26</td>\n      <td>26</td>\n      <td>26</td>\n      <td>26</td>\n      <td>27</td>\n    </tr>\n    <tr>\n      <th>b</th>\n      <td>0</td>\n      <td>1</td>\n      <td>2</td>\n      <td>3</td>\n      <td>4</td>\n      <td>5</td>\n      <td>5</td>\n      <td>6</td>\n      <td>7</td>\n      <td>7</td>\n      <td>...</td>\n      <td>24</td>\n      <td>25</td>\n      <td>25</td>\n      <td>25</td>\n      <td>25</td>\n      <td>26</td>\n      <td>26</td>\n      <td>26</td>\n      <td>26</td>\n      <td>27</td>\n    </tr>\n    <tr>\n      <th>e</th>\n      <td>0</td>\n      <td>1</td>\n      <td>2</td>\n      <td>3</td>\n      <td>4</td>\n      <td>5</td>\n      <td>5</td>\n      <td>6</td>\n      <td>7</td>\n      <td>8</td>\n      <td>...</td>\n      <td>25</td>\n      <td>25</td>\n      <td>25</td>\n      <td>25</td>\n      <td>25</td>\n      <td>26</td>\n      <td>27</td>\n      <td>27</td>\n      <td>27</td>\n      <td>27</td>\n    </tr>\n    <tr>\n      <th>b</th>\n      <td>0</td>\n      <td>1</td>\n      <td>2</td>\n      <td>3</td>\n      <td>4</td>\n      <td>5</td>\n      <td>5</td>\n      <td>6</td>\n      <td>7</td>\n      <td>8</td>\n      <td>...</td>\n      <td>25</td>\n      <td>26</td>\n      <td>26</td>\n      <td>26</td>\n      <td>26</td>\n      <td>26</td>\n      <td>27</td>\n      <td>27</td>\n      <td>27</td>\n      <td>27</td>\n    </tr>\n    <tr>\n      <th>d</th>\n      <td>0</td>\n      <td>1</td>\n      <td>2</td>\n      <td>3</td>\n      <td>4</td>\n      <td>5</td>\n      <td>6</td>\n      <td>6</td>\n      <td>7</td>\n      <td>8</td>\n      <td>...</td>\n      <td>25</td>\n      <td>26</td>\n      <td>26</td>\n      <td>26</td>\n      <td>26</td>\n      <td>26</td>\n      <td>27</td>\n      <td>27</td>\n      <td>27</td>\n      <td>27</td>\n    </tr>\n    <tr>\n      <th>d</th>\n      <td>0</td>\n      <td>1</td>\n      <td>2</td>\n      <td>3</td>\n      <td>4</td>\n      <td>5</td>\n      <td>6</td>\n      <td>6</td>\n      <td>7</td>\n      <td>8</td>\n      <td>...</td>\n      <td>25</td>\n      <td>26</td>\n      <td>26</td>\n      <td>26</td>\n      <td>26</td>\n      <td>26</td>\n      <td>27</td>\n      <td>27</td>\n      <td>27</td>\n      <td>27</td>\n    </tr>\n    <tr>\n      <th>a</th>\n      <td>0</td>\n      <td>1</td>\n      <td>2</td>\n      <td>3</td>\n      <td>4</td>\n      <td>5</td>\n      <td>6</td>\n      <td>7</td>\n      <td>7</td>\n      <td>8</td>\n      <td>...</td>\n      <td>25</td>\n      <td>26</td>\n      <td>26</td>\n      <td>26</td>\n      <td>26</td>\n      <td>27</td>\n      <td>27</td>\n      <td>27</td>\n      <td>27</td>\n      <td>28</td>\n    </tr>\n    <tr>\n      <th>d</th>\n      <td>0</td>\n      <td>1</td>\n      <td>2</td>\n      <td>3</td>\n      <td>4</td>\n      <td>5</td>\n      <td>6</td>\n      <td>7</td>\n      <td>7</td>\n      <td>8</td>\n      <td>...</td>\n      <td>25</td>\n      <td>26</td>\n      <td>26</td>\n      <td>26</td>\n      <td>26</td>\n      <td>27</td>\n      <td>27</td>\n      <td>27</td>\n      <td>27</td>\n      <td>28</td>\n    </tr>\n    <tr>\n      <th>a</th>\n      <td>0</td>\n      <td>1</td>\n      <td>2</td>\n      <td>3</td>\n      <td>4</td>\n      <td>5</td>\n      <td>6</td>\n      <td>7</td>\n      <td>7</td>\n      <td>8</td>\n      <td>...</td>\n      <td>25</td>\n      <td>26</td>\n      <td>26</td>\n      <td>26</td>\n      <td>26</td>\n      <td>27</td>\n      <td>27</td>\n      <td>27</td>\n      <td>27</td>\n      <td>28</td>\n    </tr>\n    <tr>\n      <th>b</th>\n      <td>0</td>\n      <td>1</td>\n      <td>2</td>\n      <td>3</td>\n      <td>4</td>\n      <td>5</td>\n      <td>6</td>\n      <td>7</td>\n      <td>7</td>\n      <td>8</td>\n      <td>...</td>\n      <td>26</td>\n      <td>26</td>\n      <td>27</td>\n      <td>27</td>\n      <td>27</td>\n      <td>27</td>\n      <td>27</td>\n      <td>27</td>\n      <td>27</td>\n      <td>28</td>\n    </tr>\n    <tr>\n      <th>a</th>\n      <td>0</td>\n      <td>1</td>\n      <td>2</td>\n      <td>3</td>\n      <td>4</td>\n      <td>5</td>\n      <td>6</td>\n      <td>7</td>\n      <td>7</td>\n      <td>8</td>\n      <td>...</td>\n      <td>26</td>\n      <td>26</td>\n      <td>27</td>\n      <td>27</td>\n      <td>27</td>\n      <td>28</td>\n      <td>28</td>\n      <td>28</td>\n      <td>28</td>\n      <td>28</td>\n    </tr>\n    <tr>\n      <th>a</th>\n      <td>0</td>\n      <td>1</td>\n      <td>2</td>\n      <td>3</td>\n      <td>4</td>\n      <td>5</td>\n      <td>6</td>\n      <td>7</td>\n      <td>7</td>\n      <td>8</td>\n      <td>...</td>\n      <td>26</td>\n      <td>26</td>\n      <td>27</td>\n      <td>27</td>\n      <td>27</td>\n      <td>28</td>\n      <td>28</td>\n      <td>28</td>\n      <td>28</td>\n      <td>29</td>\n    </tr>\n    <tr>\n      <th>f</th>\n      <td>0</td>\n      <td>1</td>\n      <td>2</td>\n      <td>3</td>\n      <td>4</td>\n      <td>5</td>\n      <td>6</td>\n      <td>7</td>\n      <td>8</td>\n      <td>8</td>\n      <td>...</td>\n      <td>27</td>\n      <td>27</td>\n      <td>27</td>\n      <td>28</td>\n      <td>28</td>\n      <td>28</td>\n      <td>28</td>\n      <td>28</td>\n      <td>28</td>\n      <td>29</td>\n    </tr>\n  </tbody>\n</table>\n<p>43 rows × 85 columns</p>\n</div>"
     },
     "metadata": {}
    },
    {
     "output_type": "execute_result",
     "data": {
      "text/plain": [
       "array(['e', 'b', 'd', 'd', 'e', 'b', 'b', 'c', 'c', 'a', 'e', 'a', 'e',\n",
       "       'a', 'd', 'c', 'd', 'e', 'e', 'f', 'a', 'f', 'f', 'b', 'e', 'b',\n",
       "       'b', 'a', 'a'], dtype='<U1')"
      ]
     },
     "metadata": {},
     "execution_count": 11
    }
   ],
   "source": [
    "np.random.seed(7)\n",
    "X = Sequence(42, char).generate_sequence()\n",
    "Y = Sequence(84, char).generate_sequence()\n",
    "\n",
    "# method\n",
    "m = len(X)\n",
    "n = len(Y)\n",
    "T = np.empty((m+1, n+1), dtype=int)\n",
    "T[:] = 999\n",
    "\n",
    "for i in range(m+1):\n",
    "    for j in range(n+1):\n",
    "        if i == 0 or j == 0:\n",
    "            T[i][j] = 0\n",
    "        elif X[i-1] == Y[j-1]:\n",
    "            T[i][j] = T[i-1][j-1] + 1\n",
    "        else:\n",
    "            T[i][j] = np.maximum(T[i-1][j], T[i][j-1])\n",
    "        df_T = pd.DataFrame(T, columns=np.concatenate([[999], Y]), index=np.concatenate([[999], X]), dtype=int)\n",
    "        # display(df_T)\n",
    "\n",
    "index = T[m][n]\n",
    "lcs = np.repeat(\"\", index)\n",
    "\n",
    "i, j = m, n\n",
    "while i > 0 and j > 0:\n",
    "    if X[i-1] == Y[j-1]:\n",
    "        print(index, i, lcs[index-1], X[i-1])\n",
    "        lcs[index-1] = X[i-1]\n",
    "        i -= 1\n",
    "        j -= 1\n",
    "        index -= 1\n",
    "    elif T[i-1][j] > T[i][j-1]:\n",
    "        i -= 1\n",
    "    else:\n",
    "        j -= 1\n",
    "\n",
    "display(df_T)\n",
    "lcs"
   ]
  },
  {
   "cell_type": "markdown",
   "metadata": {},
   "source": [
    "# Save data to json"
   ]
  },
  {
   "cell_type": "code",
   "execution_count": 4,
   "metadata": {},
   "outputs": [
    {
     "output_type": "stream",
     "name": "stdout",
     "text": [
      "Time taken: 0.01s\n"
     ]
    }
   ],
   "source": [
    "time_start = time.time()    \n",
    "for _ in range(200):\n",
    "    my_sequence = Sequence(seq_length, char)\n",
    "    seq1 = my_sequence.generate_sequence()\n",
    "    seq2 = my_sequence.generate_sequence()\n",
    "\n",
    "    length_LCS.append(find_LCS(seq1, seq2))\n",
    "\n",
    "time_end = time.time()    \n",
    "print(f\"Time taken: {round(time_end - time_start, 2)}s\")\n",
    "\n",
    "\n",
    "lcs_data = {\n",
    "        \"nb characters\": nb_char,\n",
    "        \"sequence length\": seq_length,\n",
    "        \"length LCS\": length_LCS,\n",
    "}\n",
    "\n",
    "\n",
    "def add_data():\n",
    "    # read from json\n",
    "    with open(\"lcs_data.json\", \"r\") as f:\n",
    "        data = json.load(f)\n",
    "    # check if this type of sequence already exists in json file\n",
    "    for item in data:\n",
    "        if item[\"nb characters\"] == lcs_data[\"nb characters\"] and item[\"sequence length\"] == lcs_data[\"sequence length\"]:\n",
    "            item[\"length LCS\"] += length_LCS\n",
    "            return data\n",
    "    data.append(lcs_data)\n",
    "    return data\n",
    "\n",
    "data = add_data()\n",
    "\n",
    "# write data to json file\n",
    "with open(\"lcs_data.json\", \"w\") as f:\n",
    "    json.dump(data, f, indent=4)\n",
    "        \n",
    "# data"
   ]
  },
  {
   "cell_type": "markdown",
   "metadata": {},
   "source": [
    "# Visualisation"
   ]
  },
  {
   "cell_type": "code",
   "execution_count": null,
   "metadata": {},
   "outputs": [],
   "source": []
  },
  {
   "cell_type": "code",
   "execution_count": null,
   "metadata": {},
   "outputs": [],
   "source": []
  },
  {
   "cell_type": "code",
   "execution_count": null,
   "metadata": {},
   "outputs": [],
   "source": []
  },
  {
   "cell_type": "code",
   "execution_count": null,
   "metadata": {},
   "outputs": [],
   "source": []
  },
  {
   "cell_type": "code",
   "execution_count": null,
   "metadata": {},
   "outputs": [],
   "source": []
  },
  {
   "cell_type": "code",
   "execution_count": null,
   "metadata": {},
   "outputs": [],
   "source": []
  },
  {
   "cell_type": "code",
   "execution_count": null,
   "metadata": {},
   "outputs": [],
   "source": []
  },
  {
   "cell_type": "code",
   "execution_count": null,
   "metadata": {},
   "outputs": [],
   "source": []
  },
  {
   "cell_type": "code",
   "execution_count": null,
   "metadata": {},
   "outputs": [],
   "source": []
  },
  {
   "cell_type": "code",
   "execution_count": null,
   "metadata": {},
   "outputs": [],
   "source": []
  },
  {
   "cell_type": "code",
   "execution_count": null,
   "metadata": {},
   "outputs": [],
   "source": []
  },
  {
   "cell_type": "code",
   "execution_count": null,
   "metadata": {},
   "outputs": [],
   "source": []
  },
  {
   "cell_type": "code",
   "execution_count": null,
   "metadata": {},
   "outputs": [],
   "source": []
  }
 ],
 "metadata": {
  "kernelspec": {
   "display_name": "Python 3",
   "language": "python",
   "name": "python3"
  },
  "language_info": {
   "codemirror_mode": {
    "name": "ipython",
    "version": 3
   },
   "file_extension": ".py",
   "mimetype": "text/x-python",
   "name": "python",
   "nbconvert_exporter": "python",
   "pygments_lexer": "ipython3",
   "version": "3.9.2-final"
  }
 },
 "nbformat": 4,
 "nbformat_minor": 4
}