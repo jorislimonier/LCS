{
 "cells": [
  {
   "cell_type": "code",
   "execution_count": 1,
   "metadata": {},
   "outputs": [],
   "source": [
    "import numpy as np\n",
    "import time\n",
    "import plotly.express as px\n",
    "import json"
   ]
  },
  {
   "source": [
    "## Finding the LCS"
   ],
   "cell_type": "markdown",
   "metadata": {}
  },
  {
   "cell_type": "code",
   "execution_count": 8,
   "metadata": {},
   "outputs": [
    {
     "output_type": "execute_result",
     "data": {
      "text/plain": [
       "2"
      ]
     },
     "metadata": {},
     "execution_count": 8
    }
   ],
   "source": [
    "# np.random.seed(42)\n",
    "\n",
    "class Sequence():\n",
    "    def __init__(self, length, char):\n",
    "        self.length = length\n",
    "        self.char = char\n",
    "        \n",
    "    def generate_sequence(self):\n",
    "        seq = np.random.choice(list(self.char), size=self.length)\n",
    "        return \"\".join(seq)\n",
    "        \n",
    "        \n",
    "        \n",
    "def find_LCS(seq1, seq2):\n",
    "    LCS_found = False\n",
    "    max_subseq_length = np.minimum(len(seq1), len(seq2)) # finds sequence of minimum length\n",
    "    for length in range(max_subseq_length, 0, -1):\n",
    "        for i1 in range(max_subseq_length - length + 1):\n",
    "            for i2 in range(max_subseq_length - length + 1):\n",
    "                if seq1[i1: i1+length] == seq2[i2: i2+length]:\n",
    "                    return length\n",
    "#                     print(f\"Length {length}\")\n",
    "#                     print(f\"from seq1: {seq1[i1: i1+length]}\")\n",
    "#                     print(f\"from seq2: {seq2[i2: i2+length]}\")\n",
    "#                     print(\"MATCH FOUND\")\n",
    "#                     LCS_found = True\n",
    "#             print()\n",
    "#             if LCS_found:\n",
    "#                 return length\n",
    "                \n",
    "length_LCS =  []\n",
    "seq_length = 100\n",
    "char = [\"0\", \"1\"]\n",
    "nb_char = len(np.unique(char))"
   ]
  },
  {
   "cell_type": "markdown",
   "metadata": {},
   "source": [
    "# Save data to json"
   ]
  },
  {
   "cell_type": "code",
   "execution_count": 9,
   "metadata": {},
   "outputs": [
    {
     "output_type": "stream",
     "name": "stdout",
     "text": [
      "Time taken: 10.31s\n"
     ]
    }
   ],
   "source": [
    "\n",
    "\n",
    "time_start = time.time()    \n",
    "for _ in range(200):\n",
    "    my_sequence = Sequence(seq_length, char)\n",
    "    seq1 = my_sequence.generate_sequence()\n",
    "    seq2 = my_sequence.generate_sequence()\n",
    "\n",
    "    length_LCS.append(find_LCS(seq1, seq2))\n",
    "\n",
    "time_end = time.time()    \n",
    "print(f\"Time taken: {round(time_end - time_start, 2)}s\")\n",
    "\n",
    "\n",
    "lcs_data = {\n",
    "        \"nb characters\": nb_char,\n",
    "        \"sequence length\": seq_length,\n",
    "        \"length LCS\": length_LCS,\n",
    "}\n",
    "\n",
    "\n",
    "def add_data():\n",
    "    # read from json\n",
    "    with open(\"lcs_data.json\", \"r\") as f:\n",
    "        data = json.load(f)\n",
    "    # check if this type of sequence already exists in json file\n",
    "    for item in data:\n",
    "        if item[\"nb characters\"] == lcs_data[\"nb characters\"] and item[\"sequence length\"] == lcs_data[\"sequence length\"]:\n",
    "            item[\"length LCS\"] += length_LCS\n",
    "            return data\n",
    "    data.append(lcs_data)\n",
    "    return data\n",
    "\n",
    "data = add_data()\n",
    "\n",
    "# write data to json file\n",
    "with open(\"lcs_data.json\", \"w\") as f:\n",
    "    json.dump(data, f, indent=4)\n",
    "        \n",
    "# data"
   ]
  },
  {
   "cell_type": "code",
   "execution_count": null,
   "metadata": {},
   "outputs": [],
   "source": [
    "existing_data"
   ]
  },
  {
   "cell_type": "code",
   "execution_count": null,
   "metadata": {},
   "outputs": [],
   "source": [
    "[10, 12] + [10, 12]"
   ]
  },
  {
   "cell_type": "markdown",
   "metadata": {},
   "source": [
    "# Visualisation"
   ]
  },
  {
   "cell_type": "code",
   "execution_count": null,
   "metadata": {
    "scrolled": false
   },
   "outputs": [],
   "source": [
    "px.histogram(lengths, nbins=25)"
   ]
  },
  {
   "cell_type": "code",
   "execution_count": null,
   "metadata": {},
   "outputs": [],
   "source": []
  },
  {
   "cell_type": "code",
   "execution_count": null,
   "metadata": {},
   "outputs": [],
   "source": []
  },
  {
   "cell_type": "code",
   "execution_count": null,
   "metadata": {},
   "outputs": [],
   "source": []
  },
  {
   "cell_type": "code",
   "execution_count": null,
   "metadata": {},
   "outputs": [],
   "source": []
  },
  {
   "cell_type": "code",
   "execution_count": null,
   "metadata": {},
   "outputs": [],
   "source": []
  },
  {
   "cell_type": "code",
   "execution_count": null,
   "metadata": {},
   "outputs": [],
   "source": []
  },
  {
   "cell_type": "code",
   "execution_count": null,
   "metadata": {},
   "outputs": [],
   "source": []
  },
  {
   "cell_type": "code",
   "execution_count": null,
   "metadata": {},
   "outputs": [],
   "source": []
  },
  {
   "cell_type": "code",
   "execution_count": null,
   "metadata": {},
   "outputs": [],
   "source": []
  },
  {
   "cell_type": "code",
   "execution_count": null,
   "metadata": {},
   "outputs": [],
   "source": []
  },
  {
   "cell_type": "code",
   "execution_count": null,
   "metadata": {},
   "outputs": [],
   "source": []
  },
  {
   "cell_type": "code",
   "execution_count": null,
   "metadata": {},
   "outputs": [],
   "source": []
  },
  {
   "cell_type": "code",
   "execution_count": null,
   "metadata": {},
   "outputs": [],
   "source": []
  }
 ],
 "metadata": {
  "kernelspec": {
   "display_name": "Python 3",
   "language": "python",
   "name": "python3"
  },
  "language_info": {
   "codemirror_mode": {
    "name": "ipython",
    "version": 3
   },
   "file_extension": ".py",
   "mimetype": "text/x-python",
   "name": "python",
   "nbconvert_exporter": "python",
   "pygments_lexer": "ipython3",
   "version": "3.9.2-final"
  }
 },
 "nbformat": 4,
 "nbformat_minor": 4
}