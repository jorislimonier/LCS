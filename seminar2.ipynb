{
 "cells": [
  {
   "cell_type": "code",
   "execution_count": 4,
   "metadata": {},
   "outputs": [],
   "source": [
    "import numpy as np\n",
    "import pandas as pd\n",
    "import time\n",
    "import plotly.express as px\n",
    "import json"
   ]
  },
  {
   "source": [
    "## Finding the LCS"
   ],
   "cell_type": "markdown",
   "metadata": {}
  },
  {
   "cell_type": "code",
   "execution_count": 13,
   "metadata": {},
   "outputs": [],
   "source": [
    "np.random.seed(42)\n",
    "\n",
    "class Sequence():\n",
    "    def __init__(self, length, char):\n",
    "        self.length = length\n",
    "        self.char = char\n",
    "        \n",
    "    def generate_sequence(self):\n",
    "        # generate a random sequence of size self.length with the self.char characters\n",
    "        return np.random.choice(list(self.char), size=self.length)\n",
    "        \n",
    "        creates\n",
    "        \n",
    "def find_LCS(X, Y):\n",
    "    return \n",
    "                \n",
    "length_LCS =  []\n",
    "seq_length = 10\n",
    "char = [\"a\", \"b\"]\n",
    "nb_char = len(np.unique(char))\n",
    "X = Sequence(3, char).generate_sequence()\n",
    "Y = Sequence(4, char).generate_sequence()\n",
    "find_LCS(X, Y)"
   ]
  },
  {
   "cell_type": "code",
   "execution_count": 14,
   "metadata": {},
   "outputs": [
    {
     "output_type": "display_data",
     "data": {
      "text/plain": "     999    b    a    b    b    a\n999    0  999  999  999  999  999\na    999  999  999  999  999  999\nb    999  999  999  999  999  999\na    999  999  999  999  999  999\nb    999  999  999  999  999  999\nb    999  999  999  999  999  999\nb    999  999  999  999  999  999",
      "text/html": "<div>\n<style scoped>\n    .dataframe tbody tr th:only-of-type {\n        vertical-align: middle;\n    }\n\n    .dataframe tbody tr th {\n        vertical-align: top;\n    }\n\n    .dataframe thead th {\n        text-align: right;\n    }\n</style>\n<table border=\"1\" class=\"dataframe\">\n  <thead>\n    <tr style=\"text-align: right;\">\n      <th></th>\n      <th>999</th>\n      <th>b</th>\n      <th>a</th>\n      <th>b</th>\n      <th>b</th>\n      <th>a</th>\n    </tr>\n  </thead>\n  <tbody>\n    <tr>\n      <th>999</th>\n      <td>0</td>\n      <td>999</td>\n      <td>999</td>\n      <td>999</td>\n      <td>999</td>\n      <td>999</td>\n    </tr>\n    <tr>\n      <th>a</th>\n      <td>999</td>\n      <td>999</td>\n      <td>999</td>\n      <td>999</td>\n      <td>999</td>\n      <td>999</td>\n    </tr>\n    <tr>\n      <th>b</th>\n      <td>999</td>\n      <td>999</td>\n      <td>999</td>\n      <td>999</td>\n      <td>999</td>\n      <td>999</td>\n    </tr>\n    <tr>\n      <th>a</th>\n      <td>999</td>\n      <td>999</td>\n      <td>999</td>\n      <td>999</td>\n      <td>999</td>\n      <td>999</td>\n    </tr>\n    <tr>\n      <th>b</th>\n      <td>999</td>\n      <td>999</td>\n      <td>999</td>\n      <td>999</td>\n      <td>999</td>\n      <td>999</td>\n    </tr>\n    <tr>\n      <th>b</th>\n      <td>999</td>\n      <td>999</td>\n      <td>999</td>\n      <td>999</td>\n      <td>999</td>\n      <td>999</td>\n    </tr>\n    <tr>\n      <th>b</th>\n      <td>999</td>\n      <td>999</td>\n      <td>999</td>\n      <td>999</td>\n      <td>999</td>\n      <td>999</td>\n    </tr>\n  </tbody>\n</table>\n</div>"
     },
     "metadata": {}
    },
    {
     "output_type": "display_data",
     "data": {
      "text/plain": "     999    b    a    b    b    a\n999    0    0  999  999  999  999\na    999  999  999  999  999  999\nb    999  999  999  999  999  999\na    999  999  999  999  999  999\nb    999  999  999  999  999  999\nb    999  999  999  999  999  999\nb    999  999  999  999  999  999",
      "text/html": "<div>\n<style scoped>\n    .dataframe tbody tr th:only-of-type {\n        vertical-align: middle;\n    }\n\n    .dataframe tbody tr th {\n        vertical-align: top;\n    }\n\n    .dataframe thead th {\n        text-align: right;\n    }\n</style>\n<table border=\"1\" class=\"dataframe\">\n  <thead>\n    <tr style=\"text-align: right;\">\n      <th></th>\n      <th>999</th>\n      <th>b</th>\n      <th>a</th>\n      <th>b</th>\n      <th>b</th>\n      <th>a</th>\n    </tr>\n  </thead>\n  <tbody>\n    <tr>\n      <th>999</th>\n      <td>0</td>\n      <td>0</td>\n      <td>999</td>\n      <td>999</td>\n      <td>999</td>\n      <td>999</td>\n    </tr>\n    <tr>\n      <th>a</th>\n      <td>999</td>\n      <td>999</td>\n      <td>999</td>\n      <td>999</td>\n      <td>999</td>\n      <td>999</td>\n    </tr>\n    <tr>\n      <th>b</th>\n      <td>999</td>\n      <td>999</td>\n      <td>999</td>\n      <td>999</td>\n      <td>999</td>\n      <td>999</td>\n    </tr>\n    <tr>\n      <th>a</th>\n      <td>999</td>\n      <td>999</td>\n      <td>999</td>\n      <td>999</td>\n      <td>999</td>\n      <td>999</td>\n    </tr>\n    <tr>\n      <th>b</th>\n      <td>999</td>\n      <td>999</td>\n      <td>999</td>\n      <td>999</td>\n      <td>999</td>\n      <td>999</td>\n    </tr>\n    <tr>\n      <th>b</th>\n      <td>999</td>\n      <td>999</td>\n      <td>999</td>\n      <td>999</td>\n      <td>999</td>\n      <td>999</td>\n    </tr>\n    <tr>\n      <th>b</th>\n      <td>999</td>\n      <td>999</td>\n      <td>999</td>\n      <td>999</td>\n      <td>999</td>\n      <td>999</td>\n    </tr>\n  </tbody>\n</table>\n</div>"
     },
     "metadata": {}
    },
    {
     "output_type": "display_data",
     "data": {
      "text/plain": "     999    b    a    b    b    a\n999    0    0    0  999  999  999\na    999  999  999  999  999  999\nb    999  999  999  999  999  999\na    999  999  999  999  999  999\nb    999  999  999  999  999  999\nb    999  999  999  999  999  999\nb    999  999  999  999  999  999",
      "text/html": "<div>\n<style scoped>\n    .dataframe tbody tr th:only-of-type {\n        vertical-align: middle;\n    }\n\n    .dataframe tbody tr th {\n        vertical-align: top;\n    }\n\n    .dataframe thead th {\n        text-align: right;\n    }\n</style>\n<table border=\"1\" class=\"dataframe\">\n  <thead>\n    <tr style=\"text-align: right;\">\n      <th></th>\n      <th>999</th>\n      <th>b</th>\n      <th>a</th>\n      <th>b</th>\n      <th>b</th>\n      <th>a</th>\n    </tr>\n  </thead>\n  <tbody>\n    <tr>\n      <th>999</th>\n      <td>0</td>\n      <td>0</td>\n      <td>0</td>\n      <td>999</td>\n      <td>999</td>\n      <td>999</td>\n    </tr>\n    <tr>\n      <th>a</th>\n      <td>999</td>\n      <td>999</td>\n      <td>999</td>\n      <td>999</td>\n      <td>999</td>\n      <td>999</td>\n    </tr>\n    <tr>\n      <th>b</th>\n      <td>999</td>\n      <td>999</td>\n      <td>999</td>\n      <td>999</td>\n      <td>999</td>\n      <td>999</td>\n    </tr>\n    <tr>\n      <th>a</th>\n      <td>999</td>\n      <td>999</td>\n      <td>999</td>\n      <td>999</td>\n      <td>999</td>\n      <td>999</td>\n    </tr>\n    <tr>\n      <th>b</th>\n      <td>999</td>\n      <td>999</td>\n      <td>999</td>\n      <td>999</td>\n      <td>999</td>\n      <td>999</td>\n    </tr>\n    <tr>\n      <th>b</th>\n      <td>999</td>\n      <td>999</td>\n      <td>999</td>\n      <td>999</td>\n      <td>999</td>\n      <td>999</td>\n    </tr>\n    <tr>\n      <th>b</th>\n      <td>999</td>\n      <td>999</td>\n      <td>999</td>\n      <td>999</td>\n      <td>999</td>\n      <td>999</td>\n    </tr>\n  </tbody>\n</table>\n</div>"
     },
     "metadata": {}
    },
    {
     "output_type": "display_data",
     "data": {
      "text/plain": "     999    b    a    b    b    a\n999    0    0    0    0  999  999\na    999  999  999  999  999  999\nb    999  999  999  999  999  999\na    999  999  999  999  999  999\nb    999  999  999  999  999  999\nb    999  999  999  999  999  999\nb    999  999  999  999  999  999",
      "text/html": "<div>\n<style scoped>\n    .dataframe tbody tr th:only-of-type {\n        vertical-align: middle;\n    }\n\n    .dataframe tbody tr th {\n        vertical-align: top;\n    }\n\n    .dataframe thead th {\n        text-align: right;\n    }\n</style>\n<table border=\"1\" class=\"dataframe\">\n  <thead>\n    <tr style=\"text-align: right;\">\n      <th></th>\n      <th>999</th>\n      <th>b</th>\n      <th>a</th>\n      <th>b</th>\n      <th>b</th>\n      <th>a</th>\n    </tr>\n  </thead>\n  <tbody>\n    <tr>\n      <th>999</th>\n      <td>0</td>\n      <td>0</td>\n      <td>0</td>\n      <td>0</td>\n      <td>999</td>\n      <td>999</td>\n    </tr>\n    <tr>\n      <th>a</th>\n      <td>999</td>\n      <td>999</td>\n      <td>999</td>\n      <td>999</td>\n      <td>999</td>\n      <td>999</td>\n    </tr>\n    <tr>\n      <th>b</th>\n      <td>999</td>\n      <td>999</td>\n      <td>999</td>\n      <td>999</td>\n      <td>999</td>\n      <td>999</td>\n    </tr>\n    <tr>\n      <th>a</th>\n      <td>999</td>\n      <td>999</td>\n      <td>999</td>\n      <td>999</td>\n      <td>999</td>\n      <td>999</td>\n    </tr>\n    <tr>\n      <th>b</th>\n      <td>999</td>\n      <td>999</td>\n      <td>999</td>\n      <td>999</td>\n      <td>999</td>\n      <td>999</td>\n    </tr>\n    <tr>\n      <th>b</th>\n      <td>999</td>\n      <td>999</td>\n      <td>999</td>\n      <td>999</td>\n      <td>999</td>\n      <td>999</td>\n    </tr>\n    <tr>\n      <th>b</th>\n      <td>999</td>\n      <td>999</td>\n      <td>999</td>\n      <td>999</td>\n      <td>999</td>\n      <td>999</td>\n    </tr>\n  </tbody>\n</table>\n</div>"
     },
     "metadata": {}
    },
    {
     "output_type": "display_data",
     "data": {
      "text/plain": "     999    b    a    b    b    a\n999    0    0    0    0    0  999\na    999  999  999  999  999  999\nb    999  999  999  999  999  999\na    999  999  999  999  999  999\nb    999  999  999  999  999  999\nb    999  999  999  999  999  999\nb    999  999  999  999  999  999",
      "text/html": "<div>\n<style scoped>\n    .dataframe tbody tr th:only-of-type {\n        vertical-align: middle;\n    }\n\n    .dataframe tbody tr th {\n        vertical-align: top;\n    }\n\n    .dataframe thead th {\n        text-align: right;\n    }\n</style>\n<table border=\"1\" class=\"dataframe\">\n  <thead>\n    <tr style=\"text-align: right;\">\n      <th></th>\n      <th>999</th>\n      <th>b</th>\n      <th>a</th>\n      <th>b</th>\n      <th>b</th>\n      <th>a</th>\n    </tr>\n  </thead>\n  <tbody>\n    <tr>\n      <th>999</th>\n      <td>0</td>\n      <td>0</td>\n      <td>0</td>\n      <td>0</td>\n      <td>0</td>\n      <td>999</td>\n    </tr>\n    <tr>\n      <th>a</th>\n      <td>999</td>\n      <td>999</td>\n      <td>999</td>\n      <td>999</td>\n      <td>999</td>\n      <td>999</td>\n    </tr>\n    <tr>\n      <th>b</th>\n      <td>999</td>\n      <td>999</td>\n      <td>999</td>\n      <td>999</td>\n      <td>999</td>\n      <td>999</td>\n    </tr>\n    <tr>\n      <th>a</th>\n      <td>999</td>\n      <td>999</td>\n      <td>999</td>\n      <td>999</td>\n      <td>999</td>\n      <td>999</td>\n    </tr>\n    <tr>\n      <th>b</th>\n      <td>999</td>\n      <td>999</td>\n      <td>999</td>\n      <td>999</td>\n      <td>999</td>\n      <td>999</td>\n    </tr>\n    <tr>\n      <th>b</th>\n      <td>999</td>\n      <td>999</td>\n      <td>999</td>\n      <td>999</td>\n      <td>999</td>\n      <td>999</td>\n    </tr>\n    <tr>\n      <th>b</th>\n      <td>999</td>\n      <td>999</td>\n      <td>999</td>\n      <td>999</td>\n      <td>999</td>\n      <td>999</td>\n    </tr>\n  </tbody>\n</table>\n</div>"
     },
     "metadata": {}
    },
    {
     "output_type": "display_data",
     "data": {
      "text/plain": "     999    b    a    b    b    a\n999    0    0    0    0    0    0\na    999  999  999  999  999  999\nb    999  999  999  999  999  999\na    999  999  999  999  999  999\nb    999  999  999  999  999  999\nb    999  999  999  999  999  999\nb    999  999  999  999  999  999",
      "text/html": "<div>\n<style scoped>\n    .dataframe tbody tr th:only-of-type {\n        vertical-align: middle;\n    }\n\n    .dataframe tbody tr th {\n        vertical-align: top;\n    }\n\n    .dataframe thead th {\n        text-align: right;\n    }\n</style>\n<table border=\"1\" class=\"dataframe\">\n  <thead>\n    <tr style=\"text-align: right;\">\n      <th></th>\n      <th>999</th>\n      <th>b</th>\n      <th>a</th>\n      <th>b</th>\n      <th>b</th>\n      <th>a</th>\n    </tr>\n  </thead>\n  <tbody>\n    <tr>\n      <th>999</th>\n      <td>0</td>\n      <td>0</td>\n      <td>0</td>\n      <td>0</td>\n      <td>0</td>\n      <td>0</td>\n    </tr>\n    <tr>\n      <th>a</th>\n      <td>999</td>\n      <td>999</td>\n      <td>999</td>\n      <td>999</td>\n      <td>999</td>\n      <td>999</td>\n    </tr>\n    <tr>\n      <th>b</th>\n      <td>999</td>\n      <td>999</td>\n      <td>999</td>\n      <td>999</td>\n      <td>999</td>\n      <td>999</td>\n    </tr>\n    <tr>\n      <th>a</th>\n      <td>999</td>\n      <td>999</td>\n      <td>999</td>\n      <td>999</td>\n      <td>999</td>\n      <td>999</td>\n    </tr>\n    <tr>\n      <th>b</th>\n      <td>999</td>\n      <td>999</td>\n      <td>999</td>\n      <td>999</td>\n      <td>999</td>\n      <td>999</td>\n    </tr>\n    <tr>\n      <th>b</th>\n      <td>999</td>\n      <td>999</td>\n      <td>999</td>\n      <td>999</td>\n      <td>999</td>\n      <td>999</td>\n    </tr>\n    <tr>\n      <th>b</th>\n      <td>999</td>\n      <td>999</td>\n      <td>999</td>\n      <td>999</td>\n      <td>999</td>\n      <td>999</td>\n    </tr>\n  </tbody>\n</table>\n</div>"
     },
     "metadata": {}
    },
    {
     "output_type": "display_data",
     "data": {
      "text/plain": "     999    b    a    b    b    a\n999    0    0    0    0    0    0\na      0  999  999  999  999  999\nb    999  999  999  999  999  999\na    999  999  999  999  999  999\nb    999  999  999  999  999  999\nb    999  999  999  999  999  999\nb    999  999  999  999  999  999",
      "text/html": "<div>\n<style scoped>\n    .dataframe tbody tr th:only-of-type {\n        vertical-align: middle;\n    }\n\n    .dataframe tbody tr th {\n        vertical-align: top;\n    }\n\n    .dataframe thead th {\n        text-align: right;\n    }\n</style>\n<table border=\"1\" class=\"dataframe\">\n  <thead>\n    <tr style=\"text-align: right;\">\n      <th></th>\n      <th>999</th>\n      <th>b</th>\n      <th>a</th>\n      <th>b</th>\n      <th>b</th>\n      <th>a</th>\n    </tr>\n  </thead>\n  <tbody>\n    <tr>\n      <th>999</th>\n      <td>0</td>\n      <td>0</td>\n      <td>0</td>\n      <td>0</td>\n      <td>0</td>\n      <td>0</td>\n    </tr>\n    <tr>\n      <th>a</th>\n      <td>0</td>\n      <td>999</td>\n      <td>999</td>\n      <td>999</td>\n      <td>999</td>\n      <td>999</td>\n    </tr>\n    <tr>\n      <th>b</th>\n      <td>999</td>\n      <td>999</td>\n      <td>999</td>\n      <td>999</td>\n      <td>999</td>\n      <td>999</td>\n    </tr>\n    <tr>\n      <th>a</th>\n      <td>999</td>\n      <td>999</td>\n      <td>999</td>\n      <td>999</td>\n      <td>999</td>\n      <td>999</td>\n    </tr>\n    <tr>\n      <th>b</th>\n      <td>999</td>\n      <td>999</td>\n      <td>999</td>\n      <td>999</td>\n      <td>999</td>\n      <td>999</td>\n    </tr>\n    <tr>\n      <th>b</th>\n      <td>999</td>\n      <td>999</td>\n      <td>999</td>\n      <td>999</td>\n      <td>999</td>\n      <td>999</td>\n    </tr>\n    <tr>\n      <th>b</th>\n      <td>999</td>\n      <td>999</td>\n      <td>999</td>\n      <td>999</td>\n      <td>999</td>\n      <td>999</td>\n    </tr>\n  </tbody>\n</table>\n</div>"
     },
     "metadata": {}
    },
    {
     "output_type": "display_data",
     "data": {
      "text/plain": "     999    b    a    b    b    a\n999    0    0    0    0    0    0\na      0    0  999  999  999  999\nb    999  999  999  999  999  999\na    999  999  999  999  999  999\nb    999  999  999  999  999  999\nb    999  999  999  999  999  999\nb    999  999  999  999  999  999",
      "text/html": "<div>\n<style scoped>\n    .dataframe tbody tr th:only-of-type {\n        vertical-align: middle;\n    }\n\n    .dataframe tbody tr th {\n        vertical-align: top;\n    }\n\n    .dataframe thead th {\n        text-align: right;\n    }\n</style>\n<table border=\"1\" class=\"dataframe\">\n  <thead>\n    <tr style=\"text-align: right;\">\n      <th></th>\n      <th>999</th>\n      <th>b</th>\n      <th>a</th>\n      <th>b</th>\n      <th>b</th>\n      <th>a</th>\n    </tr>\n  </thead>\n  <tbody>\n    <tr>\n      <th>999</th>\n      <td>0</td>\n      <td>0</td>\n      <td>0</td>\n      <td>0</td>\n      <td>0</td>\n      <td>0</td>\n    </tr>\n    <tr>\n      <th>a</th>\n      <td>0</td>\n      <td>0</td>\n      <td>999</td>\n      <td>999</td>\n      <td>999</td>\n      <td>999</td>\n    </tr>\n    <tr>\n      <th>b</th>\n      <td>999</td>\n      <td>999</td>\n      <td>999</td>\n      <td>999</td>\n      <td>999</td>\n      <td>999</td>\n    </tr>\n    <tr>\n      <th>a</th>\n      <td>999</td>\n      <td>999</td>\n      <td>999</td>\n      <td>999</td>\n      <td>999</td>\n      <td>999</td>\n    </tr>\n    <tr>\n      <th>b</th>\n      <td>999</td>\n      <td>999</td>\n      <td>999</td>\n      <td>999</td>\n      <td>999</td>\n      <td>999</td>\n    </tr>\n    <tr>\n      <th>b</th>\n      <td>999</td>\n      <td>999</td>\n      <td>999</td>\n      <td>999</td>\n      <td>999</td>\n      <td>999</td>\n    </tr>\n    <tr>\n      <th>b</th>\n      <td>999</td>\n      <td>999</td>\n      <td>999</td>\n      <td>999</td>\n      <td>999</td>\n      <td>999</td>\n    </tr>\n  </tbody>\n</table>\n</div>"
     },
     "metadata": {}
    },
    {
     "output_type": "display_data",
     "data": {
      "text/plain": "     999    b    a    b    b    a\n999    0    0    0    0    0    0\na      0    0    1  999  999  999\nb    999  999  999  999  999  999\na    999  999  999  999  999  999\nb    999  999  999  999  999  999\nb    999  999  999  999  999  999\nb    999  999  999  999  999  999",
      "text/html": "<div>\n<style scoped>\n    .dataframe tbody tr th:only-of-type {\n        vertical-align: middle;\n    }\n\n    .dataframe tbody tr th {\n        vertical-align: top;\n    }\n\n    .dataframe thead th {\n        text-align: right;\n    }\n</style>\n<table border=\"1\" class=\"dataframe\">\n  <thead>\n    <tr style=\"text-align: right;\">\n      <th></th>\n      <th>999</th>\n      <th>b</th>\n      <th>a</th>\n      <th>b</th>\n      <th>b</th>\n      <th>a</th>\n    </tr>\n  </thead>\n  <tbody>\n    <tr>\n      <th>999</th>\n      <td>0</td>\n      <td>0</td>\n      <td>0</td>\n      <td>0</td>\n      <td>0</td>\n      <td>0</td>\n    </tr>\n    <tr>\n      <th>a</th>\n      <td>0</td>\n      <td>0</td>\n      <td>1</td>\n      <td>999</td>\n      <td>999</td>\n      <td>999</td>\n    </tr>\n    <tr>\n      <th>b</th>\n      <td>999</td>\n      <td>999</td>\n      <td>999</td>\n      <td>999</td>\n      <td>999</td>\n      <td>999</td>\n    </tr>\n    <tr>\n      <th>a</th>\n      <td>999</td>\n      <td>999</td>\n      <td>999</td>\n      <td>999</td>\n      <td>999</td>\n      <td>999</td>\n    </tr>\n    <tr>\n      <th>b</th>\n      <td>999</td>\n      <td>999</td>\n      <td>999</td>\n      <td>999</td>\n      <td>999</td>\n      <td>999</td>\n    </tr>\n    <tr>\n      <th>b</th>\n      <td>999</td>\n      <td>999</td>\n      <td>999</td>\n      <td>999</td>\n      <td>999</td>\n      <td>999</td>\n    </tr>\n    <tr>\n      <th>b</th>\n      <td>999</td>\n      <td>999</td>\n      <td>999</td>\n      <td>999</td>\n      <td>999</td>\n      <td>999</td>\n    </tr>\n  </tbody>\n</table>\n</div>"
     },
     "metadata": {}
    },
    {
     "output_type": "display_data",
     "data": {
      "text/plain": "     999    b    a    b    b    a\n999    0    0    0    0    0    0\na      0    0    1    1  999  999\nb    999  999  999  999  999  999\na    999  999  999  999  999  999\nb    999  999  999  999  999  999\nb    999  999  999  999  999  999\nb    999  999  999  999  999  999",
      "text/html": "<div>\n<style scoped>\n    .dataframe tbody tr th:only-of-type {\n        vertical-align: middle;\n    }\n\n    .dataframe tbody tr th {\n        vertical-align: top;\n    }\n\n    .dataframe thead th {\n        text-align: right;\n    }\n</style>\n<table border=\"1\" class=\"dataframe\">\n  <thead>\n    <tr style=\"text-align: right;\">\n      <th></th>\n      <th>999</th>\n      <th>b</th>\n      <th>a</th>\n      <th>b</th>\n      <th>b</th>\n      <th>a</th>\n    </tr>\n  </thead>\n  <tbody>\n    <tr>\n      <th>999</th>\n      <td>0</td>\n      <td>0</td>\n      <td>0</td>\n      <td>0</td>\n      <td>0</td>\n      <td>0</td>\n    </tr>\n    <tr>\n      <th>a</th>\n      <td>0</td>\n      <td>0</td>\n      <td>1</td>\n      <td>1</td>\n      <td>999</td>\n      <td>999</td>\n    </tr>\n    <tr>\n      <th>b</th>\n      <td>999</td>\n      <td>999</td>\n      <td>999</td>\n      <td>999</td>\n      <td>999</td>\n      <td>999</td>\n    </tr>\n    <tr>\n      <th>a</th>\n      <td>999</td>\n      <td>999</td>\n      <td>999</td>\n      <td>999</td>\n      <td>999</td>\n      <td>999</td>\n    </tr>\n    <tr>\n      <th>b</th>\n      <td>999</td>\n      <td>999</td>\n      <td>999</td>\n      <td>999</td>\n      <td>999</td>\n      <td>999</td>\n    </tr>\n    <tr>\n      <th>b</th>\n      <td>999</td>\n      <td>999</td>\n      <td>999</td>\n      <td>999</td>\n      <td>999</td>\n      <td>999</td>\n    </tr>\n    <tr>\n      <th>b</th>\n      <td>999</td>\n      <td>999</td>\n      <td>999</td>\n      <td>999</td>\n      <td>999</td>\n      <td>999</td>\n    </tr>\n  </tbody>\n</table>\n</div>"
     },
     "metadata": {}
    },
    {
     "output_type": "display_data",
     "data": {
      "text/plain": "     999    b    a    b    b    a\n999    0    0    0    0    0    0\na      0    0    1    1    1  999\nb    999  999  999  999  999  999\na    999  999  999  999  999  999\nb    999  999  999  999  999  999\nb    999  999  999  999  999  999\nb    999  999  999  999  999  999",
      "text/html": "<div>\n<style scoped>\n    .dataframe tbody tr th:only-of-type {\n        vertical-align: middle;\n    }\n\n    .dataframe tbody tr th {\n        vertical-align: top;\n    }\n\n    .dataframe thead th {\n        text-align: right;\n    }\n</style>\n<table border=\"1\" class=\"dataframe\">\n  <thead>\n    <tr style=\"text-align: right;\">\n      <th></th>\n      <th>999</th>\n      <th>b</th>\n      <th>a</th>\n      <th>b</th>\n      <th>b</th>\n      <th>a</th>\n    </tr>\n  </thead>\n  <tbody>\n    <tr>\n      <th>999</th>\n      <td>0</td>\n      <td>0</td>\n      <td>0</td>\n      <td>0</td>\n      <td>0</td>\n      <td>0</td>\n    </tr>\n    <tr>\n      <th>a</th>\n      <td>0</td>\n      <td>0</td>\n      <td>1</td>\n      <td>1</td>\n      <td>1</td>\n      <td>999</td>\n    </tr>\n    <tr>\n      <th>b</th>\n      <td>999</td>\n      <td>999</td>\n      <td>999</td>\n      <td>999</td>\n      <td>999</td>\n      <td>999</td>\n    </tr>\n    <tr>\n      <th>a</th>\n      <td>999</td>\n      <td>999</td>\n      <td>999</td>\n      <td>999</td>\n      <td>999</td>\n      <td>999</td>\n    </tr>\n    <tr>\n      <th>b</th>\n      <td>999</td>\n      <td>999</td>\n      <td>999</td>\n      <td>999</td>\n      <td>999</td>\n      <td>999</td>\n    </tr>\n    <tr>\n      <th>b</th>\n      <td>999</td>\n      <td>999</td>\n      <td>999</td>\n      <td>999</td>\n      <td>999</td>\n      <td>999</td>\n    </tr>\n    <tr>\n      <th>b</th>\n      <td>999</td>\n      <td>999</td>\n      <td>999</td>\n      <td>999</td>\n      <td>999</td>\n      <td>999</td>\n    </tr>\n  </tbody>\n</table>\n</div>"
     },
     "metadata": {}
    },
    {
     "output_type": "display_data",
     "data": {
      "text/plain": "     999    b    a    b    b    a\n999    0    0    0    0    0    0\na      0    0    1    1    1    1\nb    999  999  999  999  999  999\na    999  999  999  999  999  999\nb    999  999  999  999  999  999\nb    999  999  999  999  999  999\nb    999  999  999  999  999  999",
      "text/html": "<div>\n<style scoped>\n    .dataframe tbody tr th:only-of-type {\n        vertical-align: middle;\n    }\n\n    .dataframe tbody tr th {\n        vertical-align: top;\n    }\n\n    .dataframe thead th {\n        text-align: right;\n    }\n</style>\n<table border=\"1\" class=\"dataframe\">\n  <thead>\n    <tr style=\"text-align: right;\">\n      <th></th>\n      <th>999</th>\n      <th>b</th>\n      <th>a</th>\n      <th>b</th>\n      <th>b</th>\n      <th>a</th>\n    </tr>\n  </thead>\n  <tbody>\n    <tr>\n      <th>999</th>\n      <td>0</td>\n      <td>0</td>\n      <td>0</td>\n      <td>0</td>\n      <td>0</td>\n      <td>0</td>\n    </tr>\n    <tr>\n      <th>a</th>\n      <td>0</td>\n      <td>0</td>\n      <td>1</td>\n      <td>1</td>\n      <td>1</td>\n      <td>1</td>\n    </tr>\n    <tr>\n      <th>b</th>\n      <td>999</td>\n      <td>999</td>\n      <td>999</td>\n      <td>999</td>\n      <td>999</td>\n      <td>999</td>\n    </tr>\n    <tr>\n      <th>a</th>\n      <td>999</td>\n      <td>999</td>\n      <td>999</td>\n      <td>999</td>\n      <td>999</td>\n      <td>999</td>\n    </tr>\n    <tr>\n      <th>b</th>\n      <td>999</td>\n      <td>999</td>\n      <td>999</td>\n      <td>999</td>\n      <td>999</td>\n      <td>999</td>\n    </tr>\n    <tr>\n      <th>b</th>\n      <td>999</td>\n      <td>999</td>\n      <td>999</td>\n      <td>999</td>\n      <td>999</td>\n      <td>999</td>\n    </tr>\n    <tr>\n      <th>b</th>\n      <td>999</td>\n      <td>999</td>\n      <td>999</td>\n      <td>999</td>\n      <td>999</td>\n      <td>999</td>\n    </tr>\n  </tbody>\n</table>\n</div>"
     },
     "metadata": {}
    },
    {
     "output_type": "display_data",
     "data": {
      "text/plain": "     999    b    a    b    b    a\n999    0    0    0    0    0    0\na      0    0    1    1    1    1\nb      0  999  999  999  999  999\na    999  999  999  999  999  999\nb    999  999  999  999  999  999\nb    999  999  999  999  999  999\nb    999  999  999  999  999  999",
      "text/html": "<div>\n<style scoped>\n    .dataframe tbody tr th:only-of-type {\n        vertical-align: middle;\n    }\n\n    .dataframe tbody tr th {\n        vertical-align: top;\n    }\n\n    .dataframe thead th {\n        text-align: right;\n    }\n</style>\n<table border=\"1\" class=\"dataframe\">\n  <thead>\n    <tr style=\"text-align: right;\">\n      <th></th>\n      <th>999</th>\n      <th>b</th>\n      <th>a</th>\n      <th>b</th>\n      <th>b</th>\n      <th>a</th>\n    </tr>\n  </thead>\n  <tbody>\n    <tr>\n      <th>999</th>\n      <td>0</td>\n      <td>0</td>\n      <td>0</td>\n      <td>0</td>\n      <td>0</td>\n      <td>0</td>\n    </tr>\n    <tr>\n      <th>a</th>\n      <td>0</td>\n      <td>0</td>\n      <td>1</td>\n      <td>1</td>\n      <td>1</td>\n      <td>1</td>\n    </tr>\n    <tr>\n      <th>b</th>\n      <td>0</td>\n      <td>999</td>\n      <td>999</td>\n      <td>999</td>\n      <td>999</td>\n      <td>999</td>\n    </tr>\n    <tr>\n      <th>a</th>\n      <td>999</td>\n      <td>999</td>\n      <td>999</td>\n      <td>999</td>\n      <td>999</td>\n      <td>999</td>\n    </tr>\n    <tr>\n      <th>b</th>\n      <td>999</td>\n      <td>999</td>\n      <td>999</td>\n      <td>999</td>\n      <td>999</td>\n      <td>999</td>\n    </tr>\n    <tr>\n      <th>b</th>\n      <td>999</td>\n      <td>999</td>\n      <td>999</td>\n      <td>999</td>\n      <td>999</td>\n      <td>999</td>\n    </tr>\n    <tr>\n      <th>b</th>\n      <td>999</td>\n      <td>999</td>\n      <td>999</td>\n      <td>999</td>\n      <td>999</td>\n      <td>999</td>\n    </tr>\n  </tbody>\n</table>\n</div>"
     },
     "metadata": {}
    },
    {
     "output_type": "display_data",
     "data": {
      "text/plain": "     999    b    a    b    b    a\n999    0    0    0    0    0    0\na      0    0    1    1    1    1\nb      0    1  999  999  999  999\na    999  999  999  999  999  999\nb    999  999  999  999  999  999\nb    999  999  999  999  999  999\nb    999  999  999  999  999  999",
      "text/html": "<div>\n<style scoped>\n    .dataframe tbody tr th:only-of-type {\n        vertical-align: middle;\n    }\n\n    .dataframe tbody tr th {\n        vertical-align: top;\n    }\n\n    .dataframe thead th {\n        text-align: right;\n    }\n</style>\n<table border=\"1\" class=\"dataframe\">\n  <thead>\n    <tr style=\"text-align: right;\">\n      <th></th>\n      <th>999</th>\n      <th>b</th>\n      <th>a</th>\n      <th>b</th>\n      <th>b</th>\n      <th>a</th>\n    </tr>\n  </thead>\n  <tbody>\n    <tr>\n      <th>999</th>\n      <td>0</td>\n      <td>0</td>\n      <td>0</td>\n      <td>0</td>\n      <td>0</td>\n      <td>0</td>\n    </tr>\n    <tr>\n      <th>a</th>\n      <td>0</td>\n      <td>0</td>\n      <td>1</td>\n      <td>1</td>\n      <td>1</td>\n      <td>1</td>\n    </tr>\n    <tr>\n      <th>b</th>\n      <td>0</td>\n      <td>1</td>\n      <td>999</td>\n      <td>999</td>\n      <td>999</td>\n      <td>999</td>\n    </tr>\n    <tr>\n      <th>a</th>\n      <td>999</td>\n      <td>999</td>\n      <td>999</td>\n      <td>999</td>\n      <td>999</td>\n      <td>999</td>\n    </tr>\n    <tr>\n      <th>b</th>\n      <td>999</td>\n      <td>999</td>\n      <td>999</td>\n      <td>999</td>\n      <td>999</td>\n      <td>999</td>\n    </tr>\n    <tr>\n      <th>b</th>\n      <td>999</td>\n      <td>999</td>\n      <td>999</td>\n      <td>999</td>\n      <td>999</td>\n      <td>999</td>\n    </tr>\n    <tr>\n      <th>b</th>\n      <td>999</td>\n      <td>999</td>\n      <td>999</td>\n      <td>999</td>\n      <td>999</td>\n      <td>999</td>\n    </tr>\n  </tbody>\n</table>\n</div>"
     },
     "metadata": {}
    },
    {
     "output_type": "display_data",
     "data": {
      "text/plain": "     999    b    a    b    b    a\n999    0    0    0    0    0    0\na      0    0    1    1    1    1\nb      0    1    1  999  999  999\na    999  999  999  999  999  999\nb    999  999  999  999  999  999\nb    999  999  999  999  999  999\nb    999  999  999  999  999  999",
      "text/html": "<div>\n<style scoped>\n    .dataframe tbody tr th:only-of-type {\n        vertical-align: middle;\n    }\n\n    .dataframe tbody tr th {\n        vertical-align: top;\n    }\n\n    .dataframe thead th {\n        text-align: right;\n    }\n</style>\n<table border=\"1\" class=\"dataframe\">\n  <thead>\n    <tr style=\"text-align: right;\">\n      <th></th>\n      <th>999</th>\n      <th>b</th>\n      <th>a</th>\n      <th>b</th>\n      <th>b</th>\n      <th>a</th>\n    </tr>\n  </thead>\n  <tbody>\n    <tr>\n      <th>999</th>\n      <td>0</td>\n      <td>0</td>\n      <td>0</td>\n      <td>0</td>\n      <td>0</td>\n      <td>0</td>\n    </tr>\n    <tr>\n      <th>a</th>\n      <td>0</td>\n      <td>0</td>\n      <td>1</td>\n      <td>1</td>\n      <td>1</td>\n      <td>1</td>\n    </tr>\n    <tr>\n      <th>b</th>\n      <td>0</td>\n      <td>1</td>\n      <td>1</td>\n      <td>999</td>\n      <td>999</td>\n      <td>999</td>\n    </tr>\n    <tr>\n      <th>a</th>\n      <td>999</td>\n      <td>999</td>\n      <td>999</td>\n      <td>999</td>\n      <td>999</td>\n      <td>999</td>\n    </tr>\n    <tr>\n      <th>b</th>\n      <td>999</td>\n      <td>999</td>\n      <td>999</td>\n      <td>999</td>\n      <td>999</td>\n      <td>999</td>\n    </tr>\n    <tr>\n      <th>b</th>\n      <td>999</td>\n      <td>999</td>\n      <td>999</td>\n      <td>999</td>\n      <td>999</td>\n      <td>999</td>\n    </tr>\n    <tr>\n      <th>b</th>\n      <td>999</td>\n      <td>999</td>\n      <td>999</td>\n      <td>999</td>\n      <td>999</td>\n      <td>999</td>\n    </tr>\n  </tbody>\n</table>\n</div>"
     },
     "metadata": {}
    },
    {
     "output_type": "display_data",
     "data": {
      "text/plain": "     999    b    a    b    b    a\n999    0    0    0    0    0    0\na      0    0    1    1    1    1\nb      0    1    1    2  999  999\na    999  999  999  999  999  999\nb    999  999  999  999  999  999\nb    999  999  999  999  999  999\nb    999  999  999  999  999  999",
      "text/html": "<div>\n<style scoped>\n    .dataframe tbody tr th:only-of-type {\n        vertical-align: middle;\n    }\n\n    .dataframe tbody tr th {\n        vertical-align: top;\n    }\n\n    .dataframe thead th {\n        text-align: right;\n    }\n</style>\n<table border=\"1\" class=\"dataframe\">\n  <thead>\n    <tr style=\"text-align: right;\">\n      <th></th>\n      <th>999</th>\n      <th>b</th>\n      <th>a</th>\n      <th>b</th>\n      <th>b</th>\n      <th>a</th>\n    </tr>\n  </thead>\n  <tbody>\n    <tr>\n      <th>999</th>\n      <td>0</td>\n      <td>0</td>\n      <td>0</td>\n      <td>0</td>\n      <td>0</td>\n      <td>0</td>\n    </tr>\n    <tr>\n      <th>a</th>\n      <td>0</td>\n      <td>0</td>\n      <td>1</td>\n      <td>1</td>\n      <td>1</td>\n      <td>1</td>\n    </tr>\n    <tr>\n      <th>b</th>\n      <td>0</td>\n      <td>1</td>\n      <td>1</td>\n      <td>2</td>\n      <td>999</td>\n      <td>999</td>\n    </tr>\n    <tr>\n      <th>a</th>\n      <td>999</td>\n      <td>999</td>\n      <td>999</td>\n      <td>999</td>\n      <td>999</td>\n      <td>999</td>\n    </tr>\n    <tr>\n      <th>b</th>\n      <td>999</td>\n      <td>999</td>\n      <td>999</td>\n      <td>999</td>\n      <td>999</td>\n      <td>999</td>\n    </tr>\n    <tr>\n      <th>b</th>\n      <td>999</td>\n      <td>999</td>\n      <td>999</td>\n      <td>999</td>\n      <td>999</td>\n      <td>999</td>\n    </tr>\n    <tr>\n      <th>b</th>\n      <td>999</td>\n      <td>999</td>\n      <td>999</td>\n      <td>999</td>\n      <td>999</td>\n      <td>999</td>\n    </tr>\n  </tbody>\n</table>\n</div>"
     },
     "metadata": {}
    },
    {
     "output_type": "display_data",
     "data": {
      "text/plain": "     999    b    a    b    b    a\n999    0    0    0    0    0    0\na      0    0    1    1    1    1\nb      0    1    1    2    2  999\na    999  999  999  999  999  999\nb    999  999  999  999  999  999\nb    999  999  999  999  999  999\nb    999  999  999  999  999  999",
      "text/html": "<div>\n<style scoped>\n    .dataframe tbody tr th:only-of-type {\n        vertical-align: middle;\n    }\n\n    .dataframe tbody tr th {\n        vertical-align: top;\n    }\n\n    .dataframe thead th {\n        text-align: right;\n    }\n</style>\n<table border=\"1\" class=\"dataframe\">\n  <thead>\n    <tr style=\"text-align: right;\">\n      <th></th>\n      <th>999</th>\n      <th>b</th>\n      <th>a</th>\n      <th>b</th>\n      <th>b</th>\n      <th>a</th>\n    </tr>\n  </thead>\n  <tbody>\n    <tr>\n      <th>999</th>\n      <td>0</td>\n      <td>0</td>\n      <td>0</td>\n      <td>0</td>\n      <td>0</td>\n      <td>0</td>\n    </tr>\n    <tr>\n      <th>a</th>\n      <td>0</td>\n      <td>0</td>\n      <td>1</td>\n      <td>1</td>\n      <td>1</td>\n      <td>1</td>\n    </tr>\n    <tr>\n      <th>b</th>\n      <td>0</td>\n      <td>1</td>\n      <td>1</td>\n      <td>2</td>\n      <td>2</td>\n      <td>999</td>\n    </tr>\n    <tr>\n      <th>a</th>\n      <td>999</td>\n      <td>999</td>\n      <td>999</td>\n      <td>999</td>\n      <td>999</td>\n      <td>999</td>\n    </tr>\n    <tr>\n      <th>b</th>\n      <td>999</td>\n      <td>999</td>\n      <td>999</td>\n      <td>999</td>\n      <td>999</td>\n      <td>999</td>\n    </tr>\n    <tr>\n      <th>b</th>\n      <td>999</td>\n      <td>999</td>\n      <td>999</td>\n      <td>999</td>\n      <td>999</td>\n      <td>999</td>\n    </tr>\n    <tr>\n      <th>b</th>\n      <td>999</td>\n      <td>999</td>\n      <td>999</td>\n      <td>999</td>\n      <td>999</td>\n      <td>999</td>\n    </tr>\n  </tbody>\n</table>\n</div>"
     },
     "metadata": {}
    },
    {
     "output_type": "display_data",
     "data": {
      "text/plain": "     999    b    a    b    b    a\n999    0    0    0    0    0    0\na      0    0    1    1    1    1\nb      0    1    1    2    2    2\na    999  999  999  999  999  999\nb    999  999  999  999  999  999\nb    999  999  999  999  999  999\nb    999  999  999  999  999  999",
      "text/html": "<div>\n<style scoped>\n    .dataframe tbody tr th:only-of-type {\n        vertical-align: middle;\n    }\n\n    .dataframe tbody tr th {\n        vertical-align: top;\n    }\n\n    .dataframe thead th {\n        text-align: right;\n    }\n</style>\n<table border=\"1\" class=\"dataframe\">\n  <thead>\n    <tr style=\"text-align: right;\">\n      <th></th>\n      <th>999</th>\n      <th>b</th>\n      <th>a</th>\n      <th>b</th>\n      <th>b</th>\n      <th>a</th>\n    </tr>\n  </thead>\n  <tbody>\n    <tr>\n      <th>999</th>\n      <td>0</td>\n      <td>0</td>\n      <td>0</td>\n      <td>0</td>\n      <td>0</td>\n      <td>0</td>\n    </tr>\n    <tr>\n      <th>a</th>\n      <td>0</td>\n      <td>0</td>\n      <td>1</td>\n      <td>1</td>\n      <td>1</td>\n      <td>1</td>\n    </tr>\n    <tr>\n      <th>b</th>\n      <td>0</td>\n      <td>1</td>\n      <td>1</td>\n      <td>2</td>\n      <td>2</td>\n      <td>2</td>\n    </tr>\n    <tr>\n      <th>a</th>\n      <td>999</td>\n      <td>999</td>\n      <td>999</td>\n      <td>999</td>\n      <td>999</td>\n      <td>999</td>\n    </tr>\n    <tr>\n      <th>b</th>\n      <td>999</td>\n      <td>999</td>\n      <td>999</td>\n      <td>999</td>\n      <td>999</td>\n      <td>999</td>\n    </tr>\n    <tr>\n      <th>b</th>\n      <td>999</td>\n      <td>999</td>\n      <td>999</td>\n      <td>999</td>\n      <td>999</td>\n      <td>999</td>\n    </tr>\n    <tr>\n      <th>b</th>\n      <td>999</td>\n      <td>999</td>\n      <td>999</td>\n      <td>999</td>\n      <td>999</td>\n      <td>999</td>\n    </tr>\n  </tbody>\n</table>\n</div>"
     },
     "metadata": {}
    },
    {
     "output_type": "display_data",
     "data": {
      "text/plain": "     999    b    a    b    b    a\n999    0    0    0    0    0    0\na      0    0    1    1    1    1\nb      0    1    1    2    2    2\na      0  999  999  999  999  999\nb    999  999  999  999  999  999\nb    999  999  999  999  999  999\nb    999  999  999  999  999  999",
      "text/html": "<div>\n<style scoped>\n    .dataframe tbody tr th:only-of-type {\n        vertical-align: middle;\n    }\n\n    .dataframe tbody tr th {\n        vertical-align: top;\n    }\n\n    .dataframe thead th {\n        text-align: right;\n    }\n</style>\n<table border=\"1\" class=\"dataframe\">\n  <thead>\n    <tr style=\"text-align: right;\">\n      <th></th>\n      <th>999</th>\n      <th>b</th>\n      <th>a</th>\n      <th>b</th>\n      <th>b</th>\n      <th>a</th>\n    </tr>\n  </thead>\n  <tbody>\n    <tr>\n      <th>999</th>\n      <td>0</td>\n      <td>0</td>\n      <td>0</td>\n      <td>0</td>\n      <td>0</td>\n      <td>0</td>\n    </tr>\n    <tr>\n      <th>a</th>\n      <td>0</td>\n      <td>0</td>\n      <td>1</td>\n      <td>1</td>\n      <td>1</td>\n      <td>1</td>\n    </tr>\n    <tr>\n      <th>b</th>\n      <td>0</td>\n      <td>1</td>\n      <td>1</td>\n      <td>2</td>\n      <td>2</td>\n      <td>2</td>\n    </tr>\n    <tr>\n      <th>a</th>\n      <td>0</td>\n      <td>999</td>\n      <td>999</td>\n      <td>999</td>\n      <td>999</td>\n      <td>999</td>\n    </tr>\n    <tr>\n      <th>b</th>\n      <td>999</td>\n      <td>999</td>\n      <td>999</td>\n      <td>999</td>\n      <td>999</td>\n      <td>999</td>\n    </tr>\n    <tr>\n      <th>b</th>\n      <td>999</td>\n      <td>999</td>\n      <td>999</td>\n      <td>999</td>\n      <td>999</td>\n      <td>999</td>\n    </tr>\n    <tr>\n      <th>b</th>\n      <td>999</td>\n      <td>999</td>\n      <td>999</td>\n      <td>999</td>\n      <td>999</td>\n      <td>999</td>\n    </tr>\n  </tbody>\n</table>\n</div>"
     },
     "metadata": {}
    },
    {
     "output_type": "display_data",
     "data": {
      "text/plain": "     999    b    a    b    b    a\n999    0    0    0    0    0    0\na      0    0    1    1    1    1\nb      0    1    1    2    2    2\na      0    1  999  999  999  999\nb    999  999  999  999  999  999\nb    999  999  999  999  999  999\nb    999  999  999  999  999  999",
      "text/html": "<div>\n<style scoped>\n    .dataframe tbody tr th:only-of-type {\n        vertical-align: middle;\n    }\n\n    .dataframe tbody tr th {\n        vertical-align: top;\n    }\n\n    .dataframe thead th {\n        text-align: right;\n    }\n</style>\n<table border=\"1\" class=\"dataframe\">\n  <thead>\n    <tr style=\"text-align: right;\">\n      <th></th>\n      <th>999</th>\n      <th>b</th>\n      <th>a</th>\n      <th>b</th>\n      <th>b</th>\n      <th>a</th>\n    </tr>\n  </thead>\n  <tbody>\n    <tr>\n      <th>999</th>\n      <td>0</td>\n      <td>0</td>\n      <td>0</td>\n      <td>0</td>\n      <td>0</td>\n      <td>0</td>\n    </tr>\n    <tr>\n      <th>a</th>\n      <td>0</td>\n      <td>0</td>\n      <td>1</td>\n      <td>1</td>\n      <td>1</td>\n      <td>1</td>\n    </tr>\n    <tr>\n      <th>b</th>\n      <td>0</td>\n      <td>1</td>\n      <td>1</td>\n      <td>2</td>\n      <td>2</td>\n      <td>2</td>\n    </tr>\n    <tr>\n      <th>a</th>\n      <td>0</td>\n      <td>1</td>\n      <td>999</td>\n      <td>999</td>\n      <td>999</td>\n      <td>999</td>\n    </tr>\n    <tr>\n      <th>b</th>\n      <td>999</td>\n      <td>999</td>\n      <td>999</td>\n      <td>999</td>\n      <td>999</td>\n      <td>999</td>\n    </tr>\n    <tr>\n      <th>b</th>\n      <td>999</td>\n      <td>999</td>\n      <td>999</td>\n      <td>999</td>\n      <td>999</td>\n      <td>999</td>\n    </tr>\n    <tr>\n      <th>b</th>\n      <td>999</td>\n      <td>999</td>\n      <td>999</td>\n      <td>999</td>\n      <td>999</td>\n      <td>999</td>\n    </tr>\n  </tbody>\n</table>\n</div>"
     },
     "metadata": {}
    },
    {
     "output_type": "display_data",
     "data": {
      "text/plain": "     999    b    a    b    b    a\n999    0    0    0    0    0    0\na      0    0    1    1    1    1\nb      0    1    1    2    2    2\na      0    1    2  999  999  999\nb    999  999  999  999  999  999\nb    999  999  999  999  999  999\nb    999  999  999  999  999  999",
      "text/html": "<div>\n<style scoped>\n    .dataframe tbody tr th:only-of-type {\n        vertical-align: middle;\n    }\n\n    .dataframe tbody tr th {\n        vertical-align: top;\n    }\n\n    .dataframe thead th {\n        text-align: right;\n    }\n</style>\n<table border=\"1\" class=\"dataframe\">\n  <thead>\n    <tr style=\"text-align: right;\">\n      <th></th>\n      <th>999</th>\n      <th>b</th>\n      <th>a</th>\n      <th>b</th>\n      <th>b</th>\n      <th>a</th>\n    </tr>\n  </thead>\n  <tbody>\n    <tr>\n      <th>999</th>\n      <td>0</td>\n      <td>0</td>\n      <td>0</td>\n      <td>0</td>\n      <td>0</td>\n      <td>0</td>\n    </tr>\n    <tr>\n      <th>a</th>\n      <td>0</td>\n      <td>0</td>\n      <td>1</td>\n      <td>1</td>\n      <td>1</td>\n      <td>1</td>\n    </tr>\n    <tr>\n      <th>b</th>\n      <td>0</td>\n      <td>1</td>\n      <td>1</td>\n      <td>2</td>\n      <td>2</td>\n      <td>2</td>\n    </tr>\n    <tr>\n      <th>a</th>\n      <td>0</td>\n      <td>1</td>\n      <td>2</td>\n      <td>999</td>\n      <td>999</td>\n      <td>999</td>\n    </tr>\n    <tr>\n      <th>b</th>\n      <td>999</td>\n      <td>999</td>\n      <td>999</td>\n      <td>999</td>\n      <td>999</td>\n      <td>999</td>\n    </tr>\n    <tr>\n      <th>b</th>\n      <td>999</td>\n      <td>999</td>\n      <td>999</td>\n      <td>999</td>\n      <td>999</td>\n      <td>999</td>\n    </tr>\n    <tr>\n      <th>b</th>\n      <td>999</td>\n      <td>999</td>\n      <td>999</td>\n      <td>999</td>\n      <td>999</td>\n      <td>999</td>\n    </tr>\n  </tbody>\n</table>\n</div>"
     },
     "metadata": {}
    },
    {
     "output_type": "display_data",
     "data": {
      "text/plain": "     999    b    a    b    b    a\n999    0    0    0    0    0    0\na      0    0    1    1    1    1\nb      0    1    1    2    2    2\na      0    1    2    2  999  999\nb    999  999  999  999  999  999\nb    999  999  999  999  999  999\nb    999  999  999  999  999  999",
      "text/html": "<div>\n<style scoped>\n    .dataframe tbody tr th:only-of-type {\n        vertical-align: middle;\n    }\n\n    .dataframe tbody tr th {\n        vertical-align: top;\n    }\n\n    .dataframe thead th {\n        text-align: right;\n    }\n</style>\n<table border=\"1\" class=\"dataframe\">\n  <thead>\n    <tr style=\"text-align: right;\">\n      <th></th>\n      <th>999</th>\n      <th>b</th>\n      <th>a</th>\n      <th>b</th>\n      <th>b</th>\n      <th>a</th>\n    </tr>\n  </thead>\n  <tbody>\n    <tr>\n      <th>999</th>\n      <td>0</td>\n      <td>0</td>\n      <td>0</td>\n      <td>0</td>\n      <td>0</td>\n      <td>0</td>\n    </tr>\n    <tr>\n      <th>a</th>\n      <td>0</td>\n      <td>0</td>\n      <td>1</td>\n      <td>1</td>\n      <td>1</td>\n      <td>1</td>\n    </tr>\n    <tr>\n      <th>b</th>\n      <td>0</td>\n      <td>1</td>\n      <td>1</td>\n      <td>2</td>\n      <td>2</td>\n      <td>2</td>\n    </tr>\n    <tr>\n      <th>a</th>\n      <td>0</td>\n      <td>1</td>\n      <td>2</td>\n      <td>2</td>\n      <td>999</td>\n      <td>999</td>\n    </tr>\n    <tr>\n      <th>b</th>\n      <td>999</td>\n      <td>999</td>\n      <td>999</td>\n      <td>999</td>\n      <td>999</td>\n      <td>999</td>\n    </tr>\n    <tr>\n      <th>b</th>\n      <td>999</td>\n      <td>999</td>\n      <td>999</td>\n      <td>999</td>\n      <td>999</td>\n      <td>999</td>\n    </tr>\n    <tr>\n      <th>b</th>\n      <td>999</td>\n      <td>999</td>\n      <td>999</td>\n      <td>999</td>\n      <td>999</td>\n      <td>999</td>\n    </tr>\n  </tbody>\n</table>\n</div>"
     },
     "metadata": {}
    },
    {
     "output_type": "display_data",
     "data": {
      "text/plain": "     999    b    a    b    b    a\n999    0    0    0    0    0    0\na      0    0    1    1    1    1\nb      0    1    1    2    2    2\na      0    1    2    2    2  999\nb    999  999  999  999  999  999\nb    999  999  999  999  999  999\nb    999  999  999  999  999  999",
      "text/html": "<div>\n<style scoped>\n    .dataframe tbody tr th:only-of-type {\n        vertical-align: middle;\n    }\n\n    .dataframe tbody tr th {\n        vertical-align: top;\n    }\n\n    .dataframe thead th {\n        text-align: right;\n    }\n</style>\n<table border=\"1\" class=\"dataframe\">\n  <thead>\n    <tr style=\"text-align: right;\">\n      <th></th>\n      <th>999</th>\n      <th>b</th>\n      <th>a</th>\n      <th>b</th>\n      <th>b</th>\n      <th>a</th>\n    </tr>\n  </thead>\n  <tbody>\n    <tr>\n      <th>999</th>\n      <td>0</td>\n      <td>0</td>\n      <td>0</td>\n      <td>0</td>\n      <td>0</td>\n      <td>0</td>\n    </tr>\n    <tr>\n      <th>a</th>\n      <td>0</td>\n      <td>0</td>\n      <td>1</td>\n      <td>1</td>\n      <td>1</td>\n      <td>1</td>\n    </tr>\n    <tr>\n      <th>b</th>\n      <td>0</td>\n      <td>1</td>\n      <td>1</td>\n      <td>2</td>\n      <td>2</td>\n      <td>2</td>\n    </tr>\n    <tr>\n      <th>a</th>\n      <td>0</td>\n      <td>1</td>\n      <td>2</td>\n      <td>2</td>\n      <td>2</td>\n      <td>999</td>\n    </tr>\n    <tr>\n      <th>b</th>\n      <td>999</td>\n      <td>999</td>\n      <td>999</td>\n      <td>999</td>\n      <td>999</td>\n      <td>999</td>\n    </tr>\n    <tr>\n      <th>b</th>\n      <td>999</td>\n      <td>999</td>\n      <td>999</td>\n      <td>999</td>\n      <td>999</td>\n      <td>999</td>\n    </tr>\n    <tr>\n      <th>b</th>\n      <td>999</td>\n      <td>999</td>\n      <td>999</td>\n      <td>999</td>\n      <td>999</td>\n      <td>999</td>\n    </tr>\n  </tbody>\n</table>\n</div>"
     },
     "metadata": {}
    },
    {
     "output_type": "display_data",
     "data": {
      "text/plain": "     999    b    a    b    b    a\n999    0    0    0    0    0    0\na      0    0    1    1    1    1\nb      0    1    1    2    2    2\na      0    1    2    2    2    3\nb    999  999  999  999  999  999\nb    999  999  999  999  999  999\nb    999  999  999  999  999  999",
      "text/html": "<div>\n<style scoped>\n    .dataframe tbody tr th:only-of-type {\n        vertical-align: middle;\n    }\n\n    .dataframe tbody tr th {\n        vertical-align: top;\n    }\n\n    .dataframe thead th {\n        text-align: right;\n    }\n</style>\n<table border=\"1\" class=\"dataframe\">\n  <thead>\n    <tr style=\"text-align: right;\">\n      <th></th>\n      <th>999</th>\n      <th>b</th>\n      <th>a</th>\n      <th>b</th>\n      <th>b</th>\n      <th>a</th>\n    </tr>\n  </thead>\n  <tbody>\n    <tr>\n      <th>999</th>\n      <td>0</td>\n      <td>0</td>\n      <td>0</td>\n      <td>0</td>\n      <td>0</td>\n      <td>0</td>\n    </tr>\n    <tr>\n      <th>a</th>\n      <td>0</td>\n      <td>0</td>\n      <td>1</td>\n      <td>1</td>\n      <td>1</td>\n      <td>1</td>\n    </tr>\n    <tr>\n      <th>b</th>\n      <td>0</td>\n      <td>1</td>\n      <td>1</td>\n      <td>2</td>\n      <td>2</td>\n      <td>2</td>\n    </tr>\n    <tr>\n      <th>a</th>\n      <td>0</td>\n      <td>1</td>\n      <td>2</td>\n      <td>2</td>\n      <td>2</td>\n      <td>3</td>\n    </tr>\n    <tr>\n      <th>b</th>\n      <td>999</td>\n      <td>999</td>\n      <td>999</td>\n      <td>999</td>\n      <td>999</td>\n      <td>999</td>\n    </tr>\n    <tr>\n      <th>b</th>\n      <td>999</td>\n      <td>999</td>\n      <td>999</td>\n      <td>999</td>\n      <td>999</td>\n      <td>999</td>\n    </tr>\n    <tr>\n      <th>b</th>\n      <td>999</td>\n      <td>999</td>\n      <td>999</td>\n      <td>999</td>\n      <td>999</td>\n      <td>999</td>\n    </tr>\n  </tbody>\n</table>\n</div>"
     },
     "metadata": {}
    },
    {
     "output_type": "display_data",
     "data": {
      "text/plain": "     999    b    a    b    b    a\n999    0    0    0    0    0    0\na      0    0    1    1    1    1\nb      0    1    1    2    2    2\na      0    1    2    2    2    3\nb      0  999  999  999  999  999\nb    999  999  999  999  999  999\nb    999  999  999  999  999  999",
      "text/html": "<div>\n<style scoped>\n    .dataframe tbody tr th:only-of-type {\n        vertical-align: middle;\n    }\n\n    .dataframe tbody tr th {\n        vertical-align: top;\n    }\n\n    .dataframe thead th {\n        text-align: right;\n    }\n</style>\n<table border=\"1\" class=\"dataframe\">\n  <thead>\n    <tr style=\"text-align: right;\">\n      <th></th>\n      <th>999</th>\n      <th>b</th>\n      <th>a</th>\n      <th>b</th>\n      <th>b</th>\n      <th>a</th>\n    </tr>\n  </thead>\n  <tbody>\n    <tr>\n      <th>999</th>\n      <td>0</td>\n      <td>0</td>\n      <td>0</td>\n      <td>0</td>\n      <td>0</td>\n      <td>0</td>\n    </tr>\n    <tr>\n      <th>a</th>\n      <td>0</td>\n      <td>0</td>\n      <td>1</td>\n      <td>1</td>\n      <td>1</td>\n      <td>1</td>\n    </tr>\n    <tr>\n      <th>b</th>\n      <td>0</td>\n      <td>1</td>\n      <td>1</td>\n      <td>2</td>\n      <td>2</td>\n      <td>2</td>\n    </tr>\n    <tr>\n      <th>a</th>\n      <td>0</td>\n      <td>1</td>\n      <td>2</td>\n      <td>2</td>\n      <td>2</td>\n      <td>3</td>\n    </tr>\n    <tr>\n      <th>b</th>\n      <td>0</td>\n      <td>999</td>\n      <td>999</td>\n      <td>999</td>\n      <td>999</td>\n      <td>999</td>\n    </tr>\n    <tr>\n      <th>b</th>\n      <td>999</td>\n      <td>999</td>\n      <td>999</td>\n      <td>999</td>\n      <td>999</td>\n      <td>999</td>\n    </tr>\n    <tr>\n      <th>b</th>\n      <td>999</td>\n      <td>999</td>\n      <td>999</td>\n      <td>999</td>\n      <td>999</td>\n      <td>999</td>\n    </tr>\n  </tbody>\n</table>\n</div>"
     },
     "metadata": {}
    },
    {
     "output_type": "display_data",
     "data": {
      "text/plain": "     999    b    a    b    b    a\n999    0    0    0    0    0    0\na      0    0    1    1    1    1\nb      0    1    1    2    2    2\na      0    1    2    2    2    3\nb      0    1  999  999  999  999\nb    999  999  999  999  999  999\nb    999  999  999  999  999  999",
      "text/html": "<div>\n<style scoped>\n    .dataframe tbody tr th:only-of-type {\n        vertical-align: middle;\n    }\n\n    .dataframe tbody tr th {\n        vertical-align: top;\n    }\n\n    .dataframe thead th {\n        text-align: right;\n    }\n</style>\n<table border=\"1\" class=\"dataframe\">\n  <thead>\n    <tr style=\"text-align: right;\">\n      <th></th>\n      <th>999</th>\n      <th>b</th>\n      <th>a</th>\n      <th>b</th>\n      <th>b</th>\n      <th>a</th>\n    </tr>\n  </thead>\n  <tbody>\n    <tr>\n      <th>999</th>\n      <td>0</td>\n      <td>0</td>\n      <td>0</td>\n      <td>0</td>\n      <td>0</td>\n      <td>0</td>\n    </tr>\n    <tr>\n      <th>a</th>\n      <td>0</td>\n      <td>0</td>\n      <td>1</td>\n      <td>1</td>\n      <td>1</td>\n      <td>1</td>\n    </tr>\n    <tr>\n      <th>b</th>\n      <td>0</td>\n      <td>1</td>\n      <td>1</td>\n      <td>2</td>\n      <td>2</td>\n      <td>2</td>\n    </tr>\n    <tr>\n      <th>a</th>\n      <td>0</td>\n      <td>1</td>\n      <td>2</td>\n      <td>2</td>\n      <td>2</td>\n      <td>3</td>\n    </tr>\n    <tr>\n      <th>b</th>\n      <td>0</td>\n      <td>1</td>\n      <td>999</td>\n      <td>999</td>\n      <td>999</td>\n      <td>999</td>\n    </tr>\n    <tr>\n      <th>b</th>\n      <td>999</td>\n      <td>999</td>\n      <td>999</td>\n      <td>999</td>\n      <td>999</td>\n      <td>999</td>\n    </tr>\n    <tr>\n      <th>b</th>\n      <td>999</td>\n      <td>999</td>\n      <td>999</td>\n      <td>999</td>\n      <td>999</td>\n      <td>999</td>\n    </tr>\n  </tbody>\n</table>\n</div>"
     },
     "metadata": {}
    },
    {
     "output_type": "display_data",
     "data": {
      "text/plain": "     999    b    a    b    b    a\n999    0    0    0    0    0    0\na      0    0    1    1    1    1\nb      0    1    1    2    2    2\na      0    1    2    2    2    3\nb      0    1    2  999  999  999\nb    999  999  999  999  999  999\nb    999  999  999  999  999  999",
      "text/html": "<div>\n<style scoped>\n    .dataframe tbody tr th:only-of-type {\n        vertical-align: middle;\n    }\n\n    .dataframe tbody tr th {\n        vertical-align: top;\n    }\n\n    .dataframe thead th {\n        text-align: right;\n    }\n</style>\n<table border=\"1\" class=\"dataframe\">\n  <thead>\n    <tr style=\"text-align: right;\">\n      <th></th>\n      <th>999</th>\n      <th>b</th>\n      <th>a</th>\n      <th>b</th>\n      <th>b</th>\n      <th>a</th>\n    </tr>\n  </thead>\n  <tbody>\n    <tr>\n      <th>999</th>\n      <td>0</td>\n      <td>0</td>\n      <td>0</td>\n      <td>0</td>\n      <td>0</td>\n      <td>0</td>\n    </tr>\n    <tr>\n      <th>a</th>\n      <td>0</td>\n      <td>0</td>\n      <td>1</td>\n      <td>1</td>\n      <td>1</td>\n      <td>1</td>\n    </tr>\n    <tr>\n      <th>b</th>\n      <td>0</td>\n      <td>1</td>\n      <td>1</td>\n      <td>2</td>\n      <td>2</td>\n      <td>2</td>\n    </tr>\n    <tr>\n      <th>a</th>\n      <td>0</td>\n      <td>1</td>\n      <td>2</td>\n      <td>2</td>\n      <td>2</td>\n      <td>3</td>\n    </tr>\n    <tr>\n      <th>b</th>\n      <td>0</td>\n      <td>1</td>\n      <td>2</td>\n      <td>999</td>\n      <td>999</td>\n      <td>999</td>\n    </tr>\n    <tr>\n      <th>b</th>\n      <td>999</td>\n      <td>999</td>\n      <td>999</td>\n      <td>999</td>\n      <td>999</td>\n      <td>999</td>\n    </tr>\n    <tr>\n      <th>b</th>\n      <td>999</td>\n      <td>999</td>\n      <td>999</td>\n      <td>999</td>\n      <td>999</td>\n      <td>999</td>\n    </tr>\n  </tbody>\n</table>\n</div>"
     },
     "metadata": {}
    },
    {
     "output_type": "display_data",
     "data": {
      "text/plain": "     999    b    a    b    b    a\n999    0    0    0    0    0    0\na      0    0    1    1    1    1\nb      0    1    1    2    2    2\na      0    1    2    2    2    3\nb      0    1    2    3  999  999\nb    999  999  999  999  999  999\nb    999  999  999  999  999  999",
      "text/html": "<div>\n<style scoped>\n    .dataframe tbody tr th:only-of-type {\n        vertical-align: middle;\n    }\n\n    .dataframe tbody tr th {\n        vertical-align: top;\n    }\n\n    .dataframe thead th {\n        text-align: right;\n    }\n</style>\n<table border=\"1\" class=\"dataframe\">\n  <thead>\n    <tr style=\"text-align: right;\">\n      <th></th>\n      <th>999</th>\n      <th>b</th>\n      <th>a</th>\n      <th>b</th>\n      <th>b</th>\n      <th>a</th>\n    </tr>\n  </thead>\n  <tbody>\n    <tr>\n      <th>999</th>\n      <td>0</td>\n      <td>0</td>\n      <td>0</td>\n      <td>0</td>\n      <td>0</td>\n      <td>0</td>\n    </tr>\n    <tr>\n      <th>a</th>\n      <td>0</td>\n      <td>0</td>\n      <td>1</td>\n      <td>1</td>\n      <td>1</td>\n      <td>1</td>\n    </tr>\n    <tr>\n      <th>b</th>\n      <td>0</td>\n      <td>1</td>\n      <td>1</td>\n      <td>2</td>\n      <td>2</td>\n      <td>2</td>\n    </tr>\n    <tr>\n      <th>a</th>\n      <td>0</td>\n      <td>1</td>\n      <td>2</td>\n      <td>2</td>\n      <td>2</td>\n      <td>3</td>\n    </tr>\n    <tr>\n      <th>b</th>\n      <td>0</td>\n      <td>1</td>\n      <td>2</td>\n      <td>3</td>\n      <td>999</td>\n      <td>999</td>\n    </tr>\n    <tr>\n      <th>b</th>\n      <td>999</td>\n      <td>999</td>\n      <td>999</td>\n      <td>999</td>\n      <td>999</td>\n      <td>999</td>\n    </tr>\n    <tr>\n      <th>b</th>\n      <td>999</td>\n      <td>999</td>\n      <td>999</td>\n      <td>999</td>\n      <td>999</td>\n      <td>999</td>\n    </tr>\n  </tbody>\n</table>\n</div>"
     },
     "metadata": {}
    },
    {
     "output_type": "display_data",
     "data": {
      "text/plain": "     999    b    a    b    b    a\n999    0    0    0    0    0    0\na      0    0    1    1    1    1\nb      0    1    1    2    2    2\na      0    1    2    2    2    3\nb      0    1    2    3    3  999\nb    999  999  999  999  999  999\nb    999  999  999  999  999  999",
      "text/html": "<div>\n<style scoped>\n    .dataframe tbody tr th:only-of-type {\n        vertical-align: middle;\n    }\n\n    .dataframe tbody tr th {\n        vertical-align: top;\n    }\n\n    .dataframe thead th {\n        text-align: right;\n    }\n</style>\n<table border=\"1\" class=\"dataframe\">\n  <thead>\n    <tr style=\"text-align: right;\">\n      <th></th>\n      <th>999</th>\n      <th>b</th>\n      <th>a</th>\n      <th>b</th>\n      <th>b</th>\n      <th>a</th>\n    </tr>\n  </thead>\n  <tbody>\n    <tr>\n      <th>999</th>\n      <td>0</td>\n      <td>0</td>\n      <td>0</td>\n      <td>0</td>\n      <td>0</td>\n      <td>0</td>\n    </tr>\n    <tr>\n      <th>a</th>\n      <td>0</td>\n      <td>0</td>\n      <td>1</td>\n      <td>1</td>\n      <td>1</td>\n      <td>1</td>\n    </tr>\n    <tr>\n      <th>b</th>\n      <td>0</td>\n      <td>1</td>\n      <td>1</td>\n      <td>2</td>\n      <td>2</td>\n      <td>2</td>\n    </tr>\n    <tr>\n      <th>a</th>\n      <td>0</td>\n      <td>1</td>\n      <td>2</td>\n      <td>2</td>\n      <td>2</td>\n      <td>3</td>\n    </tr>\n    <tr>\n      <th>b</th>\n      <td>0</td>\n      <td>1</td>\n      <td>2</td>\n      <td>3</td>\n      <td>3</td>\n      <td>999</td>\n    </tr>\n    <tr>\n      <th>b</th>\n      <td>999</td>\n      <td>999</td>\n      <td>999</td>\n      <td>999</td>\n      <td>999</td>\n      <td>999</td>\n    </tr>\n    <tr>\n      <th>b</th>\n      <td>999</td>\n      <td>999</td>\n      <td>999</td>\n      <td>999</td>\n      <td>999</td>\n      <td>999</td>\n    </tr>\n  </tbody>\n</table>\n</div>"
     },
     "metadata": {}
    },
    {
     "output_type": "display_data",
     "data": {
      "text/plain": "     999    b    a    b    b    a\n999    0    0    0    0    0    0\na      0    0    1    1    1    1\nb      0    1    1    2    2    2\na      0    1    2    2    2    3\nb      0    1    2    3    3    3\nb    999  999  999  999  999  999\nb    999  999  999  999  999  999",
      "text/html": "<div>\n<style scoped>\n    .dataframe tbody tr th:only-of-type {\n        vertical-align: middle;\n    }\n\n    .dataframe tbody tr th {\n        vertical-align: top;\n    }\n\n    .dataframe thead th {\n        text-align: right;\n    }\n</style>\n<table border=\"1\" class=\"dataframe\">\n  <thead>\n    <tr style=\"text-align: right;\">\n      <th></th>\n      <th>999</th>\n      <th>b</th>\n      <th>a</th>\n      <th>b</th>\n      <th>b</th>\n      <th>a</th>\n    </tr>\n  </thead>\n  <tbody>\n    <tr>\n      <th>999</th>\n      <td>0</td>\n      <td>0</td>\n      <td>0</td>\n      <td>0</td>\n      <td>0</td>\n      <td>0</td>\n    </tr>\n    <tr>\n      <th>a</th>\n      <td>0</td>\n      <td>0</td>\n      <td>1</td>\n      <td>1</td>\n      <td>1</td>\n      <td>1</td>\n    </tr>\n    <tr>\n      <th>b</th>\n      <td>0</td>\n      <td>1</td>\n      <td>1</td>\n      <td>2</td>\n      <td>2</td>\n      <td>2</td>\n    </tr>\n    <tr>\n      <th>a</th>\n      <td>0</td>\n      <td>1</td>\n      <td>2</td>\n      <td>2</td>\n      <td>2</td>\n      <td>3</td>\n    </tr>\n    <tr>\n      <th>b</th>\n      <td>0</td>\n      <td>1</td>\n      <td>2</td>\n      <td>3</td>\n      <td>3</td>\n      <td>3</td>\n    </tr>\n    <tr>\n      <th>b</th>\n      <td>999</td>\n      <td>999</td>\n      <td>999</td>\n      <td>999</td>\n      <td>999</td>\n      <td>999</td>\n    </tr>\n    <tr>\n      <th>b</th>\n      <td>999</td>\n      <td>999</td>\n      <td>999</td>\n      <td>999</td>\n      <td>999</td>\n      <td>999</td>\n    </tr>\n  </tbody>\n</table>\n</div>"
     },
     "metadata": {}
    },
    {
     "output_type": "display_data",
     "data": {
      "text/plain": "     999    b    a    b    b    a\n999    0    0    0    0    0    0\na      0    0    1    1    1    1\nb      0    1    1    2    2    2\na      0    1    2    2    2    3\nb      0    1    2    3    3    3\nb      0  999  999  999  999  999\nb    999  999  999  999  999  999",
      "text/html": "<div>\n<style scoped>\n    .dataframe tbody tr th:only-of-type {\n        vertical-align: middle;\n    }\n\n    .dataframe tbody tr th {\n        vertical-align: top;\n    }\n\n    .dataframe thead th {\n        text-align: right;\n    }\n</style>\n<table border=\"1\" class=\"dataframe\">\n  <thead>\n    <tr style=\"text-align: right;\">\n      <th></th>\n      <th>999</th>\n      <th>b</th>\n      <th>a</th>\n      <th>b</th>\n      <th>b</th>\n      <th>a</th>\n    </tr>\n  </thead>\n  <tbody>\n    <tr>\n      <th>999</th>\n      <td>0</td>\n      <td>0</td>\n      <td>0</td>\n      <td>0</td>\n      <td>0</td>\n      <td>0</td>\n    </tr>\n    <tr>\n      <th>a</th>\n      <td>0</td>\n      <td>0</td>\n      <td>1</td>\n      <td>1</td>\n      <td>1</td>\n      <td>1</td>\n    </tr>\n    <tr>\n      <th>b</th>\n      <td>0</td>\n      <td>1</td>\n      <td>1</td>\n      <td>2</td>\n      <td>2</td>\n      <td>2</td>\n    </tr>\n    <tr>\n      <th>a</th>\n      <td>0</td>\n      <td>1</td>\n      <td>2</td>\n      <td>2</td>\n      <td>2</td>\n      <td>3</td>\n    </tr>\n    <tr>\n      <th>b</th>\n      <td>0</td>\n      <td>1</td>\n      <td>2</td>\n      <td>3</td>\n      <td>3</td>\n      <td>3</td>\n    </tr>\n    <tr>\n      <th>b</th>\n      <td>0</td>\n      <td>999</td>\n      <td>999</td>\n      <td>999</td>\n      <td>999</td>\n      <td>999</td>\n    </tr>\n    <tr>\n      <th>b</th>\n      <td>999</td>\n      <td>999</td>\n      <td>999</td>\n      <td>999</td>\n      <td>999</td>\n      <td>999</td>\n    </tr>\n  </tbody>\n</table>\n</div>"
     },
     "metadata": {}
    },
    {
     "output_type": "display_data",
     "data": {
      "text/plain": "     999    b    a    b    b    a\n999    0    0    0    0    0    0\na      0    0    1    1    1    1\nb      0    1    1    2    2    2\na      0    1    2    2    2    3\nb      0    1    2    3    3    3\nb      0    1  999  999  999  999\nb    999  999  999  999  999  999",
      "text/html": "<div>\n<style scoped>\n    .dataframe tbody tr th:only-of-type {\n        vertical-align: middle;\n    }\n\n    .dataframe tbody tr th {\n        vertical-align: top;\n    }\n\n    .dataframe thead th {\n        text-align: right;\n    }\n</style>\n<table border=\"1\" class=\"dataframe\">\n  <thead>\n    <tr style=\"text-align: right;\">\n      <th></th>\n      <th>999</th>\n      <th>b</th>\n      <th>a</th>\n      <th>b</th>\n      <th>b</th>\n      <th>a</th>\n    </tr>\n  </thead>\n  <tbody>\n    <tr>\n      <th>999</th>\n      <td>0</td>\n      <td>0</td>\n      <td>0</td>\n      <td>0</td>\n      <td>0</td>\n      <td>0</td>\n    </tr>\n    <tr>\n      <th>a</th>\n      <td>0</td>\n      <td>0</td>\n      <td>1</td>\n      <td>1</td>\n      <td>1</td>\n      <td>1</td>\n    </tr>\n    <tr>\n      <th>b</th>\n      <td>0</td>\n      <td>1</td>\n      <td>1</td>\n      <td>2</td>\n      <td>2</td>\n      <td>2</td>\n    </tr>\n    <tr>\n      <th>a</th>\n      <td>0</td>\n      <td>1</td>\n      <td>2</td>\n      <td>2</td>\n      <td>2</td>\n      <td>3</td>\n    </tr>\n    <tr>\n      <th>b</th>\n      <td>0</td>\n      <td>1</td>\n      <td>2</td>\n      <td>3</td>\n      <td>3</td>\n      <td>3</td>\n    </tr>\n    <tr>\n      <th>b</th>\n      <td>0</td>\n      <td>1</td>\n      <td>999</td>\n      <td>999</td>\n      <td>999</td>\n      <td>999</td>\n    </tr>\n    <tr>\n      <th>b</th>\n      <td>999</td>\n      <td>999</td>\n      <td>999</td>\n      <td>999</td>\n      <td>999</td>\n      <td>999</td>\n    </tr>\n  </tbody>\n</table>\n</div>"
     },
     "metadata": {}
    },
    {
     "output_type": "display_data",
     "data": {
      "text/plain": "     999    b    a    b    b    a\n999    0    0    0    0    0    0\na      0    0    1    1    1    1\nb      0    1    1    2    2    2\na      0    1    2    2    2    3\nb      0    1    2    3    3    3\nb      0    1    2  999  999  999\nb    999  999  999  999  999  999",
      "text/html": "<div>\n<style scoped>\n    .dataframe tbody tr th:only-of-type {\n        vertical-align: middle;\n    }\n\n    .dataframe tbody tr th {\n        vertical-align: top;\n    }\n\n    .dataframe thead th {\n        text-align: right;\n    }\n</style>\n<table border=\"1\" class=\"dataframe\">\n  <thead>\n    <tr style=\"text-align: right;\">\n      <th></th>\n      <th>999</th>\n      <th>b</th>\n      <th>a</th>\n      <th>b</th>\n      <th>b</th>\n      <th>a</th>\n    </tr>\n  </thead>\n  <tbody>\n    <tr>\n      <th>999</th>\n      <td>0</td>\n      <td>0</td>\n      <td>0</td>\n      <td>0</td>\n      <td>0</td>\n      <td>0</td>\n    </tr>\n    <tr>\n      <th>a</th>\n      <td>0</td>\n      <td>0</td>\n      <td>1</td>\n      <td>1</td>\n      <td>1</td>\n      <td>1</td>\n    </tr>\n    <tr>\n      <th>b</th>\n      <td>0</td>\n      <td>1</td>\n      <td>1</td>\n      <td>2</td>\n      <td>2</td>\n      <td>2</td>\n    </tr>\n    <tr>\n      <th>a</th>\n      <td>0</td>\n      <td>1</td>\n      <td>2</td>\n      <td>2</td>\n      <td>2</td>\n      <td>3</td>\n    </tr>\n    <tr>\n      <th>b</th>\n      <td>0</td>\n      <td>1</td>\n      <td>2</td>\n      <td>3</td>\n      <td>3</td>\n      <td>3</td>\n    </tr>\n    <tr>\n      <th>b</th>\n      <td>0</td>\n      <td>1</td>\n      <td>2</td>\n      <td>999</td>\n      <td>999</td>\n      <td>999</td>\n    </tr>\n    <tr>\n      <th>b</th>\n      <td>999</td>\n      <td>999</td>\n      <td>999</td>\n      <td>999</td>\n      <td>999</td>\n      <td>999</td>\n    </tr>\n  </tbody>\n</table>\n</div>"
     },
     "metadata": {}
    },
    {
     "output_type": "display_data",
     "data": {
      "text/plain": "     999    b    a    b    b    a\n999    0    0    0    0    0    0\na      0    0    1    1    1    1\nb      0    1    1    2    2    2\na      0    1    2    2    2    3\nb      0    1    2    3    3    3\nb      0    1    2    3  999  999\nb    999  999  999  999  999  999",
      "text/html": "<div>\n<style scoped>\n    .dataframe tbody tr th:only-of-type {\n        vertical-align: middle;\n    }\n\n    .dataframe tbody tr th {\n        vertical-align: top;\n    }\n\n    .dataframe thead th {\n        text-align: right;\n    }\n</style>\n<table border=\"1\" class=\"dataframe\">\n  <thead>\n    <tr style=\"text-align: right;\">\n      <th></th>\n      <th>999</th>\n      <th>b</th>\n      <th>a</th>\n      <th>b</th>\n      <th>b</th>\n      <th>a</th>\n    </tr>\n  </thead>\n  <tbody>\n    <tr>\n      <th>999</th>\n      <td>0</td>\n      <td>0</td>\n      <td>0</td>\n      <td>0</td>\n      <td>0</td>\n      <td>0</td>\n    </tr>\n    <tr>\n      <th>a</th>\n      <td>0</td>\n      <td>0</td>\n      <td>1</td>\n      <td>1</td>\n      <td>1</td>\n      <td>1</td>\n    </tr>\n    <tr>\n      <th>b</th>\n      <td>0</td>\n      <td>1</td>\n      <td>1</td>\n      <td>2</td>\n      <td>2</td>\n      <td>2</td>\n    </tr>\n    <tr>\n      <th>a</th>\n      <td>0</td>\n      <td>1</td>\n      <td>2</td>\n      <td>2</td>\n      <td>2</td>\n      <td>3</td>\n    </tr>\n    <tr>\n      <th>b</th>\n      <td>0</td>\n      <td>1</td>\n      <td>2</td>\n      <td>3</td>\n      <td>3</td>\n      <td>3</td>\n    </tr>\n    <tr>\n      <th>b</th>\n      <td>0</td>\n      <td>1</td>\n      <td>2</td>\n      <td>3</td>\n      <td>999</td>\n      <td>999</td>\n    </tr>\n    <tr>\n      <th>b</th>\n      <td>999</td>\n      <td>999</td>\n      <td>999</td>\n      <td>999</td>\n      <td>999</td>\n      <td>999</td>\n    </tr>\n  </tbody>\n</table>\n</div>"
     },
     "metadata": {}
    },
    {
     "output_type": "display_data",
     "data": {
      "text/plain": "     999    b    a    b    b    a\n999    0    0    0    0    0    0\na      0    0    1    1    1    1\nb      0    1    1    2    2    2\na      0    1    2    2    2    3\nb      0    1    2    3    3    3\nb      0    1    2    3    4  999\nb    999  999  999  999  999  999",
      "text/html": "<div>\n<style scoped>\n    .dataframe tbody tr th:only-of-type {\n        vertical-align: middle;\n    }\n\n    .dataframe tbody tr th {\n        vertical-align: top;\n    }\n\n    .dataframe thead th {\n        text-align: right;\n    }\n</style>\n<table border=\"1\" class=\"dataframe\">\n  <thead>\n    <tr style=\"text-align: right;\">\n      <th></th>\n      <th>999</th>\n      <th>b</th>\n      <th>a</th>\n      <th>b</th>\n      <th>b</th>\n      <th>a</th>\n    </tr>\n  </thead>\n  <tbody>\n    <tr>\n      <th>999</th>\n      <td>0</td>\n      <td>0</td>\n      <td>0</td>\n      <td>0</td>\n      <td>0</td>\n      <td>0</td>\n    </tr>\n    <tr>\n      <th>a</th>\n      <td>0</td>\n      <td>0</td>\n      <td>1</td>\n      <td>1</td>\n      <td>1</td>\n      <td>1</td>\n    </tr>\n    <tr>\n      <th>b</th>\n      <td>0</td>\n      <td>1</td>\n      <td>1</td>\n      <td>2</td>\n      <td>2</td>\n      <td>2</td>\n    </tr>\n    <tr>\n      <th>a</th>\n      <td>0</td>\n      <td>1</td>\n      <td>2</td>\n      <td>2</td>\n      <td>2</td>\n      <td>3</td>\n    </tr>\n    <tr>\n      <th>b</th>\n      <td>0</td>\n      <td>1</td>\n      <td>2</td>\n      <td>3</td>\n      <td>3</td>\n      <td>3</td>\n    </tr>\n    <tr>\n      <th>b</th>\n      <td>0</td>\n      <td>1</td>\n      <td>2</td>\n      <td>3</td>\n      <td>4</td>\n      <td>999</td>\n    </tr>\n    <tr>\n      <th>b</th>\n      <td>999</td>\n      <td>999</td>\n      <td>999</td>\n      <td>999</td>\n      <td>999</td>\n      <td>999</td>\n    </tr>\n  </tbody>\n</table>\n</div>"
     },
     "metadata": {}
    },
    {
     "output_type": "display_data",
     "data": {
      "text/plain": "     999    b    a    b    b    a\n999    0    0    0    0    0    0\na      0    0    1    1    1    1\nb      0    1    1    2    2    2\na      0    1    2    2    2    3\nb      0    1    2    3    3    3\nb      0    1    2    3    4    4\nb    999  999  999  999  999  999",
      "text/html": "<div>\n<style scoped>\n    .dataframe tbody tr th:only-of-type {\n        vertical-align: middle;\n    }\n\n    .dataframe tbody tr th {\n        vertical-align: top;\n    }\n\n    .dataframe thead th {\n        text-align: right;\n    }\n</style>\n<table border=\"1\" class=\"dataframe\">\n  <thead>\n    <tr style=\"text-align: right;\">\n      <th></th>\n      <th>999</th>\n      <th>b</th>\n      <th>a</th>\n      <th>b</th>\n      <th>b</th>\n      <th>a</th>\n    </tr>\n  </thead>\n  <tbody>\n    <tr>\n      <th>999</th>\n      <td>0</td>\n      <td>0</td>\n      <td>0</td>\n      <td>0</td>\n      <td>0</td>\n      <td>0</td>\n    </tr>\n    <tr>\n      <th>a</th>\n      <td>0</td>\n      <td>0</td>\n      <td>1</td>\n      <td>1</td>\n      <td>1</td>\n      <td>1</td>\n    </tr>\n    <tr>\n      <th>b</th>\n      <td>0</td>\n      <td>1</td>\n      <td>1</td>\n      <td>2</td>\n      <td>2</td>\n      <td>2</td>\n    </tr>\n    <tr>\n      <th>a</th>\n      <td>0</td>\n      <td>1</td>\n      <td>2</td>\n      <td>2</td>\n      <td>2</td>\n      <td>3</td>\n    </tr>\n    <tr>\n      <th>b</th>\n      <td>0</td>\n      <td>1</td>\n      <td>2</td>\n      <td>3</td>\n      <td>3</td>\n      <td>3</td>\n    </tr>\n    <tr>\n      <th>b</th>\n      <td>0</td>\n      <td>1</td>\n      <td>2</td>\n      <td>3</td>\n      <td>4</td>\n      <td>4</td>\n    </tr>\n    <tr>\n      <th>b</th>\n      <td>999</td>\n      <td>999</td>\n      <td>999</td>\n      <td>999</td>\n      <td>999</td>\n      <td>999</td>\n    </tr>\n  </tbody>\n</table>\n</div>"
     },
     "metadata": {}
    },
    {
     "output_type": "display_data",
     "data": {
      "text/plain": "     999    b    a    b    b    a\n999    0    0    0    0    0    0\na      0    0    1    1    1    1\nb      0    1    1    2    2    2\na      0    1    2    2    2    3\nb      0    1    2    3    3    3\nb      0    1    2    3    4    4\nb      0  999  999  999  999  999",
      "text/html": "<div>\n<style scoped>\n    .dataframe tbody tr th:only-of-type {\n        vertical-align: middle;\n    }\n\n    .dataframe tbody tr th {\n        vertical-align: top;\n    }\n\n    .dataframe thead th {\n        text-align: right;\n    }\n</style>\n<table border=\"1\" class=\"dataframe\">\n  <thead>\n    <tr style=\"text-align: right;\">\n      <th></th>\n      <th>999</th>\n      <th>b</th>\n      <th>a</th>\n      <th>b</th>\n      <th>b</th>\n      <th>a</th>\n    </tr>\n  </thead>\n  <tbody>\n    <tr>\n      <th>999</th>\n      <td>0</td>\n      <td>0</td>\n      <td>0</td>\n      <td>0</td>\n      <td>0</td>\n      <td>0</td>\n    </tr>\n    <tr>\n      <th>a</th>\n      <td>0</td>\n      <td>0</td>\n      <td>1</td>\n      <td>1</td>\n      <td>1</td>\n      <td>1</td>\n    </tr>\n    <tr>\n      <th>b</th>\n      <td>0</td>\n      <td>1</td>\n      <td>1</td>\n      <td>2</td>\n      <td>2</td>\n      <td>2</td>\n    </tr>\n    <tr>\n      <th>a</th>\n      <td>0</td>\n      <td>1</td>\n      <td>2</td>\n      <td>2</td>\n      <td>2</td>\n      <td>3</td>\n    </tr>\n    <tr>\n      <th>b</th>\n      <td>0</td>\n      <td>1</td>\n      <td>2</td>\n      <td>3</td>\n      <td>3</td>\n      <td>3</td>\n    </tr>\n    <tr>\n      <th>b</th>\n      <td>0</td>\n      <td>1</td>\n      <td>2</td>\n      <td>3</td>\n      <td>4</td>\n      <td>4</td>\n    </tr>\n    <tr>\n      <th>b</th>\n      <td>0</td>\n      <td>999</td>\n      <td>999</td>\n      <td>999</td>\n      <td>999</td>\n      <td>999</td>\n    </tr>\n  </tbody>\n</table>\n</div>"
     },
     "metadata": {}
    },
    {
     "output_type": "display_data",
     "data": {
      "text/plain": "     999  b    a    b    b    a\n999    0  0    0    0    0    0\na      0  0    1    1    1    1\nb      0  1    1    2    2    2\na      0  1    2    2    2    3\nb      0  1    2    3    3    3\nb      0  1    2    3    4    4\nb      0  1  999  999  999  999",
      "text/html": "<div>\n<style scoped>\n    .dataframe tbody tr th:only-of-type {\n        vertical-align: middle;\n    }\n\n    .dataframe tbody tr th {\n        vertical-align: top;\n    }\n\n    .dataframe thead th {\n        text-align: right;\n    }\n</style>\n<table border=\"1\" class=\"dataframe\">\n  <thead>\n    <tr style=\"text-align: right;\">\n      <th></th>\n      <th>999</th>\n      <th>b</th>\n      <th>a</th>\n      <th>b</th>\n      <th>b</th>\n      <th>a</th>\n    </tr>\n  </thead>\n  <tbody>\n    <tr>\n      <th>999</th>\n      <td>0</td>\n      <td>0</td>\n      <td>0</td>\n      <td>0</td>\n      <td>0</td>\n      <td>0</td>\n    </tr>\n    <tr>\n      <th>a</th>\n      <td>0</td>\n      <td>0</td>\n      <td>1</td>\n      <td>1</td>\n      <td>1</td>\n      <td>1</td>\n    </tr>\n    <tr>\n      <th>b</th>\n      <td>0</td>\n      <td>1</td>\n      <td>1</td>\n      <td>2</td>\n      <td>2</td>\n      <td>2</td>\n    </tr>\n    <tr>\n      <th>a</th>\n      <td>0</td>\n      <td>1</td>\n      <td>2</td>\n      <td>2</td>\n      <td>2</td>\n      <td>3</td>\n    </tr>\n    <tr>\n      <th>b</th>\n      <td>0</td>\n      <td>1</td>\n      <td>2</td>\n      <td>3</td>\n      <td>3</td>\n      <td>3</td>\n    </tr>\n    <tr>\n      <th>b</th>\n      <td>0</td>\n      <td>1</td>\n      <td>2</td>\n      <td>3</td>\n      <td>4</td>\n      <td>4</td>\n    </tr>\n    <tr>\n      <th>b</th>\n      <td>0</td>\n      <td>1</td>\n      <td>999</td>\n      <td>999</td>\n      <td>999</td>\n      <td>999</td>\n    </tr>\n  </tbody>\n</table>\n</div>"
     },
     "metadata": {}
    },
    {
     "output_type": "display_data",
     "data": {
      "text/plain": "     999  b  a    b    b    a\n999    0  0  0    0    0    0\na      0  0  1    1    1    1\nb      0  1  1    2    2    2\na      0  1  2    2    2    3\nb      0  1  2    3    3    3\nb      0  1  2    3    4    4\nb      0  1  2  999  999  999",
      "text/html": "<div>\n<style scoped>\n    .dataframe tbody tr th:only-of-type {\n        vertical-align: middle;\n    }\n\n    .dataframe tbody tr th {\n        vertical-align: top;\n    }\n\n    .dataframe thead th {\n        text-align: right;\n    }\n</style>\n<table border=\"1\" class=\"dataframe\">\n  <thead>\n    <tr style=\"text-align: right;\">\n      <th></th>\n      <th>999</th>\n      <th>b</th>\n      <th>a</th>\n      <th>b</th>\n      <th>b</th>\n      <th>a</th>\n    </tr>\n  </thead>\n  <tbody>\n    <tr>\n      <th>999</th>\n      <td>0</td>\n      <td>0</td>\n      <td>0</td>\n      <td>0</td>\n      <td>0</td>\n      <td>0</td>\n    </tr>\n    <tr>\n      <th>a</th>\n      <td>0</td>\n      <td>0</td>\n      <td>1</td>\n      <td>1</td>\n      <td>1</td>\n      <td>1</td>\n    </tr>\n    <tr>\n      <th>b</th>\n      <td>0</td>\n      <td>1</td>\n      <td>1</td>\n      <td>2</td>\n      <td>2</td>\n      <td>2</td>\n    </tr>\n    <tr>\n      <th>a</th>\n      <td>0</td>\n      <td>1</td>\n      <td>2</td>\n      <td>2</td>\n      <td>2</td>\n      <td>3</td>\n    </tr>\n    <tr>\n      <th>b</th>\n      <td>0</td>\n      <td>1</td>\n      <td>2</td>\n      <td>3</td>\n      <td>3</td>\n      <td>3</td>\n    </tr>\n    <tr>\n      <th>b</th>\n      <td>0</td>\n      <td>1</td>\n      <td>2</td>\n      <td>3</td>\n      <td>4</td>\n      <td>4</td>\n    </tr>\n    <tr>\n      <th>b</th>\n      <td>0</td>\n      <td>1</td>\n      <td>2</td>\n      <td>999</td>\n      <td>999</td>\n      <td>999</td>\n    </tr>\n  </tbody>\n</table>\n</div>"
     },
     "metadata": {}
    },
    {
     "output_type": "display_data",
     "data": {
      "text/plain": "     999  b  a  b    b    a\n999    0  0  0  0    0    0\na      0  0  1  1    1    1\nb      0  1  1  2    2    2\na      0  1  2  2    2    3\nb      0  1  2  3    3    3\nb      0  1  2  3    4    4\nb      0  1  2  3  999  999",
      "text/html": "<div>\n<style scoped>\n    .dataframe tbody tr th:only-of-type {\n        vertical-align: middle;\n    }\n\n    .dataframe tbody tr th {\n        vertical-align: top;\n    }\n\n    .dataframe thead th {\n        text-align: right;\n    }\n</style>\n<table border=\"1\" class=\"dataframe\">\n  <thead>\n    <tr style=\"text-align: right;\">\n      <th></th>\n      <th>999</th>\n      <th>b</th>\n      <th>a</th>\n      <th>b</th>\n      <th>b</th>\n      <th>a</th>\n    </tr>\n  </thead>\n  <tbody>\n    <tr>\n      <th>999</th>\n      <td>0</td>\n      <td>0</td>\n      <td>0</td>\n      <td>0</td>\n      <td>0</td>\n      <td>0</td>\n    </tr>\n    <tr>\n      <th>a</th>\n      <td>0</td>\n      <td>0</td>\n      <td>1</td>\n      <td>1</td>\n      <td>1</td>\n      <td>1</td>\n    </tr>\n    <tr>\n      <th>b</th>\n      <td>0</td>\n      <td>1</td>\n      <td>1</td>\n      <td>2</td>\n      <td>2</td>\n      <td>2</td>\n    </tr>\n    <tr>\n      <th>a</th>\n      <td>0</td>\n      <td>1</td>\n      <td>2</td>\n      <td>2</td>\n      <td>2</td>\n      <td>3</td>\n    </tr>\n    <tr>\n      <th>b</th>\n      <td>0</td>\n      <td>1</td>\n      <td>2</td>\n      <td>3</td>\n      <td>3</td>\n      <td>3</td>\n    </tr>\n    <tr>\n      <th>b</th>\n      <td>0</td>\n      <td>1</td>\n      <td>2</td>\n      <td>3</td>\n      <td>4</td>\n      <td>4</td>\n    </tr>\n    <tr>\n      <th>b</th>\n      <td>0</td>\n      <td>1</td>\n      <td>2</td>\n      <td>3</td>\n      <td>999</td>\n      <td>999</td>\n    </tr>\n  </tbody>\n</table>\n</div>"
     },
     "metadata": {}
    },
    {
     "output_type": "display_data",
     "data": {
      "text/plain": "     999  b  a  b  b    a\n999    0  0  0  0  0    0\na      0  0  1  1  1    1\nb      0  1  1  2  2    2\na      0  1  2  2  2    3\nb      0  1  2  3  3    3\nb      0  1  2  3  4    4\nb      0  1  2  3  4  999",
      "text/html": "<div>\n<style scoped>\n    .dataframe tbody tr th:only-of-type {\n        vertical-align: middle;\n    }\n\n    .dataframe tbody tr th {\n        vertical-align: top;\n    }\n\n    .dataframe thead th {\n        text-align: right;\n    }\n</style>\n<table border=\"1\" class=\"dataframe\">\n  <thead>\n    <tr style=\"text-align: right;\">\n      <th></th>\n      <th>999</th>\n      <th>b</th>\n      <th>a</th>\n      <th>b</th>\n      <th>b</th>\n      <th>a</th>\n    </tr>\n  </thead>\n  <tbody>\n    <tr>\n      <th>999</th>\n      <td>0</td>\n      <td>0</td>\n      <td>0</td>\n      <td>0</td>\n      <td>0</td>\n      <td>0</td>\n    </tr>\n    <tr>\n      <th>a</th>\n      <td>0</td>\n      <td>0</td>\n      <td>1</td>\n      <td>1</td>\n      <td>1</td>\n      <td>1</td>\n    </tr>\n    <tr>\n      <th>b</th>\n      <td>0</td>\n      <td>1</td>\n      <td>1</td>\n      <td>2</td>\n      <td>2</td>\n      <td>2</td>\n    </tr>\n    <tr>\n      <th>a</th>\n      <td>0</td>\n      <td>1</td>\n      <td>2</td>\n      <td>2</td>\n      <td>2</td>\n      <td>3</td>\n    </tr>\n    <tr>\n      <th>b</th>\n      <td>0</td>\n      <td>1</td>\n      <td>2</td>\n      <td>3</td>\n      <td>3</td>\n      <td>3</td>\n    </tr>\n    <tr>\n      <th>b</th>\n      <td>0</td>\n      <td>1</td>\n      <td>2</td>\n      <td>3</td>\n      <td>4</td>\n      <td>4</td>\n    </tr>\n    <tr>\n      <th>b</th>\n      <td>0</td>\n      <td>1</td>\n      <td>2</td>\n      <td>3</td>\n      <td>4</td>\n      <td>999</td>\n    </tr>\n  </tbody>\n</table>\n</div>"
     },
     "metadata": {}
    },
    {
     "output_type": "display_data",
     "data": {
      "text/plain": "     999  b  a  b  b  a\n999    0  0  0  0  0  0\na      0  0  1  1  1  1\nb      0  1  1  2  2  2\na      0  1  2  2  2  3\nb      0  1  2  3  3  3\nb      0  1  2  3  4  4\nb      0  1  2  3  4  4",
      "text/html": "<div>\n<style scoped>\n    .dataframe tbody tr th:only-of-type {\n        vertical-align: middle;\n    }\n\n    .dataframe tbody tr th {\n        vertical-align: top;\n    }\n\n    .dataframe thead th {\n        text-align: right;\n    }\n</style>\n<table border=\"1\" class=\"dataframe\">\n  <thead>\n    <tr style=\"text-align: right;\">\n      <th></th>\n      <th>999</th>\n      <th>b</th>\n      <th>a</th>\n      <th>b</th>\n      <th>b</th>\n      <th>a</th>\n    </tr>\n  </thead>\n  <tbody>\n    <tr>\n      <th>999</th>\n      <td>0</td>\n      <td>0</td>\n      <td>0</td>\n      <td>0</td>\n      <td>0</td>\n      <td>0</td>\n    </tr>\n    <tr>\n      <th>a</th>\n      <td>0</td>\n      <td>0</td>\n      <td>1</td>\n      <td>1</td>\n      <td>1</td>\n      <td>1</td>\n    </tr>\n    <tr>\n      <th>b</th>\n      <td>0</td>\n      <td>1</td>\n      <td>1</td>\n      <td>2</td>\n      <td>2</td>\n      <td>2</td>\n    </tr>\n    <tr>\n      <th>a</th>\n      <td>0</td>\n      <td>1</td>\n      <td>2</td>\n      <td>2</td>\n      <td>2</td>\n      <td>3</td>\n    </tr>\n    <tr>\n      <th>b</th>\n      <td>0</td>\n      <td>1</td>\n      <td>2</td>\n      <td>3</td>\n      <td>3</td>\n      <td>3</td>\n    </tr>\n    <tr>\n      <th>b</th>\n      <td>0</td>\n      <td>1</td>\n      <td>2</td>\n      <td>3</td>\n      <td>4</td>\n      <td>4</td>\n    </tr>\n    <tr>\n      <th>b</th>\n      <td>0</td>\n      <td>1</td>\n      <td>2</td>\n      <td>3</td>\n      <td>4</td>\n      <td>4</td>\n    </tr>\n  </tbody>\n</table>\n</div>"
     },
     "metadata": {}
    },
    {
     "output_type": "execute_result",
     "data": {
      "text/plain": [
       "array([[0., 0., 0., 0., 0., 0.],\n",
       "       [0., 0., 1., 1., 1., 1.],\n",
       "       [0., 1., 1., 2., 2., 2.],\n",
       "       [0., 1., 2., 2., 2., 3.],\n",
       "       [0., 1., 2., 3., 3., 3.],\n",
       "       [0., 1., 2., 3., 4., 4.],\n",
       "       [0., 1., 2., 3., 4., 4.]])"
      ]
     },
     "metadata": {},
     "execution_count": 14
    }
   ],
   "source": [
    "np.random.seed(24)\n",
    "X = Sequence(6, char).generate_sequence()\n",
    "Y = Sequence(5, char).generate_sequence()\n",
    "\n",
    "# method starts here\n",
    "m = len(X)\n",
    "n = len(Y)\n",
    "T = np.empty((m+1, n+1))\n",
    "T[:] = 999\n",
    "\n",
    "for i in range(m+1):\n",
    "    for j in range(n+1):\n",
    "        if i == 0 or j == 0:\n",
    "            T[i][j] = 0\n",
    "        elif X[i-1] == Y[j-1]:\n",
    "            T[i][j] = T[i-1][j-1] + 1\n",
    "        else:\n",
    "            T[i][j] = np.maximum(T[i-1][j], T[i][j-1])\n",
    "        display(pd.DataFrame(T, columns=np.concatenate([[999], Y]), index=np.concatenate([[999], X]), dtype=int))\n",
    "        \n",
    "\n",
    "T"
   ]
  },
  {
   "cell_type": "code",
   "execution_count": 58,
   "metadata": {},
   "outputs": [
    {
     "output_type": "execute_result",
     "data": {
      "text/plain": [
       "array([999,   0,   1,   0,   0,   0])"
      ]
     },
     "metadata": {},
     "execution_count": 58
    }
   ],
   "source": [
    "np.concatenate([[999], Y])"
   ]
  },
  {
   "cell_type": "code",
   "execution_count": 53,
   "metadata": {},
   "outputs": [
    {
     "output_type": "execute_result",
     "data": {
      "text/plain": [
       "array([[0., 0., 0., 0., 0., 0.],\n",
       "       [0., 1., 1., 1., 1., 1.],\n",
       "       [0., 1., 2., 2., 2., 2.],\n",
       "       [0., 1., 2., 3., 3., 3.],\n",
       "       [0., 1., 2., 3., 4., 4.]])"
      ]
     },
     "metadata": {},
     "execution_count": 53
    }
   ],
   "source": [
    "T"
   ]
  },
  {
   "cell_type": "markdown",
   "metadata": {},
   "source": [
    "# Save data to json"
   ]
  },
  {
   "cell_type": "code",
   "execution_count": null,
   "metadata": {},
   "outputs": [],
   "source": [
    "time_start = time.time()    \n",
    "for _ in range(200):\n",
    "    my_sequence = Sequence(seq_length, char)\n",
    "    seq1 = my_sequence.generate_sequence()\n",
    "    seq2 = my_sequence.generate_sequence()\n",
    "\n",
    "    length_LCS.append(find_LCS(seq1, seq2))\n",
    "\n",
    "time_end = time.time()    \n",
    "print(f\"Time taken: {round(time_end - time_start, 2)}s\")\n",
    "\n",
    "\n",
    "lcs_data = {\n",
    "        \"nb characters\": nb_char,\n",
    "        \"sequence length\": seq_length,\n",
    "        \"length LCS\": length_LCS,\n",
    "}\n",
    "\n",
    "\n",
    "def add_data():\n",
    "    # read from json\n",
    "    with open(\"lcs_data.json\", \"r\") as f:\n",
    "        data = json.load(f)\n",
    "    # check if this type of sequence already exists in json file\n",
    "    for item in data:\n",
    "        if item[\"nb characters\"] == lcs_data[\"nb characters\"] and item[\"sequence length\"] == lcs_data[\"sequence length\"]:\n",
    "            item[\"length LCS\"] += length_LCS\n",
    "            return data\n",
    "    data.append(lcs_data)\n",
    "    return data\n",
    "\n",
    "data = add_data()\n",
    "\n",
    "# write data to json file\n",
    "with open(\"lcs_data.json\", \"w\") as f:\n",
    "    json.dump(data, f, indent=4)\n",
    "        \n",
    "# data"
   ]
  },
  {
   "cell_type": "code",
   "execution_count": null,
   "metadata": {},
   "outputs": [],
   "source": [
    "existing_data"
   ]
  },
  {
   "cell_type": "code",
   "execution_count": null,
   "metadata": {},
   "outputs": [],
   "source": [
    "[10, 12] + [10, 12]"
   ]
  },
  {
   "cell_type": "markdown",
   "metadata": {},
   "source": [
    "# Visualisation"
   ]
  },
  {
   "cell_type": "code",
   "execution_count": null,
   "metadata": {
    "scrolled": false
   },
   "outputs": [],
   "source": [
    "px.histogram(lengths, nbins=25)"
   ]
  },
  {
   "cell_type": "code",
   "execution_count": null,
   "metadata": {},
   "outputs": [],
   "source": []
  },
  {
   "cell_type": "code",
   "execution_count": null,
   "metadata": {},
   "outputs": [],
   "source": []
  },
  {
   "cell_type": "code",
   "execution_count": null,
   "metadata": {},
   "outputs": [],
   "source": []
  },
  {
   "cell_type": "code",
   "execution_count": null,
   "metadata": {},
   "outputs": [],
   "source": []
  },
  {
   "cell_type": "code",
   "execution_count": null,
   "metadata": {},
   "outputs": [],
   "source": []
  },
  {
   "cell_type": "code",
   "execution_count": null,
   "metadata": {},
   "outputs": [],
   "source": []
  },
  {
   "cell_type": "code",
   "execution_count": null,
   "metadata": {},
   "outputs": [],
   "source": []
  },
  {
   "cell_type": "code",
   "execution_count": null,
   "metadata": {},
   "outputs": [],
   "source": []
  },
  {
   "cell_type": "code",
   "execution_count": null,
   "metadata": {},
   "outputs": [],
   "source": []
  },
  {
   "cell_type": "code",
   "execution_count": null,
   "metadata": {},
   "outputs": [],
   "source": []
  },
  {
   "cell_type": "code",
   "execution_count": null,
   "metadata": {},
   "outputs": [],
   "source": []
  },
  {
   "cell_type": "code",
   "execution_count": null,
   "metadata": {},
   "outputs": [],
   "source": []
  },
  {
   "cell_type": "code",
   "execution_count": null,
   "metadata": {},
   "outputs": [],
   "source": []
  }
 ],
 "metadata": {
  "kernelspec": {
   "display_name": "Python 3",
   "language": "python",
   "name": "python3"
  },
  "language_info": {
   "codemirror_mode": {
    "name": "ipython",
    "version": 3
   },
   "file_extension": ".py",
   "mimetype": "text/x-python",
   "name": "python",
   "nbconvert_exporter": "python",
   "pygments_lexer": "ipython3",
   "version": "3.9.2-final"
  }
 },
 "nbformat": 4,
 "nbformat_minor": 4
}