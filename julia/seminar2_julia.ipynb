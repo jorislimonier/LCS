{
 "cells": [
  {
   "cell_type": "code",
   "execution_count": 3,
   "id": "headed-nature",
   "metadata": {},
   "outputs": [],
   "source": [
    "using Pkg\n",
    "using StatsBase\n",
    "using Random\n",
    "using DataFrames"
   ]
  },
  {
   "cell_type": "code",
   "execution_count": 30,
   "id": "worst-plastic",
   "metadata": {},
   "outputs": [
    {
     "data": {
      "text/plain": [
       "101×43 Matrix{Int64}:\n",
       " 0  0  0  0  0  0  0  0  0  0   0   0  …   0   0   0   0   0   0   0   0   0\n",
       " 0  1  1  1  1  1  1  1  1  1   1   1      1   1   1   1   1   1   1   1   1\n",
       " 0  1  1  1  2  2  2  2  2  2   2   2      2   2   2   2   2   2   2   2   2\n",
       " 0  1  1  1  2  2  2  3  3  3   3   3      3   3   3   3   3   3   3   3   3\n",
       " 0  1  1  1  2  2  2  3  4  4   4   4      4   4   4   4   4   4   4   4   4\n",
       " 0  1  2  2  2  2  3  3  4  4   4   4  …   5   5   5   5   5   5   5   5   5\n",
       " 0  1  2  2  2  2  3  3  4  4   4   4      6   6   6   6   6   6   6   6   6\n",
       " 0  1  2  2  2  2  3  3  4  4   4   5      7   7   7   7   7   7   7   7   7\n",
       " 0  1  2  2  2  2  3  3  4  4   4   5      8   8   8   8   8   8   8   8   8\n",
       " 0  1  2  2  2  2  3  3  4  4   4   5      9   9   9   9   9   9   9   9   9\n",
       " 0  1  2  3  3  3  3  3  4  5   5   5  …  10  10  10  10  10  10  10  10  10\n",
       " 0  1  2  3  3  3  3  3  4  5   5   5     11  11  11  11  11  11  11  11  11\n",
       " 0  1  2  3  3  3  3  3  4  5   5   6     12  12  12  12  12  12  12  12  12\n",
       " ⋮              ⋮               ⋮      ⋱       ⋮                   ⋮      \n",
       " 0  1  2  3  4  5  6  7  8  9  10  11     29  29  29  29  30  30  31  32  33\n",
       " 0  1  2  3  4  5  6  7  8  9  10  11  …  29  29  29  29  30  30  31  32  33\n",
       " 0  1  2  3  4  5  6  7  8  9  10  11     29  29  29  29  30  30  31  32  33\n",
       " 0  1  2  3  4  5  6  7  8  9  10  11     29  30  30  30  30  30  31  32  33\n",
       " 0  1  2  3  4  5  6  7  8  9  10  11     29  30  30  30  30  30  31  32  33\n",
       " 0  1  2  3  4  5  6  7  8  9  10  11     29  30  30  30  31  31  31  32  33\n",
       " 0  1  2  3  4  5  6  7  8  9  10  11  …  29  30  30  31  31  31  31  32  33\n",
       " 0  1  2  3  4  5  6  7  8  9  10  11     29  30  30  31  31  31  31  32  33\n",
       " 0  1  2  3  4  5  6  7  8  9  10  11     29  30  30  31  32  32  32  32  33\n",
       " 0  1  2  3  4  5  6  7  8  9  10  11     29  30  30  31  32  32  33  33  33\n",
       " 0  1  2  3  4  5  6  7  8  9  10  11     29  30  30  31  32  32  33  33  33\n",
       " 0  1  2  3  4  5  6  7  8  9  10  11  …  29  30  31  31  32  33  33  33  33"
      ]
     },
     "metadata": {},
     "output_type": "display_data"
    },
    {
     "name": "stdout",
     "output_type": "stream",
     "text": [
      "  X: Any[4, 1, 1, 4, 5, 5, 4, 5, 3, 2, 3, 4, 3, 1, 5, 3, 0, 5, 4, 5, 2, 0, 0, 3, 4, 3, 2, 3, 5, 0, 2, 1, 0, 2, 1, 2, 0, 0, 5, 5, 4, 1, 0, 5, 4, 4, 3, 2, 1, 3, 3, 0, 5, 4, 1, 5, 1, 5, 5, 0, 0, 4, 3, 1, 0, 2, 1, 1, 0, 0, 3, 3, 4, 2, 1, 5, 5, 1, 0, 5, 5, 1, 0, 1, 5, 2, 2, 4, 5, 1, 1, 0, 1, 2, 0, 5, 2, 1, 4, 3]\n",
      "  Y: Any[4, 5, 2, 1, 2, 5, 1, 4, 2, 2, 4, 2, 1, 0, 0, 5, 1, 5, 0, 4, 5, 1, 3, 3, 2, 1, 3, 0, 1, 1, 5, 5, 4, 5, 0, 3, 0, 2, 3, 1, 5, 0]\n",
      "Any[4, 5, 2, 1, 2, 5, 1, 2, 2, 4, 2, 1, 0, 5, 1, 5, 0, 4, 1, 3, 3, 2, 1, 0, 1, 1, 5, 4, 5, 0, 0, 2, 3]\n"
     ]
    }
   ],
   "source": [
    "# Random.seed!(42)\n",
    "mutable struct Sequence\n",
    "    len::Int\n",
    "    char::Array{Any}\n",
    "end\n",
    "function generate_sequence(seq::Sequence)\n",
    "    sample(seq.char, seq.len)\n",
    "end\n",
    "\n",
    "function lcs_table(X, Y)\n",
    "    # make table\n",
    "    m = length(X)\n",
    "    n = length(Y)\n",
    "    T = zeros(Int, m+1, n+1)\n",
    "    T[:] .= 999\n",
    "    for i in 1:m+1\n",
    "        for j in 1:n+1\n",
    "            if i == 1 || j == 1\n",
    "               T[i, j] = 0\n",
    "            elseif X[i-1] == Y[j-1]\n",
    "                T[i, j] = T[i-1, j-1] + 1\n",
    "            else\n",
    "                T[i, j] = maximum([T[i-1, j], T[i, j-1]])\n",
    "            end\n",
    "        end\n",
    "    end\n",
    "    return T\n",
    "end\n",
    "\n",
    "function lcs_from_table(T)\n",
    "    m = size(T)[1]\n",
    "    n = size(T)[2]\n",
    "\n",
    "    index = T[m, n]\n",
    "    lcs = Any[]\n",
    "\n",
    "    i, j = m, n\n",
    "    while i > 1 && j > 1\n",
    "            if X[i-1] == Y[j-1]\n",
    "                prepend!(lcs, [X[i-1]])\n",
    "                j -= 1\n",
    "                i -= 1\n",
    "            elseif T[i-1, j] > T[i, j-1]\n",
    "                i -= 1\n",
    "            else\n",
    "                j -= 1\n",
    "            end\n",
    "        end\n",
    "    return lcs\n",
    "end\n",
    "# len = 100\n",
    "# char = [0, 1, 2, 3, 4, 5]\n",
    "\n",
    "# X = generate_sequence(Sequence(len, char))\n",
    "# Y = generate_sequence(Sequence(42, char))\n",
    "# println(\"  X: \", X)\n",
    "# println(\"  Y: \", Y)\n",
    "# T = lcs_table(X, Y)\n",
    "# display(T)\n",
    "# lcs = println(lcs_from_table(T))"
   ]
  },
  {
   "cell_type": "code",
   "execution_count": 41,
   "id": "quantitative-marine",
   "metadata": {},
   "outputs": [
    {
     "data": {
      "text/plain": [
       "11×11 Matrix{Int64}:\n",
       " 0  0  0  0  0  0  0  0  0  0  0\n",
       " 0  0  1  1  1  1  1  1  1  1  1\n",
       " 0  1  1  1  1  2  2  2  2  2  2\n",
       " 0  1  2  2  2  2  2  2  3  3  3\n",
       " 0  1  2  3  3  3  3  3  3  3  3\n",
       " 0  1  2  3  4  4  4  4  4  4  4\n",
       " 0  1  2  3  4  5  5  5  5  5  5\n",
       " 0  1  2  3  4  5  6  6  6  6  6\n",
       " 0  1  2  3  4  5  6  6  7  7  7\n",
       " 0  1  2  3  4  5  6  7  7  8  8\n",
       " 0  1  2  3  4  5  6  7  8  8  8"
      ]
     },
     "metadata": {},
     "output_type": "display_data"
    },
    {
     "name": "stdout",
     "output_type": "stream",
     "text": [
      "  X: Any[1, 0, 1, 1, 1, 0, 0, 1, 0, 1]\n",
      "  Y: Any[0, 1, 1, 1, 0, 0, 0, 1, 0, 0]\n",
      "Any[0, 1, 1, 1, 0, 0, 0, 1]\n"
     ]
    }
   ],
   "source": [
    "# find length of lcs depending on\n",
    "\n",
    "len = 10\n",
    "char = [0, 1]\n",
    "X = generate_sequence(Sequence(len, char))\n",
    "Y = generate_sequence(Sequence(len, char))\n",
    "println(\"  X: \", X)\n",
    "println(\"  Y: \", Y)\n",
    "T = lcs_table(X, Y)\n",
    "display(T)\n",
    "lcs = println(lcs_from_table(T))"
   ]
  },
  {
   "cell_type": "code",
   "execution_count": 4,
   "id": "opposite-leonard",
   "metadata": {},
   "outputs": [
    {
     "data": {
      "text/plain": [
       "3-element Vector{Any}:\n",
       " 4\n",
       " 1\n",
       " 3"
      ]
     },
     "execution_count": 4,
     "metadata": {},
     "output_type": "execute_result"
    }
   ],
   "source": []
  },
  {
   "cell_type": "code",
   "execution_count": null,
   "id": "norwegian-intent",
   "metadata": {},
   "outputs": [],
   "source": []
  },
  {
   "cell_type": "code",
   "execution_count": null,
   "id": "ignored-platinum",
   "metadata": {},
   "outputs": [],
   "source": []
  },
  {
   "cell_type": "code",
   "execution_count": null,
   "id": "wanted-facility",
   "metadata": {},
   "outputs": [],
   "source": []
  },
  {
   "cell_type": "code",
   "execution_count": null,
   "id": "civil-thong",
   "metadata": {},
   "outputs": [],
   "source": []
  },
  {
   "cell_type": "code",
   "execution_count": null,
   "id": "particular-customer",
   "metadata": {},
   "outputs": [],
   "source": []
  },
  {
   "cell_type": "code",
   "execution_count": null,
   "id": "superior-question",
   "metadata": {},
   "outputs": [],
   "source": []
  },
  {
   "cell_type": "code",
   "execution_count": null,
   "id": "postal-scanning",
   "metadata": {},
   "outputs": [],
   "source": []
  }
 ],
 "metadata": {
  "kernelspec": {
   "display_name": "Julia 1.6.0",
   "language": "julia",
   "name": "julia-1.6"
  },
  "language_info": {
   "file_extension": ".jl",
   "mimetype": "application/julia",
   "name": "julia",
   "version": "1.6.0"
  }
 },
 "nbformat": 4,
 "nbformat_minor": 5
}