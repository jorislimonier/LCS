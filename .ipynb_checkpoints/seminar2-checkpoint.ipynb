{
 "cells": [
  {
   "cell_type": "code",
   "execution_count": 34,
   "metadata": {},
   "outputs": [],
   "source": [
    "import numpy as np\n",
    "import time"
   ]
  },
  {
   "cell_type": "code",
   "execution_count": 195,
   "metadata": {},
   "outputs": [
    {
     "name": "stdout",
     "output_type": "stream",
     "text": [
      "Length 6\n",
      "from seq1: 010001\n",
      "from seq2: 000100\n",
      "\n",
      "Length 5\n",
      "from seq1: 01000\n",
      "from seq2: 00010\n",
      "from seq2: 00100\n",
      "\n",
      "from seq1: 10001\n",
      "from seq2: 00010\n",
      "from seq2: 00100\n",
      "\n",
      "Length 4\n",
      "from seq1: 0100\n",
      "from seq2: 0001\n",
      "from seq2: 0010\n",
      "from seq2: 0100\n",
      "MATCH FOUND\n",
      "\n",
      "from seq1: 1000\n",
      "from seq2: 0001\n",
      "from seq2: 0010\n",
      "from seq2: 0100\n",
      "\n",
      "from seq1: 0001\n",
      "from seq2: 0001\n",
      "MATCH FOUND\n",
      "\n",
      "Length 3\n",
      "from seq1: 010\n",
      "from seq2: 000\n",
      "from seq2: 001\n",
      "from seq2: 010\n",
      "MATCH FOUND\n",
      "\n",
      "from seq1: 100\n",
      "from seq2: 000\n",
      "from seq2: 001\n",
      "from seq2: 010\n",
      "from seq2: 100\n",
      "MATCH FOUND\n",
      "\n",
      "from seq1: 000\n",
      "from seq2: 000\n",
      "MATCH FOUND\n",
      "\n",
      "from seq1: 001\n",
      "from seq2: 000\n",
      "from seq2: 001\n",
      "MATCH FOUND\n",
      "\n",
      "Length 2\n",
      "from seq1: 01\n",
      "from seq2: 00\n",
      "from seq2: 00\n",
      "from seq2: 01\n",
      "MATCH FOUND\n",
      "\n",
      "from seq1: 10\n",
      "from seq2: 00\n",
      "from seq2: 00\n",
      "from seq2: 01\n",
      "from seq2: 10\n",
      "MATCH FOUND\n",
      "\n",
      "from seq1: 00\n",
      "from seq2: 00\n",
      "MATCH FOUND\n",
      "\n",
      "from seq1: 00\n",
      "from seq2: 00\n",
      "MATCH FOUND\n",
      "\n",
      "from seq1: 01\n",
      "from seq2: 00\n",
      "from seq2: 00\n",
      "from seq2: 01\n",
      "MATCH FOUND\n",
      "\n",
      "Length 1\n",
      "from seq1: 0\n",
      "from seq2: 0\n",
      "MATCH FOUND\n",
      "\n",
      "from seq1: 1\n",
      "from seq2: 0\n",
      "from seq2: 0\n",
      "from seq2: 0\n",
      "from seq2: 1\n",
      "MATCH FOUND\n",
      "\n",
      "from seq1: 0\n",
      "from seq2: 0\n",
      "MATCH FOUND\n",
      "\n",
      "from seq1: 0\n",
      "from seq2: 0\n",
      "MATCH FOUND\n",
      "\n",
      "from seq1: 0\n",
      "from seq2: 0\n",
      "MATCH FOUND\n",
      "\n",
      "from seq1: 1\n",
      "from seq2: 0\n",
      "from seq2: 0\n",
      "from seq2: 0\n",
      "from seq2: 1\n",
      "MATCH FOUND\n",
      "\n"
     ]
    }
   ],
   "source": [
    "np.random.seed(42)\n",
    "\n",
    "\n",
    "class Sequence():\n",
    "    def __init__(self, length, char):\n",
    "        self.length = length\n",
    "        self.char = char\n",
    "        \n",
    "    def generate_sequence(self):\n",
    "        seq = np.random.choice(self.char, size=self.length)\n",
    "        return np.array2string(seq, separator=\"\")[1:-1]\n",
    "        \n",
    "        \n",
    "        \n",
    "def find_LCS(seq1, seq2):\n",
    "    max_subseq_length = np.minimum(len(seq1), len(seq2)) # finds sequence of minimum length\n",
    "#     print(seq1)\n",
    "    for length in range(max_subseq_length, 0, -1):\n",
    "        print(f\"Length {length}\")\n",
    "        for i1 in range(max_subseq_length - length + 1):\n",
    "            print(f\"from seq1: {seq1[i1: i1+length]}\")\n",
    "            for i2 in range(max_subseq_length - length + 1):\n",
    "                print(f\"from seq2: {seq2[i2: i2+length]}\")\n",
    "                if seq1[i1: i1+length] == seq2[i2: i2+length]:\n",
    "                    print(\"MATCH FOUND\")\n",
    "                    break\n",
    "                    \n",
    "            print()\n",
    "                \n",
    "                \n",
    "#         break\n",
    "    # check if the whole sequence is the same\n",
    "    # check if length-1 is the same\n",
    "    \n",
    "# time_start = time.time()    \n",
    "\n",
    "my_sequence = Sequence(6, [0, 1])\n",
    "seq1 = my_sequence.generate_sequence()\n",
    "seq2 = my_sequence.generate_sequence()\n",
    "\n",
    "\n",
    "find_LCS(seq1, seq2)\n",
    "\n",
    "# time_end = time.time()    \n",
    "# time_end - time_start"
   ]
  },
  {
   "cell_type": "code",
   "execution_count": 155,
   "metadata": {},
   "outputs": [
    {
     "data": {
      "text/plain": [
       "'01000'"
      ]
     },
     "execution_count": 155,
     "metadata": {},
     "output_type": "execute_result"
    }
   ],
   "source": [
    "seq1[: 5]"
   ]
  },
  {
   "cell_type": "code",
   "execution_count": 150,
   "metadata": {},
   "outputs": [
    {
     "data": {
      "text/plain": [
       "'10001'"
      ]
     },
     "execution_count": 150,
     "metadata": {},
     "output_type": "execute_result"
    }
   ],
   "source": [
    "seq1[1:6]"
   ]
  },
  {
   "cell_type": "code",
   "execution_count": 153,
   "metadata": {},
   "outputs": [
    {
     "data": {
      "text/plain": [
       "True"
      ]
     },
     "execution_count": 153,
     "metadata": {},
     "output_type": "execute_result"
    }
   ],
   "source": [
    "seq1 == seq1[0:6]"
   ]
  },
  {
   "cell_type": "code",
   "execution_count": null,
   "metadata": {},
   "outputs": [],
   "source": []
  },
  {
   "cell_type": "code",
   "execution_count": null,
   "metadata": {},
   "outputs": [],
   "source": []
  },
  {
   "cell_type": "code",
   "execution_count": null,
   "metadata": {},
   "outputs": [],
   "source": []
  },
  {
   "cell_type": "code",
   "execution_count": null,
   "metadata": {},
   "outputs": [],
   "source": []
  },
  {
   "cell_type": "code",
   "execution_count": null,
   "metadata": {},
   "outputs": [],
   "source": []
  },
  {
   "cell_type": "code",
   "execution_count": null,
   "metadata": {},
   "outputs": [],
   "source": []
  }
 ],
 "metadata": {
  "kernelspec": {
   "display_name": "Python 3",
   "language": "python",
   "name": "python3"
  },
  "language_info": {
   "codemirror_mode": {
    "name": "ipython",
    "version": 3
   },
   "file_extension": ".py",
   "mimetype": "text/x-python",
   "name": "python",
   "nbconvert_exporter": "python",
   "pygments_lexer": "ipython3",
   "version": "3.8.5"
  }
 },
 "nbformat": 4,
 "nbformat_minor": 4
}
