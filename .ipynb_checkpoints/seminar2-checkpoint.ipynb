{
 "cells": [
  {
   "cell_type": "markdown",
   "metadata": {},
   "source": [
    "# Imports"
   ]
  },
  {
   "cell_type": "code",
   "execution_count": 1,
   "metadata": {},
   "outputs": [],
   "source": [
    "import numpy as np\n",
    "import time\n",
    "import plotly.express as px\n",
    "import json"
   ]
  },
  {
   "cell_type": "markdown",
   "metadata": {},
   "source": [
    "# Finding the LCS"
   ]
  },
  {
   "cell_type": "code",
   "execution_count": 2,
   "metadata": {},
   "outputs": [],
   "source": [
    "# np.random.seed(42)\n",
    "\n",
    "class Sequence():\n",
    "    def __init__(self, length, char):\n",
    "        self.length = length\n",
    "        self.char = char\n",
    "        \n",
    "    def generate_sequence(self):\n",
    "        seq = np.random.choice(list(self.char), size=self.length)\n",
    "        return \"\".join(seq)\n",
    "        \n",
    "        \n",
    "        \n",
    "def find_LCS(seq1, seq2):\n",
    "    LCS_found = False\n",
    "    max_subseq_length = np.minimum(len(seq1), len(seq2)) # finds sequence of minimum length\n",
    "    for length in range(max_subseq_length, 0, -1):\n",
    "        for i1 in range(max_subseq_length - length + 1):\n",
    "            for i2 in range(max_subseq_length - length + 1):\n",
    "                if seq1[i1: i1+length] == seq2[i2: i2+length]:\n",
    "                    return length\n",
    "#                     print(f\"Length {length}\")\n",
    "#                     print(f\"from seq1: {seq1[i1: i1+length]}\")\n",
    "#                     print(f\"from seq2: {seq2[i2: i2+length]}\")\n",
    "#                     print(\"MATCH FOUND\")\n",
    "#                     LCS_found = True\n",
    "#             print()\n",
    "#             if LCS_found:\n",
    "#                 return length\n",
    "                \n"
   ]
  },
  {
   "cell_type": "markdown",
   "metadata": {},
   "source": [
    "# Save data to json"
   ]
  },
  {
   "cell_type": "code",
   "execution_count": 29,
   "metadata": {},
   "outputs": [
    {
     "name": "stdout",
     "output_type": "stream",
     "text": [
      "92.11\n"
     ]
    }
   ],
   "source": [
    "length_LCS =  []\n",
    "seq_length = 100\n",
    "char = [\"0\", \"1\"]\n",
    "nb_char = len(np.unique(char))\n",
    "\n",
    "time_start = time.time()    \n",
    "for _ in range(2000):\n",
    "    my_sequence = Sequence(seq_length, char)\n",
    "    seq1 = my_sequence.generate_sequence()\n",
    "    seq2 = my_sequence.generate_sequence()\n",
    "\n",
    "    length_LCS.append(find_LCS(seq1, seq2))\n",
    "\n",
    "time_end = time.time()    \n",
    "print(round(time_end - time_start, 2))\n",
    "\n",
    "\n",
    "lcs_data = {\n",
    "        \"nb characters\": nb_char,\n",
    "        \"sequence length\": seq_length,\n",
    "        \"length LCS\": length_LCS,\n",
    "}\n",
    "\n",
    "\n",
    "def add_data():\n",
    "    # read from json\n",
    "    with open(\"lcs_data.json\", \"r\") as f:\n",
    "        data = json.load(f)\n",
    "    # check if this type of sequence already exists in json file\n",
    "    for item in data:\n",
    "        if item[\"nb characters\"] == lcs_data[\"nb characters\"] and item[\"sequence length\"] == lcs_data[\"sequence length\"]:\n",
    "            item[\"length LCS\"] += length_LCS\n",
    "            return data\n",
    "    data.append(lcs_data)\n",
    "    return data\n",
    "\n",
    "data = add_data()\n",
    "\n",
    "# write data to json file\n",
    "with open(\"lcs_data.json\", \"w\") as f:\n",
    "    json.dump(data, f, indent=4)\n",
    "        \n",
    "# data"
   ]
  },
  {
   "cell_type": "code",
   "execution_count": 73,
   "metadata": {},
   "outputs": [
    {
     "data": {
      "text/plain": [
       "[{'nb characters': 2, 'sequence length': 100, 'length LCS': [15, 12]}]"
      ]
     },
     "execution_count": 73,
     "metadata": {},
     "output_type": "execute_result"
    }
   ],
   "source": [
    "existing_data"
   ]
  },
  {
   "cell_type": "code",
   "execution_count": 78,
   "metadata": {},
   "outputs": [
    {
     "data": {
      "text/plain": [
       "[10, 12, 10, 12]"
      ]
     },
     "execution_count": 78,
     "metadata": {},
     "output_type": "execute_result"
    }
   ],
   "source": [
    "[10, 12] + [10, 12]"
   ]
  },
  {
   "cell_type": "markdown",
   "metadata": {},
   "source": [
    "# Visualisation"
   ]
  },
  {
   "cell_type": "code",
   "execution_count": 112,
   "metadata": {
    "scrolled": false
   },
   "outputs": [
    {
     "data": {
      "application/vnd.plotly.v1+json": {
       "config": {
        "plotlyServerURL": "https://plot.ly"
       },
       "data": [
        {
         "alignmentgroup": "True",
         "bingroup": "x",
         "hovertemplate": "variable=0<br>value=%{x}<br>count=%{y}<extra></extra>",
         "legendgroup": "0",
         "marker": {
          "color": "#636efa"
         },
         "name": "0",
         "nbinsx": 25,
         "offsetgroup": "0",
         "orientation": "v",
         "showlegend": true,
         "type": "histogram",
         "x": [
          12,
          12,
          15,
          13,
          12,
          14,
          12,
          14,
          15,
          12,
          12,
          9,
          12,
          12,
          14,
          11,
          11,
          13,
          18,
          10,
          12,
          11,
          13,
          11,
          14,
          12,
          11,
          13,
          15,
          15,
          15,
          12,
          12,
          14,
          12,
          11,
          12,
          10,
          13,
          14,
          12,
          13,
          11,
          11,
          15,
          11,
          12,
          12,
          14,
          12,
          10,
          11,
          11,
          13,
          14,
          16,
          21,
          10,
          13,
          9,
          12,
          11,
          13,
          12,
          9,
          10,
          11,
          12,
          10,
          15,
          10,
          13,
          12,
          16,
          14,
          14,
          11,
          12,
          11,
          13,
          10,
          12,
          12,
          10,
          12,
          15,
          12,
          12,
          12,
          11,
          10,
          11,
          14,
          11,
          11,
          11,
          11,
          11,
          10,
          11,
          12,
          11,
          11,
          15,
          15,
          15,
          11,
          14,
          15,
          12,
          12,
          12,
          11,
          12,
          10,
          12,
          10,
          12,
          11,
          14,
          11,
          14,
          13,
          10,
          16,
          11,
          11,
          13,
          13,
          12,
          15,
          12,
          14,
          11,
          12,
          11,
          13,
          12,
          10,
          10,
          11,
          11,
          13,
          10,
          12,
          17,
          16,
          12,
          10,
          11,
          13,
          14,
          12,
          13,
          11,
          14,
          13,
          9,
          12,
          14,
          14,
          11,
          11,
          15,
          12,
          10,
          10,
          10,
          12,
          12,
          12,
          13,
          13,
          12,
          11,
          14,
          12,
          11,
          12,
          11,
          12,
          11,
          11,
          12,
          14,
          13,
          16,
          14,
          12,
          13,
          11,
          11,
          12,
          11,
          12,
          12,
          14,
          13,
          11,
          11,
          15,
          15,
          13,
          11,
          11,
          16,
          12,
          14,
          11,
          12,
          13,
          15,
          12,
          13,
          11,
          11,
          11,
          12,
          12,
          10,
          11,
          9,
          13,
          15,
          11,
          12,
          15,
          12,
          14,
          13,
          14,
          14,
          14,
          10,
          12,
          11,
          13,
          12,
          9,
          13,
          12,
          14,
          14,
          11,
          13,
          11,
          13,
          14,
          11,
          14,
          11,
          16,
          14,
          14,
          11,
          12,
          12,
          11,
          13,
          14,
          10,
          9,
          15,
          14,
          11,
          14,
          12,
          14,
          13,
          10,
          14,
          11,
          13,
          9,
          10,
          12,
          11,
          12,
          16,
          16,
          14,
          10,
          10,
          11,
          12,
          9,
          13,
          14,
          13,
          12,
          13,
          14,
          12,
          10,
          12,
          14,
          11,
          14,
          15,
          12,
          13,
          11,
          13,
          9,
          13,
          12,
          15,
          14,
          13,
          12,
          13,
          13,
          11,
          12,
          12,
          13,
          12,
          12,
          11,
          11,
          12,
          11,
          15,
          12,
          13,
          12,
          14,
          12,
          14,
          9,
          13,
          12,
          15,
          12,
          14,
          12,
          11,
          12,
          15,
          14,
          14,
          11,
          14,
          12,
          10,
          13,
          13,
          18,
          10,
          10,
          12,
          12,
          14,
          13,
          12,
          12,
          14,
          11,
          12,
          12,
          10,
          11,
          11,
          11,
          9,
          12,
          12,
          14,
          12,
          10,
          12,
          11,
          13,
          13,
          12,
          12,
          12,
          10,
          11,
          12,
          13,
          12,
          11,
          12,
          10,
          10,
          10,
          11,
          11,
          11,
          11,
          13,
          13,
          12,
          11,
          15,
          12,
          12,
          13,
          13,
          12,
          13,
          15,
          11,
          16,
          12,
          13,
          9,
          13,
          11,
          13,
          17,
          14,
          11,
          11,
          16,
          11,
          14,
          12,
          13,
          16,
          20,
          11,
          15,
          14,
          11,
          12,
          11,
          12,
          10,
          11,
          11,
          13,
          11,
          13,
          11,
          13,
          13,
          12,
          12,
          12,
          13,
          15,
          13,
          11,
          11,
          14,
          16,
          12,
          12,
          13,
          19,
          13,
          11,
          12,
          12,
          14,
          11,
          12,
          12,
          12,
          14,
          12,
          12,
          16,
          14,
          11,
          11,
          15,
          11,
          16,
          11,
          12,
          12,
          11,
          10,
          14,
          12,
          13,
          12,
          12,
          11,
          12,
          11,
          15,
          11,
          11,
          13,
          16,
          13,
          10,
          11,
          13,
          10,
          12,
          12,
          12,
          13,
          12,
          12,
          12,
          12,
          11,
          12,
          12,
          12,
          11,
          11,
          13,
          12,
          18,
          14,
          10,
          12,
          12,
          16,
          12,
          13,
          13,
          13,
          13,
          11,
          11,
          11,
          11,
          10,
          10,
          11,
          16,
          16,
          13,
          14,
          14,
          11,
          9,
          10,
          13,
          13,
          13,
          14,
          12,
          12,
          10,
          13,
          14,
          13,
          12,
          13,
          11,
          15,
          15,
          11,
          14,
          10,
          10,
          11,
          12,
          13,
          12,
          13,
          12,
          11,
          12,
          14,
          10,
          12,
          13,
          12,
          10,
          10,
          12,
          11,
          11,
          11,
          11,
          10,
          12,
          12,
          15,
          13,
          17,
          13,
          9,
          14,
          11,
          12,
          16,
          11,
          10,
          10,
          13,
          12,
          15,
          12,
          11,
          10,
          14,
          11,
          14,
          11,
          13,
          12,
          11,
          14,
          12,
          11,
          13,
          12,
          10,
          15,
          16,
          13,
          13,
          12,
          17,
          12,
          13,
          10,
          11,
          11,
          12,
          13,
          11,
          10,
          11,
          10,
          14,
          12,
          12,
          13,
          10,
          12,
          11,
          14,
          11,
          11,
          10,
          11,
          12,
          11,
          10,
          12,
          11,
          11,
          12,
          13,
          12,
          14,
          11,
          13,
          12,
          13,
          11,
          10,
          11,
          13,
          16,
          13,
          14,
          12,
          13,
          11,
          12,
          11,
          13,
          11,
          11,
          11,
          12,
          10,
          12,
          10,
          12,
          12,
          12,
          10,
          11,
          12,
          10,
          11,
          13,
          13,
          9,
          16,
          12,
          13,
          11,
          13,
          16,
          13,
          13,
          13,
          12,
          15,
          13,
          10,
          12,
          13,
          11,
          13,
          11,
          14,
          11,
          14,
          11,
          12,
          14,
          11,
          12,
          16,
          12,
          13,
          14,
          12,
          11,
          10,
          11,
          11,
          11,
          12,
          13,
          12,
          11,
          10,
          11,
          11,
          14,
          13,
          10,
          16,
          11,
          11,
          16,
          11,
          17,
          10,
          13,
          10,
          13,
          10,
          15,
          10,
          10,
          14,
          12,
          11,
          12,
          14,
          11,
          10,
          13,
          11,
          11,
          10,
          13,
          11,
          13,
          12,
          10,
          11,
          13,
          12,
          12,
          14,
          14,
          13,
          15,
          10,
          12,
          9,
          10,
          14,
          11,
          12,
          16,
          13,
          12,
          14,
          12,
          20,
          12,
          12,
          17,
          17,
          13,
          13,
          11,
          12,
          11,
          12,
          14,
          12,
          10,
          12,
          12,
          11,
          11,
          14,
          12,
          11,
          10,
          18,
          13,
          9,
          19,
          12,
          11,
          12,
          11,
          10,
          12,
          12,
          13,
          14,
          12,
          13,
          13,
          13,
          15,
          10,
          11,
          18,
          11,
          14,
          16,
          12,
          14,
          13,
          10,
          13,
          11,
          11,
          14,
          11,
          17,
          11,
          12,
          11,
          11,
          11,
          10,
          13,
          11,
          13,
          14,
          12,
          12,
          13,
          14,
          11,
          13,
          18,
          10,
          11,
          14,
          11,
          13,
          11,
          13,
          11,
          12,
          12,
          15,
          10,
          11,
          11,
          13,
          13,
          12,
          10,
          10,
          12,
          12,
          10,
          11,
          13,
          16,
          12,
          13,
          12,
          11,
          12,
          12,
          15,
          12,
          14,
          10,
          14,
          12,
          12,
          12,
          10,
          12,
          14,
          19,
          13,
          18,
          11,
          13,
          10,
          10,
          15,
          12,
          13,
          13,
          10,
          14,
          12,
          11,
          12,
          13,
          12,
          11,
          12,
          11,
          14,
          13,
          11,
          11,
          10,
          12,
          13,
          11,
          12,
          11,
          13,
          12,
          10,
          12,
          11,
          11,
          14,
          11,
          10,
          13,
          11,
          12,
          13,
          14,
          13,
          12,
          11,
          10,
          13,
          14,
          11,
          12,
          14,
          11,
          10,
          10,
          10,
          13,
          12,
          13,
          11,
          12,
          14,
          11,
          11,
          11,
          13,
          11,
          13,
          11,
          12,
          13,
          11,
          15,
          11,
          12,
          11,
          14,
          17,
          12,
          9,
          13,
          12,
          12,
          12,
          12,
          10,
          12,
          13,
          14,
          12,
          11,
          11,
          12,
          20,
          13,
          9,
          14,
          12,
          13,
          13,
          12,
          12,
          12,
          15
         ],
         "xaxis": "x",
         "yaxis": "y"
        }
       ],
       "layout": {
        "barmode": "relative",
        "legend": {
         "title": {
          "text": "variable"
         },
         "tracegroupgap": 0
        },
        "margin": {
         "t": 60
        },
        "template": {
         "data": {
          "bar": [
           {
            "error_x": {
             "color": "#2a3f5f"
            },
            "error_y": {
             "color": "#2a3f5f"
            },
            "marker": {
             "line": {
              "color": "#E5ECF6",
              "width": 0.5
             }
            },
            "type": "bar"
           }
          ],
          "barpolar": [
           {
            "marker": {
             "line": {
              "color": "#E5ECF6",
              "width": 0.5
             }
            },
            "type": "barpolar"
           }
          ],
          "carpet": [
           {
            "aaxis": {
             "endlinecolor": "#2a3f5f",
             "gridcolor": "white",
             "linecolor": "white",
             "minorgridcolor": "white",
             "startlinecolor": "#2a3f5f"
            },
            "baxis": {
             "endlinecolor": "#2a3f5f",
             "gridcolor": "white",
             "linecolor": "white",
             "minorgridcolor": "white",
             "startlinecolor": "#2a3f5f"
            },
            "type": "carpet"
           }
          ],
          "choropleth": [
           {
            "colorbar": {
             "outlinewidth": 0,
             "ticks": ""
            },
            "type": "choropleth"
           }
          ],
          "contour": [
           {
            "colorbar": {
             "outlinewidth": 0,
             "ticks": ""
            },
            "colorscale": [
             [
              0,
              "#0d0887"
             ],
             [
              0.1111111111111111,
              "#46039f"
             ],
             [
              0.2222222222222222,
              "#7201a8"
             ],
             [
              0.3333333333333333,
              "#9c179e"
             ],
             [
              0.4444444444444444,
              "#bd3786"
             ],
             [
              0.5555555555555556,
              "#d8576b"
             ],
             [
              0.6666666666666666,
              "#ed7953"
             ],
             [
              0.7777777777777778,
              "#fb9f3a"
             ],
             [
              0.8888888888888888,
              "#fdca26"
             ],
             [
              1,
              "#f0f921"
             ]
            ],
            "type": "contour"
           }
          ],
          "contourcarpet": [
           {
            "colorbar": {
             "outlinewidth": 0,
             "ticks": ""
            },
            "type": "contourcarpet"
           }
          ],
          "heatmap": [
           {
            "colorbar": {
             "outlinewidth": 0,
             "ticks": ""
            },
            "colorscale": [
             [
              0,
              "#0d0887"
             ],
             [
              0.1111111111111111,
              "#46039f"
             ],
             [
              0.2222222222222222,
              "#7201a8"
             ],
             [
              0.3333333333333333,
              "#9c179e"
             ],
             [
              0.4444444444444444,
              "#bd3786"
             ],
             [
              0.5555555555555556,
              "#d8576b"
             ],
             [
              0.6666666666666666,
              "#ed7953"
             ],
             [
              0.7777777777777778,
              "#fb9f3a"
             ],
             [
              0.8888888888888888,
              "#fdca26"
             ],
             [
              1,
              "#f0f921"
             ]
            ],
            "type": "heatmap"
           }
          ],
          "heatmapgl": [
           {
            "colorbar": {
             "outlinewidth": 0,
             "ticks": ""
            },
            "colorscale": [
             [
              0,
              "#0d0887"
             ],
             [
              0.1111111111111111,
              "#46039f"
             ],
             [
              0.2222222222222222,
              "#7201a8"
             ],
             [
              0.3333333333333333,
              "#9c179e"
             ],
             [
              0.4444444444444444,
              "#bd3786"
             ],
             [
              0.5555555555555556,
              "#d8576b"
             ],
             [
              0.6666666666666666,
              "#ed7953"
             ],
             [
              0.7777777777777778,
              "#fb9f3a"
             ],
             [
              0.8888888888888888,
              "#fdca26"
             ],
             [
              1,
              "#f0f921"
             ]
            ],
            "type": "heatmapgl"
           }
          ],
          "histogram": [
           {
            "marker": {
             "colorbar": {
              "outlinewidth": 0,
              "ticks": ""
             }
            },
            "type": "histogram"
           }
          ],
          "histogram2d": [
           {
            "colorbar": {
             "outlinewidth": 0,
             "ticks": ""
            },
            "colorscale": [
             [
              0,
              "#0d0887"
             ],
             [
              0.1111111111111111,
              "#46039f"
             ],
             [
              0.2222222222222222,
              "#7201a8"
             ],
             [
              0.3333333333333333,
              "#9c179e"
             ],
             [
              0.4444444444444444,
              "#bd3786"
             ],
             [
              0.5555555555555556,
              "#d8576b"
             ],
             [
              0.6666666666666666,
              "#ed7953"
             ],
             [
              0.7777777777777778,
              "#fb9f3a"
             ],
             [
              0.8888888888888888,
              "#fdca26"
             ],
             [
              1,
              "#f0f921"
             ]
            ],
            "type": "histogram2d"
           }
          ],
          "histogram2dcontour": [
           {
            "colorbar": {
             "outlinewidth": 0,
             "ticks": ""
            },
            "colorscale": [
             [
              0,
              "#0d0887"
             ],
             [
              0.1111111111111111,
              "#46039f"
             ],
             [
              0.2222222222222222,
              "#7201a8"
             ],
             [
              0.3333333333333333,
              "#9c179e"
             ],
             [
              0.4444444444444444,
              "#bd3786"
             ],
             [
              0.5555555555555556,
              "#d8576b"
             ],
             [
              0.6666666666666666,
              "#ed7953"
             ],
             [
              0.7777777777777778,
              "#fb9f3a"
             ],
             [
              0.8888888888888888,
              "#fdca26"
             ],
             [
              1,
              "#f0f921"
             ]
            ],
            "type": "histogram2dcontour"
           }
          ],
          "mesh3d": [
           {
            "colorbar": {
             "outlinewidth": 0,
             "ticks": ""
            },
            "type": "mesh3d"
           }
          ],
          "parcoords": [
           {
            "line": {
             "colorbar": {
              "outlinewidth": 0,
              "ticks": ""
             }
            },
            "type": "parcoords"
           }
          ],
          "pie": [
           {
            "automargin": true,
            "type": "pie"
           }
          ],
          "scatter": [
           {
            "marker": {
             "colorbar": {
              "outlinewidth": 0,
              "ticks": ""
             }
            },
            "type": "scatter"
           }
          ],
          "scatter3d": [
           {
            "line": {
             "colorbar": {
              "outlinewidth": 0,
              "ticks": ""
             }
            },
            "marker": {
             "colorbar": {
              "outlinewidth": 0,
              "ticks": ""
             }
            },
            "type": "scatter3d"
           }
          ],
          "scattercarpet": [
           {
            "marker": {
             "colorbar": {
              "outlinewidth": 0,
              "ticks": ""
             }
            },
            "type": "scattercarpet"
           }
          ],
          "scattergeo": [
           {
            "marker": {
             "colorbar": {
              "outlinewidth": 0,
              "ticks": ""
             }
            },
            "type": "scattergeo"
           }
          ],
          "scattergl": [
           {
            "marker": {
             "colorbar": {
              "outlinewidth": 0,
              "ticks": ""
             }
            },
            "type": "scattergl"
           }
          ],
          "scattermapbox": [
           {
            "marker": {
             "colorbar": {
              "outlinewidth": 0,
              "ticks": ""
             }
            },
            "type": "scattermapbox"
           }
          ],
          "scatterpolar": [
           {
            "marker": {
             "colorbar": {
              "outlinewidth": 0,
              "ticks": ""
             }
            },
            "type": "scatterpolar"
           }
          ],
          "scatterpolargl": [
           {
            "marker": {
             "colorbar": {
              "outlinewidth": 0,
              "ticks": ""
             }
            },
            "type": "scatterpolargl"
           }
          ],
          "scatterternary": [
           {
            "marker": {
             "colorbar": {
              "outlinewidth": 0,
              "ticks": ""
             }
            },
            "type": "scatterternary"
           }
          ],
          "surface": [
           {
            "colorbar": {
             "outlinewidth": 0,
             "ticks": ""
            },
            "colorscale": [
             [
              0,
              "#0d0887"
             ],
             [
              0.1111111111111111,
              "#46039f"
             ],
             [
              0.2222222222222222,
              "#7201a8"
             ],
             [
              0.3333333333333333,
              "#9c179e"
             ],
             [
              0.4444444444444444,
              "#bd3786"
             ],
             [
              0.5555555555555556,
              "#d8576b"
             ],
             [
              0.6666666666666666,
              "#ed7953"
             ],
             [
              0.7777777777777778,
              "#fb9f3a"
             ],
             [
              0.8888888888888888,
              "#fdca26"
             ],
             [
              1,
              "#f0f921"
             ]
            ],
            "type": "surface"
           }
          ],
          "table": [
           {
            "cells": {
             "fill": {
              "color": "#EBF0F8"
             },
             "line": {
              "color": "white"
             }
            },
            "header": {
             "fill": {
              "color": "#C8D4E3"
             },
             "line": {
              "color": "white"
             }
            },
            "type": "table"
           }
          ]
         },
         "layout": {
          "annotationdefaults": {
           "arrowcolor": "#2a3f5f",
           "arrowhead": 0,
           "arrowwidth": 1
          },
          "autotypenumbers": "strict",
          "coloraxis": {
           "colorbar": {
            "outlinewidth": 0,
            "ticks": ""
           }
          },
          "colorscale": {
           "diverging": [
            [
             0,
             "#8e0152"
            ],
            [
             0.1,
             "#c51b7d"
            ],
            [
             0.2,
             "#de77ae"
            ],
            [
             0.3,
             "#f1b6da"
            ],
            [
             0.4,
             "#fde0ef"
            ],
            [
             0.5,
             "#f7f7f7"
            ],
            [
             0.6,
             "#e6f5d0"
            ],
            [
             0.7,
             "#b8e186"
            ],
            [
             0.8,
             "#7fbc41"
            ],
            [
             0.9,
             "#4d9221"
            ],
            [
             1,
             "#276419"
            ]
           ],
           "sequential": [
            [
             0,
             "#0d0887"
            ],
            [
             0.1111111111111111,
             "#46039f"
            ],
            [
             0.2222222222222222,
             "#7201a8"
            ],
            [
             0.3333333333333333,
             "#9c179e"
            ],
            [
             0.4444444444444444,
             "#bd3786"
            ],
            [
             0.5555555555555556,
             "#d8576b"
            ],
            [
             0.6666666666666666,
             "#ed7953"
            ],
            [
             0.7777777777777778,
             "#fb9f3a"
            ],
            [
             0.8888888888888888,
             "#fdca26"
            ],
            [
             1,
             "#f0f921"
            ]
           ],
           "sequentialminus": [
            [
             0,
             "#0d0887"
            ],
            [
             0.1111111111111111,
             "#46039f"
            ],
            [
             0.2222222222222222,
             "#7201a8"
            ],
            [
             0.3333333333333333,
             "#9c179e"
            ],
            [
             0.4444444444444444,
             "#bd3786"
            ],
            [
             0.5555555555555556,
             "#d8576b"
            ],
            [
             0.6666666666666666,
             "#ed7953"
            ],
            [
             0.7777777777777778,
             "#fb9f3a"
            ],
            [
             0.8888888888888888,
             "#fdca26"
            ],
            [
             1,
             "#f0f921"
            ]
           ]
          },
          "colorway": [
           "#636efa",
           "#EF553B",
           "#00cc96",
           "#ab63fa",
           "#FFA15A",
           "#19d3f3",
           "#FF6692",
           "#B6E880",
           "#FF97FF",
           "#FECB52"
          ],
          "font": {
           "color": "#2a3f5f"
          },
          "geo": {
           "bgcolor": "white",
           "lakecolor": "white",
           "landcolor": "#E5ECF6",
           "showlakes": true,
           "showland": true,
           "subunitcolor": "white"
          },
          "hoverlabel": {
           "align": "left"
          },
          "hovermode": "closest",
          "mapbox": {
           "style": "light"
          },
          "paper_bgcolor": "white",
          "plot_bgcolor": "#E5ECF6",
          "polar": {
           "angularaxis": {
            "gridcolor": "white",
            "linecolor": "white",
            "ticks": ""
           },
           "bgcolor": "#E5ECF6",
           "radialaxis": {
            "gridcolor": "white",
            "linecolor": "white",
            "ticks": ""
           }
          },
          "scene": {
           "xaxis": {
            "backgroundcolor": "#E5ECF6",
            "gridcolor": "white",
            "gridwidth": 2,
            "linecolor": "white",
            "showbackground": true,
            "ticks": "",
            "zerolinecolor": "white"
           },
           "yaxis": {
            "backgroundcolor": "#E5ECF6",
            "gridcolor": "white",
            "gridwidth": 2,
            "linecolor": "white",
            "showbackground": true,
            "ticks": "",
            "zerolinecolor": "white"
           },
           "zaxis": {
            "backgroundcolor": "#E5ECF6",
            "gridcolor": "white",
            "gridwidth": 2,
            "linecolor": "white",
            "showbackground": true,
            "ticks": "",
            "zerolinecolor": "white"
           }
          },
          "shapedefaults": {
           "line": {
            "color": "#2a3f5f"
           }
          },
          "ternary": {
           "aaxis": {
            "gridcolor": "white",
            "linecolor": "white",
            "ticks": ""
           },
           "baxis": {
            "gridcolor": "white",
            "linecolor": "white",
            "ticks": ""
           },
           "bgcolor": "#E5ECF6",
           "caxis": {
            "gridcolor": "white",
            "linecolor": "white",
            "ticks": ""
           }
          },
          "title": {
           "x": 0.05
          },
          "xaxis": {
           "automargin": true,
           "gridcolor": "white",
           "linecolor": "white",
           "ticks": "",
           "title": {
            "standoff": 15
           },
           "zerolinecolor": "white",
           "zerolinewidth": 2
          },
          "yaxis": {
           "automargin": true,
           "gridcolor": "white",
           "linecolor": "white",
           "ticks": "",
           "title": {
            "standoff": 15
           },
           "zerolinecolor": "white",
           "zerolinewidth": 2
          }
         }
        },
        "xaxis": {
         "anchor": "y",
         "domain": [
          0,
          1
         ],
         "title": {
          "text": "value"
         }
        },
        "yaxis": {
         "anchor": "x",
         "domain": [
          0,
          1
         ],
         "title": {
          "text": "count"
         }
        }
       }
      },
      "text/html": [
       "<div>                            <div id=\"61fa26a0-ec61-455a-a328-6bd319303390\" class=\"plotly-graph-div\" style=\"height:525px; width:100%;\"></div>            <script type=\"text/javascript\">                require([\"plotly\"], function(Plotly) {                    window.PLOTLYENV=window.PLOTLYENV || {};                                    if (document.getElementById(\"61fa26a0-ec61-455a-a328-6bd319303390\")) {                    Plotly.newPlot(                        \"61fa26a0-ec61-455a-a328-6bd319303390\",                        [{\"alignmentgroup\": \"True\", \"bingroup\": \"x\", \"hovertemplate\": \"variable=0<br>value=%{x}<br>count=%{y}<extra></extra>\", \"legendgroup\": \"0\", \"marker\": {\"color\": \"#636efa\"}, \"name\": \"0\", \"nbinsx\": 25, \"offsetgroup\": \"0\", \"orientation\": \"v\", \"showlegend\": true, \"type\": \"histogram\", \"x\": [12, 12, 15, 13, 12, 14, 12, 14, 15, 12, 12, 9, 12, 12, 14, 11, 11, 13, 18, 10, 12, 11, 13, 11, 14, 12, 11, 13, 15, 15, 15, 12, 12, 14, 12, 11, 12, 10, 13, 14, 12, 13, 11, 11, 15, 11, 12, 12, 14, 12, 10, 11, 11, 13, 14, 16, 21, 10, 13, 9, 12, 11, 13, 12, 9, 10, 11, 12, 10, 15, 10, 13, 12, 16, 14, 14, 11, 12, 11, 13, 10, 12, 12, 10, 12, 15, 12, 12, 12, 11, 10, 11, 14, 11, 11, 11, 11, 11, 10, 11, 12, 11, 11, 15, 15, 15, 11, 14, 15, 12, 12, 12, 11, 12, 10, 12, 10, 12, 11, 14, 11, 14, 13, 10, 16, 11, 11, 13, 13, 12, 15, 12, 14, 11, 12, 11, 13, 12, 10, 10, 11, 11, 13, 10, 12, 17, 16, 12, 10, 11, 13, 14, 12, 13, 11, 14, 13, 9, 12, 14, 14, 11, 11, 15, 12, 10, 10, 10, 12, 12, 12, 13, 13, 12, 11, 14, 12, 11, 12, 11, 12, 11, 11, 12, 14, 13, 16, 14, 12, 13, 11, 11, 12, 11, 12, 12, 14, 13, 11, 11, 15, 15, 13, 11, 11, 16, 12, 14, 11, 12, 13, 15, 12, 13, 11, 11, 11, 12, 12, 10, 11, 9, 13, 15, 11, 12, 15, 12, 14, 13, 14, 14, 14, 10, 12, 11, 13, 12, 9, 13, 12, 14, 14, 11, 13, 11, 13, 14, 11, 14, 11, 16, 14, 14, 11, 12, 12, 11, 13, 14, 10, 9, 15, 14, 11, 14, 12, 14, 13, 10, 14, 11, 13, 9, 10, 12, 11, 12, 16, 16, 14, 10, 10, 11, 12, 9, 13, 14, 13, 12, 13, 14, 12, 10, 12, 14, 11, 14, 15, 12, 13, 11, 13, 9, 13, 12, 15, 14, 13, 12, 13, 13, 11, 12, 12, 13, 12, 12, 11, 11, 12, 11, 15, 12, 13, 12, 14, 12, 14, 9, 13, 12, 15, 12, 14, 12, 11, 12, 15, 14, 14, 11, 14, 12, 10, 13, 13, 18, 10, 10, 12, 12, 14, 13, 12, 12, 14, 11, 12, 12, 10, 11, 11, 11, 9, 12, 12, 14, 12, 10, 12, 11, 13, 13, 12, 12, 12, 10, 11, 12, 13, 12, 11, 12, 10, 10, 10, 11, 11, 11, 11, 13, 13, 12, 11, 15, 12, 12, 13, 13, 12, 13, 15, 11, 16, 12, 13, 9, 13, 11, 13, 17, 14, 11, 11, 16, 11, 14, 12, 13, 16, 20, 11, 15, 14, 11, 12, 11, 12, 10, 11, 11, 13, 11, 13, 11, 13, 13, 12, 12, 12, 13, 15, 13, 11, 11, 14, 16, 12, 12, 13, 19, 13, 11, 12, 12, 14, 11, 12, 12, 12, 14, 12, 12, 16, 14, 11, 11, 15, 11, 16, 11, 12, 12, 11, 10, 14, 12, 13, 12, 12, 11, 12, 11, 15, 11, 11, 13, 16, 13, 10, 11, 13, 10, 12, 12, 12, 13, 12, 12, 12, 12, 11, 12, 12, 12, 11, 11, 13, 12, 18, 14, 10, 12, 12, 16, 12, 13, 13, 13, 13, 11, 11, 11, 11, 10, 10, 11, 16, 16, 13, 14, 14, 11, 9, 10, 13, 13, 13, 14, 12, 12, 10, 13, 14, 13, 12, 13, 11, 15, 15, 11, 14, 10, 10, 11, 12, 13, 12, 13, 12, 11, 12, 14, 10, 12, 13, 12, 10, 10, 12, 11, 11, 11, 11, 10, 12, 12, 15, 13, 17, 13, 9, 14, 11, 12, 16, 11, 10, 10, 13, 12, 15, 12, 11, 10, 14, 11, 14, 11, 13, 12, 11, 14, 12, 11, 13, 12, 10, 15, 16, 13, 13, 12, 17, 12, 13, 10, 11, 11, 12, 13, 11, 10, 11, 10, 14, 12, 12, 13, 10, 12, 11, 14, 11, 11, 10, 11, 12, 11, 10, 12, 11, 11, 12, 13, 12, 14, 11, 13, 12, 13, 11, 10, 11, 13, 16, 13, 14, 12, 13, 11, 12, 11, 13, 11, 11, 11, 12, 10, 12, 10, 12, 12, 12, 10, 11, 12, 10, 11, 13, 13, 9, 16, 12, 13, 11, 13, 16, 13, 13, 13, 12, 15, 13, 10, 12, 13, 11, 13, 11, 14, 11, 14, 11, 12, 14, 11, 12, 16, 12, 13, 14, 12, 11, 10, 11, 11, 11, 12, 13, 12, 11, 10, 11, 11, 14, 13, 10, 16, 11, 11, 16, 11, 17, 10, 13, 10, 13, 10, 15, 10, 10, 14, 12, 11, 12, 14, 11, 10, 13, 11, 11, 10, 13, 11, 13, 12, 10, 11, 13, 12, 12, 14, 14, 13, 15, 10, 12, 9, 10, 14, 11, 12, 16, 13, 12, 14, 12, 20, 12, 12, 17, 17, 13, 13, 11, 12, 11, 12, 14, 12, 10, 12, 12, 11, 11, 14, 12, 11, 10, 18, 13, 9, 19, 12, 11, 12, 11, 10, 12, 12, 13, 14, 12, 13, 13, 13, 15, 10, 11, 18, 11, 14, 16, 12, 14, 13, 10, 13, 11, 11, 14, 11, 17, 11, 12, 11, 11, 11, 10, 13, 11, 13, 14, 12, 12, 13, 14, 11, 13, 18, 10, 11, 14, 11, 13, 11, 13, 11, 12, 12, 15, 10, 11, 11, 13, 13, 12, 10, 10, 12, 12, 10, 11, 13, 16, 12, 13, 12, 11, 12, 12, 15, 12, 14, 10, 14, 12, 12, 12, 10, 12, 14, 19, 13, 18, 11, 13, 10, 10, 15, 12, 13, 13, 10, 14, 12, 11, 12, 13, 12, 11, 12, 11, 14, 13, 11, 11, 10, 12, 13, 11, 12, 11, 13, 12, 10, 12, 11, 11, 14, 11, 10, 13, 11, 12, 13, 14, 13, 12, 11, 10, 13, 14, 11, 12, 14, 11, 10, 10, 10, 13, 12, 13, 11, 12, 14, 11, 11, 11, 13, 11, 13, 11, 12, 13, 11, 15, 11, 12, 11, 14, 17, 12, 9, 13, 12, 12, 12, 12, 10, 12, 13, 14, 12, 11, 11, 12, 20, 13, 9, 14, 12, 13, 13, 12, 12, 12, 15], \"xaxis\": \"x\", \"yaxis\": \"y\"}],                        {\"barmode\": \"relative\", \"legend\": {\"title\": {\"text\": \"variable\"}, \"tracegroupgap\": 0}, \"margin\": {\"t\": 60}, \"template\": {\"data\": {\"bar\": [{\"error_x\": {\"color\": \"#2a3f5f\"}, \"error_y\": {\"color\": \"#2a3f5f\"}, \"marker\": {\"line\": {\"color\": \"#E5ECF6\", \"width\": 0.5}}, \"type\": \"bar\"}], \"barpolar\": [{\"marker\": {\"line\": {\"color\": \"#E5ECF6\", \"width\": 0.5}}, \"type\": \"barpolar\"}], \"carpet\": [{\"aaxis\": {\"endlinecolor\": \"#2a3f5f\", \"gridcolor\": \"white\", \"linecolor\": \"white\", \"minorgridcolor\": \"white\", \"startlinecolor\": \"#2a3f5f\"}, \"baxis\": {\"endlinecolor\": \"#2a3f5f\", \"gridcolor\": \"white\", \"linecolor\": \"white\", \"minorgridcolor\": \"white\", \"startlinecolor\": \"#2a3f5f\"}, \"type\": \"carpet\"}], \"choropleth\": [{\"colorbar\": {\"outlinewidth\": 0, \"ticks\": \"\"}, \"type\": \"choropleth\"}], \"contour\": [{\"colorbar\": {\"outlinewidth\": 0, \"ticks\": \"\"}, \"colorscale\": [[0.0, \"#0d0887\"], [0.1111111111111111, \"#46039f\"], [0.2222222222222222, \"#7201a8\"], [0.3333333333333333, \"#9c179e\"], [0.4444444444444444, \"#bd3786\"], [0.5555555555555556, \"#d8576b\"], [0.6666666666666666, \"#ed7953\"], [0.7777777777777778, \"#fb9f3a\"], [0.8888888888888888, \"#fdca26\"], [1.0, \"#f0f921\"]], \"type\": \"contour\"}], \"contourcarpet\": [{\"colorbar\": {\"outlinewidth\": 0, \"ticks\": \"\"}, \"type\": \"contourcarpet\"}], \"heatmap\": [{\"colorbar\": {\"outlinewidth\": 0, \"ticks\": \"\"}, \"colorscale\": [[0.0, \"#0d0887\"], [0.1111111111111111, \"#46039f\"], [0.2222222222222222, \"#7201a8\"], [0.3333333333333333, \"#9c179e\"], [0.4444444444444444, \"#bd3786\"], [0.5555555555555556, \"#d8576b\"], [0.6666666666666666, \"#ed7953\"], [0.7777777777777778, \"#fb9f3a\"], [0.8888888888888888, \"#fdca26\"], [1.0, \"#f0f921\"]], \"type\": \"heatmap\"}], \"heatmapgl\": [{\"colorbar\": {\"outlinewidth\": 0, \"ticks\": \"\"}, \"colorscale\": [[0.0, \"#0d0887\"], [0.1111111111111111, \"#46039f\"], [0.2222222222222222, \"#7201a8\"], [0.3333333333333333, \"#9c179e\"], [0.4444444444444444, \"#bd3786\"], [0.5555555555555556, \"#d8576b\"], [0.6666666666666666, \"#ed7953\"], [0.7777777777777778, \"#fb9f3a\"], [0.8888888888888888, \"#fdca26\"], [1.0, \"#f0f921\"]], \"type\": \"heatmapgl\"}], \"histogram\": [{\"marker\": {\"colorbar\": {\"outlinewidth\": 0, \"ticks\": \"\"}}, \"type\": \"histogram\"}], \"histogram2d\": [{\"colorbar\": {\"outlinewidth\": 0, \"ticks\": \"\"}, \"colorscale\": [[0.0, \"#0d0887\"], [0.1111111111111111, \"#46039f\"], [0.2222222222222222, \"#7201a8\"], [0.3333333333333333, \"#9c179e\"], [0.4444444444444444, \"#bd3786\"], [0.5555555555555556, \"#d8576b\"], [0.6666666666666666, \"#ed7953\"], [0.7777777777777778, \"#fb9f3a\"], [0.8888888888888888, \"#fdca26\"], [1.0, \"#f0f921\"]], \"type\": \"histogram2d\"}], \"histogram2dcontour\": [{\"colorbar\": {\"outlinewidth\": 0, \"ticks\": \"\"}, \"colorscale\": [[0.0, \"#0d0887\"], [0.1111111111111111, \"#46039f\"], [0.2222222222222222, \"#7201a8\"], [0.3333333333333333, \"#9c179e\"], [0.4444444444444444, \"#bd3786\"], [0.5555555555555556, \"#d8576b\"], [0.6666666666666666, \"#ed7953\"], [0.7777777777777778, \"#fb9f3a\"], [0.8888888888888888, \"#fdca26\"], [1.0, \"#f0f921\"]], \"type\": \"histogram2dcontour\"}], \"mesh3d\": [{\"colorbar\": {\"outlinewidth\": 0, \"ticks\": \"\"}, \"type\": \"mesh3d\"}], \"parcoords\": [{\"line\": {\"colorbar\": {\"outlinewidth\": 0, \"ticks\": \"\"}}, \"type\": \"parcoords\"}], \"pie\": [{\"automargin\": true, \"type\": \"pie\"}], \"scatter\": [{\"marker\": {\"colorbar\": {\"outlinewidth\": 0, \"ticks\": \"\"}}, \"type\": \"scatter\"}], \"scatter3d\": [{\"line\": {\"colorbar\": {\"outlinewidth\": 0, \"ticks\": \"\"}}, \"marker\": {\"colorbar\": {\"outlinewidth\": 0, \"ticks\": \"\"}}, \"type\": \"scatter3d\"}], \"scattercarpet\": [{\"marker\": {\"colorbar\": {\"outlinewidth\": 0, \"ticks\": \"\"}}, \"type\": \"scattercarpet\"}], \"scattergeo\": [{\"marker\": {\"colorbar\": {\"outlinewidth\": 0, \"ticks\": \"\"}}, \"type\": \"scattergeo\"}], \"scattergl\": [{\"marker\": {\"colorbar\": {\"outlinewidth\": 0, \"ticks\": \"\"}}, \"type\": \"scattergl\"}], \"scattermapbox\": [{\"marker\": {\"colorbar\": {\"outlinewidth\": 0, \"ticks\": \"\"}}, \"type\": \"scattermapbox\"}], \"scatterpolar\": [{\"marker\": {\"colorbar\": {\"outlinewidth\": 0, \"ticks\": \"\"}}, \"type\": \"scatterpolar\"}], \"scatterpolargl\": [{\"marker\": {\"colorbar\": {\"outlinewidth\": 0, \"ticks\": \"\"}}, \"type\": \"scatterpolargl\"}], \"scatterternary\": [{\"marker\": {\"colorbar\": {\"outlinewidth\": 0, \"ticks\": \"\"}}, \"type\": \"scatterternary\"}], \"surface\": [{\"colorbar\": {\"outlinewidth\": 0, \"ticks\": \"\"}, \"colorscale\": [[0.0, \"#0d0887\"], [0.1111111111111111, \"#46039f\"], [0.2222222222222222, \"#7201a8\"], [0.3333333333333333, \"#9c179e\"], [0.4444444444444444, \"#bd3786\"], [0.5555555555555556, \"#d8576b\"], [0.6666666666666666, \"#ed7953\"], [0.7777777777777778, \"#fb9f3a\"], [0.8888888888888888, \"#fdca26\"], [1.0, \"#f0f921\"]], \"type\": \"surface\"}], \"table\": [{\"cells\": {\"fill\": {\"color\": \"#EBF0F8\"}, \"line\": {\"color\": \"white\"}}, \"header\": {\"fill\": {\"color\": \"#C8D4E3\"}, \"line\": {\"color\": \"white\"}}, \"type\": \"table\"}]}, \"layout\": {\"annotationdefaults\": {\"arrowcolor\": \"#2a3f5f\", \"arrowhead\": 0, \"arrowwidth\": 1}, \"autotypenumbers\": \"strict\", \"coloraxis\": {\"colorbar\": {\"outlinewidth\": 0, \"ticks\": \"\"}}, \"colorscale\": {\"diverging\": [[0, \"#8e0152\"], [0.1, \"#c51b7d\"], [0.2, \"#de77ae\"], [0.3, \"#f1b6da\"], [0.4, \"#fde0ef\"], [0.5, \"#f7f7f7\"], [0.6, \"#e6f5d0\"], [0.7, \"#b8e186\"], [0.8, \"#7fbc41\"], [0.9, \"#4d9221\"], [1, \"#276419\"]], \"sequential\": [[0.0, \"#0d0887\"], [0.1111111111111111, \"#46039f\"], [0.2222222222222222, \"#7201a8\"], [0.3333333333333333, \"#9c179e\"], [0.4444444444444444, \"#bd3786\"], [0.5555555555555556, \"#d8576b\"], [0.6666666666666666, \"#ed7953\"], [0.7777777777777778, \"#fb9f3a\"], [0.8888888888888888, \"#fdca26\"], [1.0, \"#f0f921\"]], \"sequentialminus\": [[0.0, \"#0d0887\"], [0.1111111111111111, \"#46039f\"], [0.2222222222222222, \"#7201a8\"], [0.3333333333333333, \"#9c179e\"], [0.4444444444444444, \"#bd3786\"], [0.5555555555555556, \"#d8576b\"], [0.6666666666666666, \"#ed7953\"], [0.7777777777777778, \"#fb9f3a\"], [0.8888888888888888, \"#fdca26\"], [1.0, \"#f0f921\"]]}, \"colorway\": [\"#636efa\", \"#EF553B\", \"#00cc96\", \"#ab63fa\", \"#FFA15A\", \"#19d3f3\", \"#FF6692\", \"#B6E880\", \"#FF97FF\", \"#FECB52\"], \"font\": {\"color\": \"#2a3f5f\"}, \"geo\": {\"bgcolor\": \"white\", \"lakecolor\": \"white\", \"landcolor\": \"#E5ECF6\", \"showlakes\": true, \"showland\": true, \"subunitcolor\": \"white\"}, \"hoverlabel\": {\"align\": \"left\"}, \"hovermode\": \"closest\", \"mapbox\": {\"style\": \"light\"}, \"paper_bgcolor\": \"white\", \"plot_bgcolor\": \"#E5ECF6\", \"polar\": {\"angularaxis\": {\"gridcolor\": \"white\", \"linecolor\": \"white\", \"ticks\": \"\"}, \"bgcolor\": \"#E5ECF6\", \"radialaxis\": {\"gridcolor\": \"white\", \"linecolor\": \"white\", \"ticks\": \"\"}}, \"scene\": {\"xaxis\": {\"backgroundcolor\": \"#E5ECF6\", \"gridcolor\": \"white\", \"gridwidth\": 2, \"linecolor\": \"white\", \"showbackground\": true, \"ticks\": \"\", \"zerolinecolor\": \"white\"}, \"yaxis\": {\"backgroundcolor\": \"#E5ECF6\", \"gridcolor\": \"white\", \"gridwidth\": 2, \"linecolor\": \"white\", \"showbackground\": true, \"ticks\": \"\", \"zerolinecolor\": \"white\"}, \"zaxis\": {\"backgroundcolor\": \"#E5ECF6\", \"gridcolor\": \"white\", \"gridwidth\": 2, \"linecolor\": \"white\", \"showbackground\": true, \"ticks\": \"\", \"zerolinecolor\": \"white\"}}, \"shapedefaults\": {\"line\": {\"color\": \"#2a3f5f\"}}, \"ternary\": {\"aaxis\": {\"gridcolor\": \"white\", \"linecolor\": \"white\", \"ticks\": \"\"}, \"baxis\": {\"gridcolor\": \"white\", \"linecolor\": \"white\", \"ticks\": \"\"}, \"bgcolor\": \"#E5ECF6\", \"caxis\": {\"gridcolor\": \"white\", \"linecolor\": \"white\", \"ticks\": \"\"}}, \"title\": {\"x\": 0.05}, \"xaxis\": {\"automargin\": true, \"gridcolor\": \"white\", \"linecolor\": \"white\", \"ticks\": \"\", \"title\": {\"standoff\": 15}, \"zerolinecolor\": \"white\", \"zerolinewidth\": 2}, \"yaxis\": {\"automargin\": true, \"gridcolor\": \"white\", \"linecolor\": \"white\", \"ticks\": \"\", \"title\": {\"standoff\": 15}, \"zerolinecolor\": \"white\", \"zerolinewidth\": 2}}}, \"xaxis\": {\"anchor\": \"y\", \"domain\": [0.0, 1.0], \"title\": {\"text\": \"value\"}}, \"yaxis\": {\"anchor\": \"x\", \"domain\": [0.0, 1.0], \"title\": {\"text\": \"count\"}}},                        {\"responsive\": true}                    ).then(function(){\n",
       "                            \n",
       "var gd = document.getElementById('61fa26a0-ec61-455a-a328-6bd319303390');\n",
       "var x = new MutationObserver(function (mutations, observer) {{\n",
       "        var display = window.getComputedStyle(gd).display;\n",
       "        if (!display || display === 'none') {{\n",
       "            console.log([gd, 'removed!']);\n",
       "            Plotly.purge(gd);\n",
       "            observer.disconnect();\n",
       "        }}\n",
       "}});\n",
       "\n",
       "// Listen for the removal of the full notebook cells\n",
       "var notebookContainer = gd.closest('#notebook-container');\n",
       "if (notebookContainer) {{\n",
       "    x.observe(notebookContainer, {childList: true});\n",
       "}}\n",
       "\n",
       "// Listen for the clearing of the current output cell\n",
       "var outputEl = gd.closest('.output');\n",
       "if (outputEl) {{\n",
       "    x.observe(outputEl, {childList: true});\n",
       "}}\n",
       "\n",
       "                        })                };                });            </script>        </div>"
      ]
     },
     "metadata": {},
     "output_type": "display_data"
    }
   ],
   "source": [
    "px.histogram(lengths, nbins=25)"
   ]
  },
  {
   "cell_type": "code",
   "execution_count": null,
   "metadata": {},
   "outputs": [],
   "source": []
  },
  {
   "cell_type": "code",
   "execution_count": null,
   "metadata": {},
   "outputs": [],
   "source": []
  },
  {
   "cell_type": "code",
   "execution_count": null,
   "metadata": {},
   "outputs": [],
   "source": []
  },
  {
   "cell_type": "code",
   "execution_count": null,
   "metadata": {},
   "outputs": [],
   "source": []
  },
  {
   "cell_type": "code",
   "execution_count": null,
   "metadata": {},
   "outputs": [],
   "source": []
  },
  {
   "cell_type": "code",
   "execution_count": null,
   "metadata": {},
   "outputs": [],
   "source": []
  },
  {
   "cell_type": "code",
   "execution_count": null,
   "metadata": {},
   "outputs": [],
   "source": []
  },
  {
   "cell_type": "code",
   "execution_count": null,
   "metadata": {},
   "outputs": [],
   "source": []
  },
  {
   "cell_type": "code",
   "execution_count": null,
   "metadata": {},
   "outputs": [],
   "source": []
  },
  {
   "cell_type": "code",
   "execution_count": null,
   "metadata": {},
   "outputs": [],
   "source": []
  },
  {
   "cell_type": "code",
   "execution_count": null,
   "metadata": {},
   "outputs": [],
   "source": []
  },
  {
   "cell_type": "code",
   "execution_count": null,
   "metadata": {},
   "outputs": [],
   "source": []
  },
  {
   "cell_type": "code",
   "execution_count": null,
   "metadata": {},
   "outputs": [],
   "source": []
  }
 ],
 "metadata": {
  "kernelspec": {
   "display_name": "Python 3",
   "language": "python",
   "name": "python3"
  },
  "language_info": {
   "codemirror_mode": {
    "name": "ipython",
    "version": 3
   },
   "file_extension": ".py",
   "mimetype": "text/x-python",
   "name": "python",
   "nbconvert_exporter": "python",
   "pygments_lexer": "ipython3",
   "version": "3.8.5"
  }
 },
 "nbformat": 4,
 "nbformat_minor": 4
}
