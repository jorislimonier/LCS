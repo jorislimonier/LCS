{
 "cells": [
  {
   "cell_type": "code",
   "execution_count": null,
   "id": "obvious-trustee",
   "metadata": {},
   "outputs": [],
   "source": [
    "Pkg.add(\"StatsBase\")"
   ]
  },
  {
   "cell_type": "code",
   "execution_count": 3,
   "id": "ignored-wallet",
   "metadata": {},
   "outputs": [],
   "source": [
    "using Pkg\n",
    "using StatsBase\n",
    "using Random"
   ]
  },
  {
   "cell_type": "code",
   "execution_count": 5,
   "id": "heavy-pressing",
   "metadata": {},
   "outputs": [
    {
     "data": {
      "text/plain": [
       "6-element Vector{Any}:\n",
       " 1\n",
       " 0\n",
       " 1\n",
       " 0\n",
       " 0\n",
       " 1"
      ]
     },
     "execution_count": 5,
     "metadata": {},
     "output_type": "execute_result"
    }
   ],
   "source": [
    "Random.seed!(42)\n",
    "struct Sequence\n",
    "    length::Int\n",
    "    char::Vector{Any}\n",
    "end\n",
    "function generate_sequence(seq::Sequence)\n",
    "    sample(seq.char, seq.length)\n",
    "end    \n",
    "\n",
    "seq1 = Sequence(6, [0, 1])\n",
    "generate_sequence(seq1)"
   ]
  },
  {
   "cell_type": "code",
   "execution_count": null,
   "id": "canadian-disability",
   "metadata": {},
   "outputs": [],
   "source": []
  }
 ],
 "metadata": {
  "kernelspec": {
   "display_name": "Julia 1.6.0",
   "language": "julia",
   "name": "julia-1.6"
  },
  "language_info": {
   "file_extension": ".jl",
   "mimetype": "application/julia",
   "name": "julia",
   "version": "1.6.0"
  }
 },
 "nbformat": 4,
 "nbformat_minor": 5
}
