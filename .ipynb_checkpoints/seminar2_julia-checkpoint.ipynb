{
 "cells": [
  {
   "cell_type": "code",
   "execution_count": 1,
   "id": "grave-welsh",
   "metadata": {},
   "outputs": [],
   "source": [
    "using Pkg\n",
    "using StatsBase\n",
    "using Random\n",
    "using DataFrames"
   ]
  },
  {
   "cell_type": "code",
   "execution_count": 12,
   "id": "forty-biology",
   "metadata": {},
   "outputs": [
    {
     "name": "stdout",
     "output_type": "stream",
     "text": [
      "Any[1, 0, 1, 0, 0, 1]\n",
      "Any[0, 1, 1, 0, 1, 0]\n"
     ]
    },
    {
     "data": {
      "text/html": [
       "<table class=\"data-frame\"><thead><tr><th></th><th>x1</th><th>x2</th><th>x3</th><th>x4</th><th>x5</th><th>x6</th><th>x7</th></tr><tr><th></th><th>Int64</th><th>Int64</th><th>Int64</th><th>Int64</th><th>Int64</th><th>Int64</th><th>Int64</th></tr></thead><tbody><p>7 rows × 7 columns</p><tr><th>1</th><td>0</td><td>0</td><td>0</td><td>0</td><td>0</td><td>0</td><td>0</td></tr><tr><th>2</th><td>0</td><td>0</td><td>1</td><td>1</td><td>1</td><td>1</td><td>1</td></tr><tr><th>3</th><td>0</td><td>1</td><td>1</td><td>1</td><td>2</td><td>2</td><td>2</td></tr><tr><th>4</th><td>0</td><td>1</td><td>2</td><td>2</td><td>2</td><td>3</td><td>3</td></tr><tr><th>5</th><td>0</td><td>1</td><td>2</td><td>2</td><td>3</td><td>3</td><td>4</td></tr><tr><th>6</th><td>0</td><td>1</td><td>2</td><td>2</td><td>3</td><td>3</td><td>4</td></tr><tr><th>7</th><td>0</td><td>1</td><td>2</td><td>3</td><td>3</td><td>4</td><td>4</td></tr></tbody></table>"
      ],
      "text/latex": [
       "\\begin{tabular}{r|ccccccc}\n",
       "\t& x1 & x2 & x3 & x4 & x5 & x6 & x7\\\\\n",
       "\t\\hline\n",
       "\t& Int64 & Int64 & Int64 & Int64 & Int64 & Int64 & Int64\\\\\n",
       "\t\\hline\n",
       "\t1 & 0 & 0 & 0 & 0 & 0 & 0 & 0 \\\\\n",
       "\t2 & 0 & 0 & 1 & 1 & 1 & 1 & 1 \\\\\n",
       "\t3 & 0 & 1 & 1 & 1 & 2 & 2 & 2 \\\\\n",
       "\t4 & 0 & 1 & 2 & 2 & 2 & 3 & 3 \\\\\n",
       "\t5 & 0 & 1 & 2 & 2 & 3 & 3 & 4 \\\\\n",
       "\t6 & 0 & 1 & 2 & 2 & 3 & 3 & 4 \\\\\n",
       "\t7 & 0 & 1 & 2 & 3 & 3 & 4 & 4 \\\\\n",
       "\\end{tabular}\n"
      ],
      "text/plain": [
       "\u001b[1m7×7 DataFrame\u001b[0m\n",
       "\u001b[1m Row \u001b[0m│\u001b[1m x1    \u001b[0m\u001b[1m x2    \u001b[0m\u001b[1m x3    \u001b[0m\u001b[1m x4    \u001b[0m\u001b[1m x5    \u001b[0m\u001b[1m x6    \u001b[0m\u001b[1m x7    \u001b[0m\n",
       "\u001b[1m     \u001b[0m│\u001b[90m Int64 \u001b[0m\u001b[90m Int64 \u001b[0m\u001b[90m Int64 \u001b[0m\u001b[90m Int64 \u001b[0m\u001b[90m Int64 \u001b[0m\u001b[90m Int64 \u001b[0m\u001b[90m Int64 \u001b[0m\n",
       "─────┼─────────────────────────────────────────────────\n",
       "   1 │     0      0      0      0      0      0      0\n",
       "   2 │     0      0      1      1      1      1      1\n",
       "   3 │     0      1      1      1      2      2      2\n",
       "   4 │     0      1      2      2      2      3      3\n",
       "   5 │     0      1      2      2      3      3      4\n",
       "   6 │     0      1      2      2      3      3      4\n",
       "   7 │     0      1      2      3      3      4      4"
      ]
     },
     "execution_count": 12,
     "metadata": {},
     "output_type": "execute_result"
    }
   ],
   "source": [
    "Random.seed!(42)\n",
    "\n",
    "mutable struct Sequence\n",
    "    len::Int\n",
    "    char::Array{Any}\n",
    "end\n",
    "function generate_sequence(seq::Sequence)\n",
    "    sample(seq.char, seq.len)\n",
    "end\n",
    "# function find_lcs(X, Y)\n",
    "    \n",
    "# end\n",
    "\n",
    "len = 6\n",
    "char = [0, 1]\n",
    "\n",
    "X = generate_sequence(Sequence(len, char))\n",
    "Y = generate_sequence(Sequence(len, char))\n",
    "m = length(X)\n",
    "n = length(Y)\n",
    "T = zeros(Int, m+1, n+1)\n",
    "T[:] .= 999\n",
    "for i in 1:m+1\n",
    "    for j in 1:n+1\n",
    "        if i == 1 || j == 1\n",
    "           T[i, j] = 0\n",
    "        elseif X[i-1] == Y[j-1]\n",
    "            T[i, j] = T[i-1, j-1] + 1\n",
    "        else\n",
    "            T[i, j] = maximum([T[i-1, j], T[i, j-1]])\n",
    "        end\n",
    "    end\n",
    "end\n",
    "\n",
    "df_T = DataFrame(T)\n",
    "\n",
    "println(X)\n",
    "println(Y)\n",
    "df_T"
   ]
  },
  {
   "cell_type": "code",
   "execution_count": null,
   "id": "unsigned-naples",
   "metadata": {},
   "outputs": [],
   "source": []
  },
  {
   "cell_type": "code",
   "execution_count": null,
   "id": "advised-closure",
   "metadata": {},
   "outputs": [],
   "source": []
  },
  {
   "cell_type": "code",
   "execution_count": null,
   "id": "interested-variance",
   "metadata": {},
   "outputs": [],
   "source": []
  },
  {
   "cell_type": "code",
   "execution_count": null,
   "id": "psychological-treasurer",
   "metadata": {},
   "outputs": [],
   "source": []
  },
  {
   "cell_type": "code",
   "execution_count": null,
   "id": "increasing-fight",
   "metadata": {},
   "outputs": [],
   "source": []
  },
  {
   "cell_type": "code",
   "execution_count": null,
   "id": "appointed-listening",
   "metadata": {},
   "outputs": [],
   "source": []
  },
  {
   "cell_type": "code",
   "execution_count": null,
   "id": "supported-circuit",
   "metadata": {},
   "outputs": [],
   "source": []
  },
  {
   "cell_type": "code",
   "execution_count": null,
   "id": "metropolitan-uruguay",
   "metadata": {},
   "outputs": [],
   "source": []
  },
  {
   "cell_type": "code",
   "execution_count": null,
   "id": "animated-range",
   "metadata": {},
   "outputs": [],
   "source": []
  },
  {
   "cell_type": "code",
   "execution_count": null,
   "id": "close-journal",
   "metadata": {},
   "outputs": [],
   "source": []
  },
  {
   "cell_type": "code",
   "execution_count": null,
   "id": "responsible-anchor",
   "metadata": {},
   "outputs": [],
   "source": []
  },
  {
   "cell_type": "code",
   "execution_count": null,
   "id": "sufficient-bahrain",
   "metadata": {},
   "outputs": [],
   "source": []
  },
  {
   "cell_type": "code",
   "execution_count": null,
   "id": "brief-climb",
   "metadata": {},
   "outputs": [],
   "source": []
  }
 ],
 "metadata": {
  "kernelspec": {
   "display_name": "Julia 1.6.0",
   "language": "julia",
   "name": "julia-1.6"
  },
  "language_info": {
   "file_extension": ".jl",
   "mimetype": "application/julia",
   "name": "julia",
   "version": "1.6.0"
  }
 },
 "nbformat": 4,
 "nbformat_minor": 5
}
