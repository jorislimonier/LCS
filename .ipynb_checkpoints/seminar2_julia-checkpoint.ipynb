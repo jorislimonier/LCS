{
 "cells": [
  {
   "cell_type": "code",
   "execution_count": 1,
   "id": "headed-nature",
   "metadata": {},
   "outputs": [],
   "source": [
    "using Pkg\n",
    "using StatsBase\n",
    "using Random\n",
    "using DataFrames"
   ]
  },
  {
   "cell_type": "code",
   "execution_count": 155,
   "id": "worst-plastic",
   "metadata": {},
   "outputs": [
    {
     "name": "stdout",
     "output_type": "stream",
     "text": [
      "-----------\n",
      "lcs: \t Any[]\n",
      "i: 7, j: 7 --> decremented i\n",
      "(2 > 1)\n",
      "-----------\n",
      "lcs: \t Any[]\n",
      "i: 6, j: 7 --> decremented i\n",
      "(2 > 1)\n",
      "-----------\n",
      "lcs: \t Any[]\n",
      "i: 5, j: 7 --> decremented i\n",
      "(2 > 1)\n",
      "-----------\n",
      "lcs: \t Any[]\n",
      "i: 4, j: 7\n",
      "added: 1\n",
      "-----------\n",
      "lcs: \t Any[1]\n",
      "i: 3, j: 6 --> decremented j\n",
      "(0 ≤ 1)\n",
      "-----------\n",
      "lcs: \t Any[1]\n",
      "i: 3, j: 5\n",
      "added: 4\n",
      "-----------\n",
      "lcs: \t Any[4, 1]\n",
      "i: 2, j: 4 --> decremented j\n",
      "(0 ≤ 0)\n",
      "-----------\n",
      "lcs: \t Any[4, 1]\n",
      "i: 2, j: 3 --> decremented j\n",
      "(0 ≤ 0)\n",
      "-----------\n",
      "lcs: \t Any[4, 1]\n",
      "i: 2, j: 2 --> decremented j\n",
      "(0 ≤ 0)\n",
      "-----------\n",
      "lcs: Any[4, 1]\n",
      "  X: Any[5, 4, 1, 4, 3, 3]\n",
      "  Y: Any[2, 0, 2, 4, 2, 1]\n"
     ]
    },
    {
     "data": {
      "text/plain": [
       "7×7 Matrix{Int64}:\n",
       " 0  0  0  0  0  0  0\n",
       " 0  0  0  0  0  0  0\n",
       " 0  0  0  0  1  1  1\n",
       " 0  0  0  0  1  1  2\n",
       " 0  0  0  0  1  1  2\n",
       " 0  0  0  0  1  1  2\n",
       " 0  0  0  0  1  1  2"
      ]
     },
     "execution_count": 155,
     "metadata": {},
     "output_type": "execute_result"
    }
   ],
   "source": [
    "# Random.seed!(41)\n",
    "\n",
    "mutable struct Sequence\n",
    "    len::Int\n",
    "    char::Array{Any}\n",
    "end\n",
    "function generate_sequence(seq::Sequence)\n",
    "    sample(seq.char, seq.len)\n",
    "end\n",
    "# function find_lcs(X, Y)\n",
    "    \n",
    "# end\n",
    "\n",
    "len = 6\n",
    "char = [0, 1, 2, 3, 4, 5]\n",
    "\n",
    "X = generate_sequence(Sequence(len, char))\n",
    "Y = generate_sequence(Sequence(len, char))\n",
    "\n",
    "function lcs_table(X, Y)\n",
    "    # make table\n",
    "    m = length(X)\n",
    "    n = length(Y)\n",
    "    T = zeros(Int, m+1, n+1)\n",
    "    T[:] .= 999\n",
    "    for j in 1:m+1\n",
    "        for i in 1:n+1\n",
    "            if j == 1 || i == 1\n",
    "               T[i, j] = 0\n",
    "            elseif X[i-1] == Y[j-1]\n",
    "                T[i, j] = T[i-1, j-1] + 1\n",
    "            else\n",
    "                T[i, j] = maximum([T[i-1, j], T[i, j-1]])\n",
    "            end\n",
    "        end\n",
    "    end\n",
    "    return T\n",
    "end\n",
    "\n",
    "\n",
    "T = lcs_table(X, Y)\n",
    "\n",
    "m = size(T)[1]\n",
    "n = size(T)[2]\n",
    "\n",
    "index = T[m, n]\n",
    "lcs = Any[]\n",
    "\n",
    "i, j = n, m\n",
    "while i > 1 && j > 1\n",
    "    println(\"-----------\")\n",
    "    println(\"lcs: \\t $lcs\")\n",
    "    print(\"i: \", i, \", j: \", j)\n",
    "    if X[i-1] == Y[j-1]\n",
    "        prepend!(lcs, [X[i-1]])\n",
    "        println(\"\\nadded: $(X[i-1])\")\n",
    "        j -= 1\n",
    "        i -= 1\n",
    "    elseif T[i-1, j] > T[i, j-1]\n",
    "        println(\" --> decremented i\")\n",
    "        println(\"(\", T[i-1, j], \" > \", T[i, j-1], \")\")\n",
    "        i -= 1\n",
    "    else\n",
    "        println(\" --> decremented j\")\n",
    "        println(\"(\", T[i-1, j], \" ≤ \", T[i, j-1], \")\")\n",
    "        j -= 1\n",
    "    end\n",
    "end\n",
    "\n",
    "println(\"-----------\")\n",
    "println(\"lcs: \", lcs)\n",
    "println(\"  X: \", X)\n",
    "println(\"  Y: \", Y)\n",
    "T"
   ]
  },
  {
   "cell_type": "code",
   "execution_count": 154,
   "id": "opposite-leonard",
   "metadata": {},
   "outputs": [
    {
     "data": {
      "text/plain": [
       "2"
      ]
     },
     "execution_count": 154,
     "metadata": {},
     "output_type": "execute_result"
    }
   ],
   "source": [
    "T[7,4]"
   ]
  },
  {
   "cell_type": "code",
   "execution_count": 133,
   "id": "norwegian-intent",
   "metadata": {},
   "outputs": [
    {
     "data": {
      "text/plain": [
       "7×7 Matrix{Int64}:\n",
       " 0  0  0  0  0  0  0\n",
       " 0  0  0  0  1  1  1\n",
       " 0  0  1  1  1  1  1\n",
       " 0  0  1  1  2  2  2\n",
       " 0  0  1  1  2  3  3\n",
       " 0  0  1  2  2  3  3\n",
       " 0  0  1  2  2  3  3"
      ]
     },
     "execution_count": 133,
     "metadata": {},
     "output_type": "execute_result"
    }
   ],
   "source": [
    "T"
   ]
  },
  {
   "cell_type": "code",
   "execution_count": 140,
   "id": "ignored-platinum",
   "metadata": {},
   "outputs": [
    {
     "data": {
      "text/plain": [
       "2"
      ]
     },
     "execution_count": 140,
     "metadata": {},
     "output_type": "execute_result"
    }
   ],
   "source": [
    "T[7,5]"
   ]
  },
  {
   "cell_type": "code",
   "execution_count": null,
   "id": "wanted-facility",
   "metadata": {},
   "outputs": [],
   "source": []
  },
  {
   "cell_type": "code",
   "execution_count": null,
   "id": "civil-thong",
   "metadata": {},
   "outputs": [],
   "source": []
  },
  {
   "cell_type": "code",
   "execution_count": null,
   "id": "particular-customer",
   "metadata": {},
   "outputs": [],
   "source": []
  },
  {
   "cell_type": "code",
   "execution_count": null,
   "id": "superior-question",
   "metadata": {},
   "outputs": [],
   "source": []
  },
  {
   "cell_type": "code",
   "execution_count": null,
   "id": "postal-scanning",
   "metadata": {},
   "outputs": [],
   "source": []
  }
 ],
 "metadata": {
  "kernelspec": {
   "display_name": "Julia 1.6.0",
   "language": "julia",
   "name": "julia-1.6"
  },
  "language_info": {
   "file_extension": ".jl",
   "mimetype": "application/julia",
   "name": "julia",
   "version": "1.6.0"
  }
 },
 "nbformat": 4,
 "nbformat_minor": 5
}
